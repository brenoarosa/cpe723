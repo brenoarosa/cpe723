{
 "cells": [
  {
   "cell_type": "markdown",
   "metadata": {},
   "source": [
    "# Lista de Exercícios \\#6\n",
    "## Breno Vieira Arosa"
   ]
  },
  {
   "cell_type": "code",
   "execution_count": 1,
   "metadata": {
    "ExecuteTime": {
     "end_time": "2018-05-18T01:02:47.059174Z",
     "start_time": "2018-05-18T01:02:43.465671Z"
    }
   },
   "outputs": [],
   "source": [
    "import numpy as np\n",
    "import pandas as pd\n",
    "from scipy import stats\n",
    "\n",
    "from functools import partial\n",
    "\n",
    "import seaborn as sns\n",
    "import matplotlib.pyplot as plt\n",
    "import matplotlib.gridspec as gridspec"
   ]
  },
  {
   "cell_type": "code",
   "execution_count": 2,
   "metadata": {
    "ExecuteTime": {
     "end_time": "2018-05-18T01:02:47.067459Z",
     "start_time": "2018-05-18T01:02:47.062311Z"
    }
   },
   "outputs": [],
   "source": [
    "plt.rcParams.update({'font.size': 14})"
   ]
  },
  {
   "cell_type": "markdown",
   "metadata": {},
   "source": [
    "## Questão 1\n",
    "### Describe the main components necessary to add to a \"standard\" EA in order to tackle a multiobjective problem."
   ]
  },
  {
   "cell_type": "markdown",
   "metadata": {},
   "source": [
    "Para atingir bons resultados em problemas multi-objetivos é necessário obter soluções pertencentes ao ótimo de Pareto.\n",
    "O conjunto de ótimos de Pareto é definido pelo conjunto de soluções que não são dominadas por outras soluções, isto é, não possuem nenhuma solução na qual o valor de fitness de todos os objetivos são igual ou melhores que a própria.\n",
    "\n",
    "O primeiro, e mais simples, algoritmo evolucionário multi-objetivo é o VEGA.\n",
    "O VEGA consiste em separar a população em subpopulações e atribuir um objetivo a cada uma delas, a partir desse ponto o algoritmo evolucionário seguirá seu processo de busca ao ótimo desse objetivo.\n",
    "\n",
    "Porém, o VEGA é capaz de gerar soluções do conjunto de Pareto apenas por poucas gerações.\n",
    "Outras abordagens evolucionárias se voltaram ao problema multi-objetivo, separando-as em duas abordagens: elitistas e não-elitistas.\n",
    "\n",
    "Abordagens Não-Elitistas:\n",
    "- MOGA: Utiliza como fitness o número de indivíduos da população que um determinado indivíduo domina. \"Fitness sharing\" é utilizado para garantir a variedade de soluções.\n",
    "- NSGA: Utiliza o mesmo conceito que a MOGA porém divide a população em subpopulações baseadas em seu ranking. O fitness de cada subpopulação será determinado pelo número de índividuos em supopulações piores. Fitness sharing também é utilizado para garantir a variedade das soluções.\n",
    "- NPGA: Neste caso, se modifica o algoritmo de maneira que a seleção de pais é feita a partir de um torneio modificado para multi-objetivo. O torneio compara dois indivíduos considerando primeiro se um domina o outro e posteriormente o número de soluções parecidas na população.\n",
    "\n",
    "Abordagens Elitistas:  \n",
    "Podem ser obtidas a partir de algoritmos como o NSGA-II, SPEA-II e PAES.\n",
    "O algoritmo NSGA-II utiliza uma métrica de distância entre indivíduos.\n",
    "A seleção de sobreviventes a partir da soma das populações de pais e de filhos e a seleção é feita considerando a distância entre indivíduos.\n",
    "A seleção de pais, de forma semelhante, também leva em consideração a métrica de distância."
   ]
  },
  {
   "cell_type": "markdown",
   "metadata": {},
   "source": [
    "## Questão 2"
   ]
  },
  {
   "cell_type": "code",
   "execution_count": 3,
   "metadata": {
    "ExecuteTime": {
     "end_time": "2018-05-18T01:02:47.148920Z",
     "start_time": "2018-05-18T01:02:47.077885Z"
    }
   },
   "outputs": [],
   "source": [
    "def onemax(populacao):\n",
    "    return populacao.sum(axis=1)"
   ]
  },
  {
   "cell_type": "code",
   "execution_count": 4,
   "metadata": {
    "ExecuteTime": {
     "end_time": "2018-05-18T01:02:48.164182Z",
     "start_time": "2018-05-18T01:02:47.151989Z"
    }
   },
   "outputs": [],
   "source": [
    "class MemeticSGA(object):\n",
    "    \n",
    "    def __init__(self, binary_size, population_size,\n",
    "                 fitness_func, mutation_rate):\n",
    "        self.binary_size = binary_size\n",
    "        self.population_size = population_size\n",
    "        self.fitness_func = fitness_func\n",
    "        self.mutation_rate = mutation_rate\n",
    "        \n",
    "        self.population = self.init_population()\n",
    "    \n",
    "    \n",
    "    def repr_str2matrix(self, population):\n",
    "        \"\"\"\n",
    "        Represent population as a 2D matrix.\n",
    "        \"\"\"\n",
    "        arr = np.zeros((len(population), self.binary_size)).astype(\"uint8\")\n",
    "        for i, x in enumerate(sga.population):\n",
    "            arr[i, :] = np.array(list(x)).astype(\"uint8\")\n",
    "        return arr\n",
    "    \n",
    "    \n",
    "    def repr_matrix2str(self, population):\n",
    "        \"\"\"\n",
    "        Represent population as a vector of binary strings.\n",
    "        \"\"\"\n",
    "        population = population.astype(int)\n",
    "        matrix2str = lambda x: \"\".join(map(str, x))\n",
    "        return np.apply_along_axis(matrix2str, axis=1, arr=population)\n",
    "    \n",
    "    \n",
    "    def init_population(self):\n",
    "        \"\"\"\n",
    "        Initialize binary vectors.\n",
    "        \"\"\"\n",
    "        x0 = np.random.randint(low=0, high=2,\n",
    "                               size=(self.population_size, self.binary_size),\n",
    "                               dtype=\"uint8\")\n",
    "        return x0\n",
    "    \n",
    "    \n",
    "    def evaluate(self, population):\n",
    "        return self.fitness_func(population)\n",
    "    \n",
    "    \n",
    "    def mutate(self, rate):\n",
    "        \"\"\"\n",
    "        Bitwise Mutation.\n",
    "        \n",
    "        Mutate bits with given rate.\n",
    "        \"\"\"\n",
    "        population = self.population.copy().astype(bool)\n",
    "        mutation_rand = np.random.uniform(size=(self.population_size, self.binary_size))\n",
    "        \n",
    "        # invert bit if random sample < mutation rate\n",
    "        population[mutation_rand < rate] = ~population[mutation_rand < rate]\n",
    "        return population.astype(\"uint8\")\n",
    "    \n",
    "    \n",
    "    def recombine(self, parents):\n",
    "        \"\"\"\n",
    "        One-Point Crossover.\n",
    "        \n",
    "        The formation of pairs are randomized.\n",
    "        100% children are formed from recombination (crossover rate = 1).\n",
    "        The point of crossover is randomized for each pair.\n",
    "        Two children are created per pair of parents.\n",
    "        \"\"\"\n",
    "        \n",
    "        # shuffle parents before form pairs\n",
    "        parents = parents.copy()\n",
    "        np.random.shuffle(parents)\n",
    "        \n",
    "        # form pairs of parents\n",
    "        parents = parents.reshape(-1, 2, self.binary_size)\n",
    "                \n",
    "        # defines the multiplier pattern to match crossover\n",
    "        cross_multiplier = np.ones((parents.shape[0], 2, self.binary_size), dtype=\"uint8\")\n",
    "        for i in range(parents.shape[0]):\n",
    "            # defines the point of crossover\n",
    "            # there is no crossover if point equals 0 or (binary_size-1)\n",
    "            cross_idx = np.random.randint(low=1, high=(self.binary_size - 2))\n",
    "            cross_multiplier[i, 0, cross_idx:self.binary_size] = 0\n",
    "            cross_multiplier[i, 1, 0:cross_idx] = 0\n",
    "        \n",
    "        # multipliers parent pairs by crossover pattern and anti-pattern\n",
    "        # developing the same number of children as parents\n",
    "        children_top = (parents * cross_multiplier).sum(axis=1)\n",
    "        children_bot = (parents * (~cross_multiplier.astype(bool)).astype(\"uint8\")).sum(axis=1)\n",
    "        children = np.vstack((children_top, children_bot))\n",
    "        \n",
    "        return children\n",
    "\n",
    "                             \n",
    "    def parent_selection(self, s=1.5):\n",
    "        \"\"\"\n",
    "        Generational model.\n",
    "        Linear Ranking Selection with Roullete Wheel probabilities.\n",
    "        \"\"\"\n",
    "        \n",
    "        fitness = self.evaluate(self.population)\n",
    "        rank = stats.rankdata(fitness, \"ordinal\")\n",
    "        u = self.population_size     \n",
    "        \n",
    "        p = ((2 - s) / u) + ((2 * rank * (s-1)) / (u * (u - 1)))\n",
    "        p = p / p.sum()\n",
    "        \n",
    "        select_idx = np.random.choice(np.linspace(0, (u-1), u),\n",
    "                                      size=self.population_size,\n",
    "                                      replace=True, p=p).astype(int)\n",
    "\n",
    "        return self.population[select_idx, :]\n",
    "\n",
    "    \n",
    "    def natural_selection(self, parents, children, s=1.5):\n",
    "        \"\"\"\n",
    "        Fitness-Based Replacement.\n",
    "        Linear Ranking Selection with Roullete Wheel probabilities\n",
    "        \"\"\"\n",
    "        population = np.concatenate((parents, children))\n",
    "        \n",
    "        fitness = self.evaluate(population)\n",
    "        rank = stats.rankdata(fitness, \"ordinal\")\n",
    "        u = len(population)   \n",
    "        \n",
    "        p = ((2 - s) / u) + ((2 * rank * (s-1)) / (u * (u - 1)))\n",
    "        p = p / p.sum()\n",
    "        \n",
    "        select_idx = np.random.choice(np.linspace(0, (u-1), u),\n",
    "                                      size=self.population_size,\n",
    "                                      replace=True, p=p).astype(int)\n",
    "        \n",
    "        return population[select_idx, :]\n",
    "\n",
    "    \n",
    "    def local_seach(self, population, neigh_n=10):\n",
    "        \"\"\"\n",
    "        Bit-Flipping Local Search.\n",
    "        \"\"\"\n",
    "        \n",
    "        for i in range(self.population_size):\n",
    "            # create a neighborhood with copies of original individual\n",
    "            neighborhood = population[i, :].reshape(1, -1).repeat((neigh_n+1), axis=0)\n",
    "            # select bit positions to flip\n",
    "            bit_positions = np.random.choice(self.binary_size, size=(neigh_n), replace=False)\n",
    "            \n",
    "            # bit flipping\n",
    "            neighborhood[np.arange(1, neigh_n+1), bit_positions] += 1\n",
    "            neighborhood = neighborhood % 2\n",
    "            \n",
    "            # changes original individual by it best neighbor\n",
    "            fitness = self.evaluate(neighborhood)\n",
    "            population[i, :] = neighborhood[fitness.argmax(), :].copy()\n",
    "            \n",
    "        return population\n",
    "\n",
    "    \n",
    "    def evolve(self):\n",
    "        parents = self.parent_selection(s=1.5)\n",
    "        offspring = self.recombine(parents)\n",
    "        offspring = self.mutate(self.mutation_rate)\n",
    "        offspring = self.local_seach(offspring)\n",
    "        self.population = self.natural_selection(parents, offspring, s=1.5)\n",
    "        return"
   ]
  },
  {
   "cell_type": "code",
   "execution_count": 5,
   "metadata": {
    "ExecuteTime": {
     "end_time": "2018-05-18T01:02:48.632060Z",
     "start_time": "2018-05-18T01:02:48.168266Z"
    }
   },
   "outputs": [],
   "source": [
    "sga = MemeticSGA(binary_size=25, population_size=100,\n",
    "                 fitness_func=onemax, mutation_rate=1/25)"
   ]
  },
  {
   "cell_type": "code",
   "execution_count": 6,
   "metadata": {
    "ExecuteTime": {
     "end_time": "2018-05-18T01:02:50.308190Z",
     "start_time": "2018-05-18T01:02:48.633841Z"
    }
   },
   "outputs": [],
   "source": [
    "N = 100\n",
    "\n",
    "history = np.zeros((N, sga.population_size, sga.binary_size))\n",
    "for i in range(N):\n",
    "    history[i, :, :] = sga.population.copy()\n",
    "    sga.evolve()"
   ]
  },
  {
   "cell_type": "code",
   "execution_count": 7,
   "metadata": {
    "ExecuteTime": {
     "end_time": "2018-05-18T01:02:50.708182Z",
     "start_time": "2018-05-18T01:02:50.310182Z"
    }
   },
   "outputs": [
    {
     "data": {
      "image/png": "[encoded data removed]",
      "text/plain": [
       "<matplotlib.figure.Figure at 0x7f0e30749048>"
      ]
     },
     "metadata": {},
     "output_type": "display_data"
    }
   ],
   "source": [
    "history_mean = np.zeros((N))\n",
    "history_min = np.zeros((N))\n",
    "history_max = np.zeros((N))\n",
    "for i in range(N):\n",
    "    fitness = sga.evaluate(history[i, :, :])\n",
    "    fitness.std()\n",
    "    history_mean[i] = fitness.mean()\n",
    "    history_min[i] = fitness.min()\n",
    "    history_max[i] = fitness.max()\n",
    "\n",
    "plt.figure(figsize=(15, 6))\n",
    "\n",
    "#plt.fill_between(np.linspace(0, N-1, N), history_min, history_max, alpha=.2)\n",
    "plt.plot(np.linspace(0, N-1, N), history_mean)\n",
    "\n",
    "plt.ylabel(\"Fitness Médio\")\n",
    "plt.xlabel(\"Geração\")\n",
    "plt.grid(axis=\"y\")\n",
    "plt.tight_layout()\n",
    "plt.show()"
   ]
  }
 ],
 "metadata": {
  "kernelspec": {
   "display_name": "Python 3",
   "language": "python",
   "name": "python3"
  },
  "language_info": {
   "codemirror_mode": {
    "name": "ipython",
    "version": 3
   },
   "file_extension": ".py",
   "mimetype": "text/x-python",
   "name": "python",
   "nbconvert_exporter": "python",
   "pygments_lexer": "ipython3",
   "version": "3.6.3"
  }
 },
 "nbformat": 4,
 "nbformat_minor": 2
}
