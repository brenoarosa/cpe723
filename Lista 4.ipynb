{
 "cells": [
  {
   "cell_type": "markdown",
   "metadata": {},
   "source": [
    "# Lista de Exercícios \\#4\n",
    "## Breno Vieira Arosa"
   ]
  },
  {
   "cell_type": "code",
   "execution_count": 1,
   "metadata": {
    "ExecuteTime": {
     "end_time": "2018-04-24T23:40:18.846988Z",
     "start_time": "2018-04-24T23:40:17.808471Z"
    }
   },
   "outputs": [],
   "source": [
    "import numpy as np\n",
    "import pandas as pd\n",
    "from scipy import stats\n",
    "\n",
    "from sklearn.datasets import make_blobs\n",
    "from functools import partial\n",
    "\n",
    "import seaborn as sns\n",
    "import matplotlib.pyplot as plt\n",
    "import matplotlib.gridspec as gridspec"
   ]
  },
  {
   "cell_type": "code",
   "execution_count": 2,
   "metadata": {
    "ExecuteTime": {
     "end_time": "2018-04-24T23:40:18.852690Z",
     "start_time": "2018-04-24T23:40:18.849782Z"
    }
   },
   "outputs": [],
   "source": [
    "plt.rcParams.update({'font.size': 14})"
   ]
  },
  {
   "cell_type": "markdown",
   "metadata": {},
   "source": [
    "## Questão 1"
   ]
  },
  {
   "cell_type": "code",
   "execution_count": 3,
   "metadata": {
    "ExecuteTime": {
     "end_time": "2018-04-24T23:40:18.877146Z",
     "start_time": "2018-04-24T23:40:18.854931Z"
    }
   },
   "outputs": [],
   "source": [
    "def matrix2float(x, x_range=4, bias=-2):\n",
    "    \"\"\"\n",
    "    Transform binary matrix into float.\n",
    "    Floats range and bias are defined by parameters.\n",
    "    Floats are linearly separated.\n",
    "    \n",
    "    Axis 0 should have the length of the population size.\n",
    "    Axis 1 should have the length of bit precision.\n",
    "    \"\"\"\n",
    "    precision = x.shape[1]\n",
    "    \n",
    "    bit_multiplier = 2**np.linspace((precision-1), 0, precision)\n",
    "    x_int = np.matmul(x, bit_multiplier)\n",
    "    repr_eps = x_range / (2**precision)\n",
    "    x = repr_eps * x_int\n",
    "    x += bias\n",
    "    return x\n",
    "\n",
    "\n",
    "def J(x):\n",
    "    return ((x**2) - (.3 * np.cos(10 * np.pi * x)))\n",
    "\n",
    "\n",
    "def F(population):\n",
    "    population = matrix2float(population)\n",
    "    return -J(population)"
   ]
  },
  {
   "cell_type": "code",
   "execution_count": 4,
   "metadata": {
    "ExecuteTime": {
     "end_time": "2018-04-24T23:40:18.901184Z",
     "start_time": "2018-04-24T23:40:18.878464Z"
    }
   },
   "outputs": [
    {
     "name": "stdout",
     "output_type": "stream",
     "text": [
      "Teste de funçao auxiliar:\n",
      "x como binario:\n",
      "[[1 0 0 1 0 0 1 1]\n",
      " [1 1 1 1 0 1 0 0]\n",
      " [0 0 0 0 1 0 0 1]\n",
      " [1 0 0 0 0 1 1 0]\n",
      " [0 0 0 1 0 0 1 1]\n",
      " [1 1 0 0 0 0 1 0]]\n",
      "x como float:\n",
      "[ 0.296875  1.8125   -1.859375  0.09375  -1.703125  1.03125 ]\n"
     ]
    }
   ],
   "source": [
    "np.random.seed = 7\n",
    "x = np.random.randint(low=0, high=2,\n",
    "                      size=(6, 8),\n",
    "                      dtype=\"uint8\")\n",
    "print(f\"Teste de funçao auxiliar:\")\n",
    "print(f\"x como binario:\\n{x}\")\n",
    "print(f\"x como float:\\n{matrix2float(x)}\")"
   ]
  },
  {
   "cell_type": "code",
   "execution_count": null,
   "metadata": {},
   "outputs": [],
   "source": []
  },
  {
   "cell_type": "code",
   "execution_count": 5,
   "metadata": {
    "ExecuteTime": {
     "end_time": "2018-04-24T23:40:19.271279Z",
     "start_time": "2018-04-24T23:40:18.902637Z"
    }
   },
   "outputs": [],
   "source": [
    "class SGA(object):\n",
    "    \n",
    "    def __init__(self, binary_size, population_size,\n",
    "                 fitness_func, mutation_rate):\n",
    "        self.binary_size = binary_size\n",
    "        self.population_size = population_size\n",
    "        self.fitness_func = fitness_func\n",
    "        self.mutation_rate = mutation_rate\n",
    "        \n",
    "        self.population = self.init_population()\n",
    "    \n",
    "    \n",
    "    def repr_str2matrix(self, population):\n",
    "        \"\"\"\n",
    "        Represent population as a 2D matrix.\n",
    "        \"\"\"\n",
    "        arr = np.zeros((len(population), self.binary_size)).astype(\"uint8\")\n",
    "        for i, x in enumerate(sga.population):\n",
    "            arr[i, :] = np.array(list(x)).astype(\"uint8\")\n",
    "        return arr\n",
    "    \n",
    "    \n",
    "    def repr_matrix2str(self, population):\n",
    "        \"\"\"\n",
    "        Represent population as a vector of binary strings.\n",
    "        \"\"\"\n",
    "        population = population.astype(int)\n",
    "        matrix2str = lambda x: \"\".join(map(str, x))\n",
    "        return np.apply_along_axis(matrix2str, axis=1, arr=population)\n",
    "    \n",
    "    \n",
    "    def init_population(self):\n",
    "        \"\"\"\n",
    "        Initialize binary vectors.\n",
    "        \"\"\"\n",
    "        x0 = np.random.randint(low=0, high=2,\n",
    "                               size=(self.population_size, self.binary_size),\n",
    "                               dtype=\"uint8\")\n",
    "        return x0\n",
    "    \n",
    "    \n",
    "    def evaluate(self, population):\n",
    "        return self.fitness_func(population)\n",
    "    \n",
    "    \n",
    "    def mutate(self, rate):\n",
    "        \"\"\"\n",
    "        Bitwise Mutation.\n",
    "        \n",
    "        Mutate bits with given rate.\n",
    "        \"\"\"\n",
    "        population = self.population.copy().astype(bool)\n",
    "        mutation_rand = np.random.uniform(size=(self.population_size, self.binary_size))\n",
    "        \n",
    "        # invert bit if random sample < mutation rate\n",
    "        population[mutation_rand < rate] = ~population[mutation_rand < rate]\n",
    "        return population.astype(\"uint8\")\n",
    "    \n",
    "    \n",
    "    def recombine(self, parents):\n",
    "        \"\"\"\n",
    "        One-Point Crossover.\n",
    "        \n",
    "        The formation of pairs are randomized.\n",
    "        100% children are formed from recombination (crossover rate = 1).\n",
    "        The point of crossover is randomized for each pair.\n",
    "        Two children are created per pair of parents.\n",
    "        \"\"\"\n",
    "        \n",
    "        # shuffle parents before form pairs\n",
    "        parents = parents.copy()\n",
    "        np.random.shuffle(parents)\n",
    "        \n",
    "        # form pairs of parents\n",
    "        parents = parents.reshape(-1, 2, self.binary_size)\n",
    "                \n",
    "        # defines the multiplier pattern to match crossover\n",
    "        cross_multiplier = np.ones((parents.shape[0], 2, self.binary_size), dtype=\"uint8\")\n",
    "        for i in range(parents.shape[0]):\n",
    "            # defines the point of crossover\n",
    "            # there is no crossover if point equals 0 or (binary_size-1)\n",
    "            cross_idx = np.random.randint(low=1, high=(self.binary_size - 2))\n",
    "            cross_multiplier[i, 0, cross_idx:self.binary_size] = 0\n",
    "            cross_multiplier[i, 1, 0:cross_idx] = 0\n",
    "        \n",
    "        # multipliers parent pairs by crossover pattern and anti-pattern\n",
    "        # developing the same number of children as parents\n",
    "        children_top = (parents * cross_multiplier).sum(axis=1)\n",
    "        children_bot = (parents * (~cross_multiplier.astype(bool)).astype(\"uint8\")).sum(axis=1)\n",
    "        children = np.vstack((children_top, children_bot))\n",
    "        \n",
    "        return children\n",
    "\n",
    "                             \n",
    "    def parent_selection(self, s=1.5):\n",
    "        \"\"\"\n",
    "        Generational model.\n",
    "        Linear Ranking Selection with Roullete Wheel probabilities.\n",
    "        \"\"\"\n",
    "        \n",
    "        fitness = self.evaluate(self.population)\n",
    "        rank = stats.rankdata(fitness, \"ordinal\")\n",
    "        u = self.population_size     \n",
    "        \n",
    "        p = ((2 - s) / u) + ((2 * rank * (s-1)) / (u * (u - 1)))\n",
    "        p = p / p.sum()\n",
    "        \n",
    "        select_idx = np.random.choice(np.linspace(0, (u-1), u),\n",
    "                                      size=self.population_size,\n",
    "                                      replace=True, p=p).astype(int)\n",
    "\n",
    "        return self.population[select_idx, :]\n",
    "\n",
    "    \n",
    "    def natural_selection(self, parents, children, s=1.5):\n",
    "        \"\"\"\n",
    "        Fitness-Based Replacement.\n",
    "        Linear Ranking Selection with Roullete Wheel probabilities\n",
    "        \"\"\"\n",
    "        population = np.concatenate((parents, children))\n",
    "        \n",
    "        fitness = self.evaluate(population)\n",
    "        rank = stats.rankdata(fitness, \"ordinal\")\n",
    "        u = len(population)   \n",
    "        \n",
    "        p = ((2 - s) / u) + ((2 * rank * (s-1)) / (u * (u - 1)))\n",
    "        p = p / p.sum()\n",
    "        \n",
    "        select_idx = np.random.choice(np.linspace(0, (u-1), u),\n",
    "                                      size=self.population_size,\n",
    "                                      replace=True, p=p).astype(int)\n",
    "        \n",
    "        return population[select_idx, :]\n",
    "\n",
    "    \n",
    "    def evolve(self):\n",
    "        parents = self.parent_selection(s=1.5)\n",
    "        offspring = self.recombine(parents)\n",
    "        offspring = self.mutate(self.mutation_rate)\n",
    "        self.population = self.natural_selection(parents, offspring, s=1.5)\n",
    "        return"
   ]
  },
  {
   "cell_type": "code",
   "execution_count": 6,
   "metadata": {
    "ExecuteTime": {
     "end_time": "2018-04-24T23:40:19.291274Z",
     "start_time": "2018-04-24T23:40:19.273396Z"
    }
   },
   "outputs": [],
   "source": [
    "sga = SGA(binary_size=64, population_size=100,\n",
    "          fitness_func=F, mutation_rate=1/64)"
   ]
  },
  {
   "cell_type": "code",
   "execution_count": 7,
   "metadata": {
    "ExecuteTime": {
     "end_time": "2018-04-24T23:40:19.734000Z",
     "start_time": "2018-04-24T23:40:19.293029Z"
    }
   },
   "outputs": [],
   "source": [
    "N = 200\n",
    "\n",
    "history = np.zeros((N, sga.population_size, sga.binary_size))\n",
    "for i in range(N):\n",
    "    history[i, :, :] = sga.population.copy()\n",
    "    sga.evolve()"
   ]
  },
  {
   "cell_type": "code",
   "execution_count": 8,
   "metadata": {
    "ExecuteTime": {
     "end_time": "2018-04-24T23:40:20.060529Z",
     "start_time": "2018-04-24T23:40:19.736276Z"
    }
   },
   "outputs": [
    {
     "data": {
      "image/png": "[encoded data removed]",
      "text/plain": [
       "<Figure size 1080x432 with 1 Axes>"
      ]
     },
     "metadata": {},
     "output_type": "display_data"
    }
   ],
   "source": [
    "history_mean = np.zeros((N))\n",
    "history_min = np.zeros((N))\n",
    "history_max = np.zeros((N))\n",
    "for i in range(N):\n",
    "    fitness = sga.evaluate(history[i, :, :])\n",
    "    fitness.std()\n",
    "    history_mean[i] = fitness.mean()\n",
    "    history_min[i] = fitness.min()\n",
    "    history_max[i] = fitness.max()\n",
    "\n",
    "plt.figure(figsize=(15, 6))\n",
    "\n",
    "#plt.fill_between(np.linspace(0, N-1, N), history_min, history_max, alpha=.2)\n",
    "plt.plot(np.linspace(0, N-1, N), history_mean)\n",
    "\n",
    "plt.ylabel(\"Fitness Médio\")\n",
    "plt.xlabel(\"Geração\")\n",
    "plt.grid(axis=\"y\")\n",
    "plt.tight_layout()\n",
    "plt.show()"
   ]
  },
  {
   "cell_type": "code",
   "execution_count": 9,
   "metadata": {
    "ExecuteTime": {
     "end_time": "2018-04-24T23:40:20.300038Z",
     "start_time": "2018-04-24T23:40:20.062122Z"
    }
   },
   "outputs": [
    {
     "data": {
      "image/png": "[encoded data removed]",
      "text/plain": [
       "<Figure size 1080x432 with 1 Axes>"
      ]
     },
     "metadata": {},
     "output_type": "display_data"
    }
   ],
   "source": [
    "plt.figure(figsize=(15, 6))\n",
    "\n",
    "population = matrix2float(sga.population)\n",
    "\n",
    "x = np.linspace(-2, 2, 5000)\n",
    "plt.plot(x, J(x))\n",
    "plt.scatter(population, J(population), c=\"r\", label=\"População\")\n",
    "plt.ylabel(\"Custo\")\n",
    "plt.legend()\n",
    "plt.tight_layout()\n",
    "plt.show()"
   ]
  },
  {
   "cell_type": "markdown",
   "metadata": {},
   "source": [
    "## Questão 2"
   ]
  },
  {
   "cell_type": "code",
   "execution_count": 10,
   "metadata": {
    "ExecuteTime": {
     "end_time": "2018-04-24T23:40:20.304335Z",
     "start_time": "2018-04-24T23:40:20.301867Z"
    }
   },
   "outputs": [],
   "source": [
    "def onemax(populacao):\n",
    "    return populacao.sum(axis=1)"
   ]
  },
  {
   "cell_type": "code",
   "execution_count": 11,
   "metadata": {
    "ExecuteTime": {
     "end_time": "2018-04-24T23:40:20.323675Z",
     "start_time": "2018-04-24T23:40:20.306286Z"
    }
   },
   "outputs": [],
   "source": [
    "# alterar parent selection\n",
    "# alterar recombination (pc = .7)\n",
    "# survival -> pure generational\n",
    "sga = SGA(binary_size=25, population_size=100,\n",
    "          fitness_func=onemax, mutation_rate=1/25)"
   ]
  },
  {
   "cell_type": "code",
   "execution_count": 12,
   "metadata": {
    "ExecuteTime": {
     "end_time": "2018-04-24T23:40:20.413404Z",
     "start_time": "2018-04-24T23:40:20.325959Z"
    }
   },
   "outputs": [],
   "source": [
    "N = 100\n",
    "\n",
    "history = np.zeros((N, sga.population_size, sga.binary_size))\n",
    "for i in range(N):\n",
    "    history[i, :, :] = sga.population.copy()\n",
    "    sga.evolve()"
   ]
  },
  {
   "cell_type": "code",
   "execution_count": 13,
   "metadata": {
    "ExecuteTime": {
     "end_time": "2018-04-24T23:40:20.646297Z",
     "start_time": "2018-04-24T23:40:20.415566Z"
    }
   },
   "outputs": [
    {
     "data": {
      "image/png": "[encoded data removed]",
      "text/plain": [
       "<Figure size 1080x432 with 1 Axes>"
      ]
     },
     "metadata": {},
     "output_type": "display_data"
    }
   ],
   "source": [
    "history_mean = np.zeros((N))\n",
    "history_min = np.zeros((N))\n",
    "history_max = np.zeros((N))\n",
    "for i in range(N):\n",
    "    fitness = sga.evaluate(history[i, :, :])\n",
    "    fitness.std()\n",
    "    history_mean[i] = fitness.mean()\n",
    "    history_min[i] = fitness.min()\n",
    "    history_max[i] = fitness.max()\n",
    "\n",
    "plt.figure(figsize=(15, 6))\n",
    "\n",
    "#plt.fill_between(np.linspace(0, N-1, N), history_min, history_max, alpha=.2)\n",
    "plt.plot(np.linspace(0, N-1, N), history_mean)\n",
    "\n",
    "plt.ylabel(\"Fitness Médio\")\n",
    "plt.xlabel(\"Geração\")\n",
    "plt.grid(axis=\"y\")\n",
    "plt.tight_layout()\n",
    "plt.show()"
   ]
  },
  {
   "cell_type": "code",
   "execution_count": 14,
   "metadata": {
    "ExecuteTime": {
     "end_time": "2018-04-24T23:40:20.654295Z",
     "start_time": "2018-04-24T23:40:20.648154Z"
    }
   },
   "outputs": [
    {
     "data": {
      "text/plain": [
       "array(['1111011111111111111111111', '1111111111111011110111111',\n",
       "       '1111111111111111111111111', '1111111111111111111111111',\n",
       "       '1111111111111111111111111', '1111111111111111111111111',\n",
       "       '1111111111111011110111111', '1111111111111111111111111',\n",
       "       '1111111111111111111111111', '1111111111111111111111011',\n",
       "       '0111111111111111111111111', '1111111111111111111111110',\n",
       "       '1111111110010111111111111', '1111111111111111111011111',\n",
       "       '1111111111111111111111111', '1111111111111111111111111',\n",
       "       '1111111111111111111111111', '1111111111111111111111111',\n",
       "       '1111111111111111111111111', '1111111111111111111111111',\n",
       "       '1111111111111011111111111', '1111111111111111111111111',\n",
       "       '1111111111111111111111111', '1111111110111101111011111',\n",
       "       '1111111111111111111111111', '1111111111111111111111111',\n",
       "       '1111111111111101111111111', '1111111111111111111111111',\n",
       "       '1011111111111111111110111', '1111111111111111111111111',\n",
       "       '1111111111111111111011111', '1111111111111111111111111',\n",
       "       '1111111111111111111011111', '1111111110111111111111111',\n",
       "       '1111111111111111111111111', '1111111111111111111111111',\n",
       "       '1111111111111111111111111', '1111111111111111111111111',\n",
       "       '1111111111110111111111111', '1111101111111111111111111',\n",
       "       '1111111111111111111111111', '1111111111111111110111111',\n",
       "       '1111111111111111111111111', '1111111111111111111111111',\n",
       "       '1111111111111111111111111', '1111111111111111111111111',\n",
       "       '1111111111111111111111111', '1111111111111111111111111',\n",
       "       '1111111111111111111111111', '1111111111111111111111111',\n",
       "       '1111111111111111101111111', '1111111111111111111111111',\n",
       "       '1111111111111111111111111', '1111111111111111111101101',\n",
       "       '1111111111111111111111111', '1111111111111111111111111',\n",
       "       '1111111111111111111111111', '1111111111111111111111111',\n",
       "       '1111111111111111111110111', '1111111111111111111101111',\n",
       "       '1111111111111111111111111', '1111111111111111111111111',\n",
       "       '1111111111111111111111111', '1111111111111111111111111',\n",
       "       '1111111111111111111111111', '0111111111111111111111111',\n",
       "       '1111111111111111111111111', '1111111111011111111111111',\n",
       "       '1111111101111111111111101', '1111111111111111111111111',\n",
       "       '1111111111111011110111111', '1111111111111111111111111',\n",
       "       '1111011111111111101111111', '1111011111111111111111111',\n",
       "       '1111111111111111111111101', '1111111111111111111111111',\n",
       "       '1111111111111111111011111', '1111111111111111111111111',\n",
       "       '1111111111011111111101111', '1111111111111111111111111',\n",
       "       '1111111111011111111111111', '1111111111111111111111111',\n",
       "       '1111111111111011111111011', '1111111101111111100111111',\n",
       "       '1111111111111111111111111', '1111111111111110111111111',\n",
       "       '1111111111111111111111111', '1011111111111111111111111',\n",
       "       '1111111111111111111111111', '1111111111111111111111111',\n",
       "       '1111111111111111111111111', '1111011111111111111111111',\n",
       "       '0111111111111111111111111', '1111111111111111111111111',\n",
       "       '1111111111111111111111111', '1111111111111111111111111',\n",
       "       '1111111111111111111111101', '1111101111111111111111111',\n",
       "       '1111111111111111111111111', '1111111111111111111111111'],\n",
       "      dtype='<U25')"
      ]
     },
     "execution_count": 14,
     "metadata": {},
     "output_type": "execute_result"
    }
   ],
   "source": [
    "sga.repr_matrix2str(sga.population)"
   ]
  },
  {
   "cell_type": "markdown",
   "metadata": {},
   "source": [
    "## Questão 3"
   ]
  },
  {
   "cell_type": "code",
   "execution_count": 311,
   "metadata": {
    "ExecuteTime": {
     "end_time": "2018-04-26T01:54:32.155067Z",
     "start_time": "2018-04-26T01:54:31.855479Z"
    }
   },
   "outputs": [],
   "source": [
    "class ES(object):\n",
    "    \n",
    "    def __init__(self, individual_dimension, population_size, fitness_func):\n",
    "        self.population_size = population_size\n",
    "        self.individual_dimension = individual_dimension\n",
    "        self.fitness_func = fitness_func\n",
    "        \n",
    "        self.population = self.init_population()\n",
    "    \n",
    "    \n",
    "    def init_population(self):\n",
    "        \"\"\"\n",
    "        Initialize binary vectors.\n",
    "        \"\"\"\n",
    "        \n",
    "        population = pd.DataFrame()\n",
    "        \n",
    "        #x0 = np.random.normal(loc=0, scale=1, size=(self.population_size, self.individual_dimension))\n",
    "        x0 = np.random.uniform(low=-30, high=30, size=(self.population_size, self.individual_dimension))\n",
    "        sigma0 = np.random.uniform(low=0, high=1, size=(self.population_size, self.individual_dimension))\n",
    "        return {\"x\": x0, \"sigma\": sigma0}\n",
    "    \n",
    "    \n",
    "    def evaluate(self, x):\n",
    "        return -self.fitness_func(x)\n",
    "    \n",
    "    \n",
    "    def mutate(self, population, tal_constant=1., sigma_eps=0.01):\n",
    "        \"\"\"\n",
    "        Uncorrelated Mutation with n Steps.\n",
    "        \"\"\"\n",
    "        \n",
    "        n = population[\"x\"].shape[0]\n",
    "        \n",
    "        tal = tal_constant * 1 / np.sqrt(2 * np.sqrt(n))\n",
    "        tal_line = tal_constant * 1 / np.sqrt(2 * n)\n",
    "                \n",
    "        sigma = population[\"sigma\"] * \\\n",
    "                    np.exp(np.random.normal(loc=0, scale=tal, size=(n, self.individual_dimension)) + \\\n",
    "                           np.random.normal(loc=0, scale=tal_line, size=(n, 1)))\n",
    "        sigma[sigma < sigma_eps] = sigma_eps\n",
    "        \n",
    "        x = population[\"x\"] + np.random.normal(loc=0, scale=sigma)\n",
    "        \n",
    "        return {\"x\": x, \"sigma\": sigma}\n",
    "    \n",
    "    \n",
    "    def recombine(self, parents):\n",
    "        \"\"\"\n",
    "        Local Recombination.\n",
    "        \n",
    "        Discrete is used for the object part.\n",
    "        Intermediate is used for the strategy part.\n",
    "        \"\"\"\n",
    "        \n",
    "        parents = parents.copy()\n",
    "        \n",
    "        # shuffle parents\n",
    "        n_parents = parents[\"x\"].shape[0]\n",
    "        idx_shuffled = np.random.permutation(n_parents)\n",
    "        \n",
    "        parents[\"x\"] = parents[\"x\"][idx_shuffled, :]\n",
    "        parents[\"sigma\"] = parents[\"sigma\"][idx_shuffled, :]\n",
    "        \n",
    "        # form pairs of parents\n",
    "        parents[\"x\"] = parents[\"x\"].reshape(-1, 2, self.individual_dimension)\n",
    "        parents[\"sigma\"] = parents[\"sigma\"].reshape(-1, 2, self.individual_dimension)\n",
    "        \n",
    "        \n",
    "        x_pattern = np.zeros(parents[\"x\"].shape).astype(bool)\n",
    "        x_pattern[:, 0, :] = np.random.randint(low=0, high=2, size=x_pattern[:, 0, :].shape).astype(bool)\n",
    "        x_pattern[:, 1, :] = ~x_pattern[:, 0, :]\n",
    "        x_pattern = x_pattern.astype(\"uint8\")\n",
    "        \n",
    "        x = (parents[\"x\"] * x_pattern).sum(axis=1)\n",
    "        sigma = parents[\"sigma\"].mean(axis=1)\n",
    "        \n",
    "        return {\"x\": x, \"sigma\": sigma}\n",
    "\n",
    "                             \n",
    "    def parent_selection(self, offspring_rate=5):\n",
    "        \"\"\"\n",
    "        Parent Selection.\n",
    "        \n",
    "        Sample uniformly (2 * offspring_rate * population_size) individuals.\n",
    "        This will result in the creation of a offspring population with\n",
    "        offspring_rate * population_size) individuals.\n",
    "        \"\"\"\n",
    "        \n",
    "        n_parents = 2 * offspring_rate * self.population_size\n",
    "        select_idx = np.random.choice(self.population_size, size=n_parents, replace=True)\n",
    "        \n",
    "        x = self.population[\"x\"][select_idx, :]\n",
    "        sigma = self.population[\"sigma\"][select_idx, :]\n",
    "\n",
    "        return {\"x\": x, \"sigma\": sigma}\n",
    "\n",
    "    \n",
    "    def natural_selection(self, population):\n",
    "        \"\"\"\n",
    "        Comma Selection.\n",
    "        \"\"\"\n",
    "        \n",
    "        fitness = self.evaluate(population[\"x\"])\n",
    "        \n",
    "        # get indices of best (population_size) individuals\n",
    "        idx = np.argpartition(fitness, -self.population_size)[-self.population_size:]\n",
    "        x = population[\"x\"][idx]\n",
    "        sigma = population[\"sigma\"][idx]\n",
    "        \n",
    "        return {\"x\": x, \"sigma\": sigma}\n",
    "\n",
    "    \n",
    "    def evolve(self):\n",
    "        parents = self.parent_selection()\n",
    "        offspring = self.recombine(parents)\n",
    "        offspring = self.mutate(offspring)\n",
    "        self.population = self.natural_selection(offspring)\n",
    "        return"
   ]
  },
  {
   "cell_type": "code",
   "execution_count": null,
   "metadata": {},
   "outputs": [],
   "source": []
  },
  {
   "cell_type": "code",
   "execution_count": 312,
   "metadata": {
    "ExecuteTime": {
     "end_time": "2018-04-26T01:54:35.934053Z",
     "start_time": "2018-04-26T01:54:35.929357Z"
    }
   },
   "outputs": [],
   "source": [
    "def ackley(x):\n",
    "    a = np.sqrt((x**2).mean(axis=1))\n",
    "    b = (np.cos(2 * np.pi * x)).mean(axis=1)\n",
    "    \n",
    "    return -20 * np.exp(-.2 * a) - np.exp(b) + 20 + np.e"
   ]
  },
  {
   "cell_type": "code",
   "execution_count": 330,
   "metadata": {
    "ExecuteTime": {
     "end_time": "2018-04-26T01:57:49.029025Z",
     "start_time": "2018-04-26T01:57:49.026096Z"
    }
   },
   "outputs": [],
   "source": [
    "es = ES(30, 30, ackley)"
   ]
  },
  {
   "cell_type": "code",
   "execution_count": 331,
   "metadata": {
    "ExecuteTime": {
     "end_time": "2018-04-26T01:57:49.511849Z",
     "start_time": "2018-04-26T01:57:49.507173Z"
    }
   },
   "outputs": [
    {
     "data": {
      "text/plain": [
       "array([17.6494549 , 18.68930985, 16.89568402, 15.50257092, 15.08059871,\n",
       "       19.41241152, 14.63594047, 17.79851876, 17.84119755, 16.03414191,\n",
       "       14.78256195, 15.78934956, 14.73086037, 17.13582073, 17.42040801,\n",
       "       17.48970179, 17.19129079, 16.60931457, 15.99548245, 17.17811885,\n",
       "       16.00451707, 15.39680755, 15.93275397, 16.09765198, 14.44165425,\n",
       "       17.71404189, 16.28375064, 17.89836326, 19.5467683 , 15.55753276])"
      ]
     },
     "execution_count": 331,
     "metadata": {},
     "output_type": "execute_result"
    }
   ],
   "source": [
    "es.population[\"x\"].std(axis=1)"
   ]
  },
  {
   "cell_type": "code",
   "execution_count": 332,
   "metadata": {
    "ExecuteTime": {
     "end_time": "2018-04-26T01:57:52.041917Z",
     "start_time": "2018-04-26T01:57:51.048756Z"
    }
   },
   "outputs": [],
   "source": [
    "for _ in range(1000):\n",
    "    es.evolve()"
   ]
  },
  {
   "cell_type": "code",
   "execution_count": 333,
   "metadata": {
    "ExecuteTime": {
     "end_time": "2018-04-26T01:57:52.474382Z",
     "start_time": "2018-04-26T01:57:52.469218Z"
    }
   },
   "outputs": [
    {
     "data": {
      "text/plain": [
       "array([ 0.00069981,  0.00597795,  0.00727908, -0.00724584,  0.0002943 ,\n",
       "        0.00182091,  0.0069216 , -0.00548862, -0.00726255,  0.00929981,\n",
       "        0.01343728,  0.00030809,  0.00839378,  0.00147151, -0.00081012,\n",
       "       -0.00034806, -0.00070244, -0.00078614, -0.00378078,  0.00164771,\n",
       "       -0.00087264,  0.00469525, -0.00602046,  0.00102589, -0.00055009,\n",
       "        0.00178426,  0.00769759, -0.0084566 , -0.00276269,  0.00273616])"
      ]
     },
     "execution_count": 333,
     "metadata": {},
     "output_type": "execute_result"
    }
   ],
   "source": [
    "es.population[\"x\"].mean(axis=1)"
   ]
  },
  {
   "cell_type": "code",
   "execution_count": 334,
   "metadata": {
    "ExecuteTime": {
     "end_time": "2018-04-26T01:57:53.750513Z",
     "start_time": "2018-04-26T01:57:53.746395Z"
    }
   },
   "outputs": [
    {
     "data": {
      "text/plain": [
       "array([0.02711919, 0.02595119, 0.0255462 , 0.02585784, 0.02651376,\n",
       "       0.02628854, 0.0241729 , 0.02508611, 0.02519842, 0.02411352,\n",
       "       0.02268714, 0.02520355, 0.02399556, 0.02622621, 0.02514622,\n",
       "       0.02485499, 0.02469873, 0.02428886, 0.0239469 , 0.02403303,\n",
       "       0.02370806, 0.02353022, 0.02155143, 0.02252171, 0.02286726,\n",
       "       0.02276229, 0.02217478, 0.0222579 , 0.02229483, 0.02172084])"
      ]
     },
     "execution_count": 334,
     "metadata": {},
     "output_type": "execute_result"
    }
   ],
   "source": [
    "es.population[\"x\"].std(axis=1)"
   ]
  },
  {
   "cell_type": "code",
   "execution_count": 326,
   "metadata": {
    "ExecuteTime": {
     "end_time": "2018-04-26T01:56:44.616623Z",
     "start_time": "2018-04-26T01:56:44.577965Z"
    }
   },
   "outputs": [],
   "source": [
    "%load_ext line_profiler"
   ]
  },
  {
   "cell_type": "code",
   "execution_count": 329,
   "metadata": {
    "ExecuteTime": {
     "end_time": "2018-04-26T01:57:29.818372Z",
     "start_time": "2018-04-26T01:57:29.809232Z"
    }
   },
   "outputs": [],
   "source": [
    "%lprun -f es.mutate es.evolve()"
   ]
  },
  {
   "cell_type": "code",
   "execution_count": null,
   "metadata": {},
   "outputs": [],
   "source": []
  }
 ],
 "metadata": {
  "kernelspec": {
   "display_name": "Python 3",
   "language": "python",
   "name": "python3"
  },
  "language_info": {
   "codemirror_mode": {
    "name": "ipython",
    "version": 3
   },
   "file_extension": ".py",
   "mimetype": "text/x-python",
   "name": "python",
   "nbconvert_exporter": "python",
   "pygments_lexer": "ipython3",
   "version": "3.6.3"
  }
 },
 "nbformat": 4,
 "nbformat_minor": 2
}
