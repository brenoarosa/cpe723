{
 "cells": [
  {
   "cell_type": "markdown",
   "metadata": {},
   "source": [
    "# Lista de Exercícios \\#4\n",
    "## Breno Vieira Arosa"
   ]
  },
  {
   "cell_type": "code",
   "execution_count": 1,
   "metadata": {
    "ExecuteTime": {
     "end_time": "2018-05-02T00:07:36.658107Z",
     "start_time": "2018-05-02T00:07:36.076015Z"
    }
   },
   "outputs": [],
   "source": [
    "import numpy as np\n",
    "import pandas as pd\n",
    "from scipy import stats\n",
    "\n",
    "from functools import partial\n",
    "\n",
    "import seaborn as sns\n",
    "import matplotlib.pyplot as plt\n",
    "import matplotlib.gridspec as gridspec"
   ]
  },
  {
   "cell_type": "code",
   "execution_count": 2,
   "metadata": {
    "ExecuteTime": {
     "end_time": "2018-05-02T00:07:36.662787Z",
     "start_time": "2018-05-02T00:07:36.660272Z"
    }
   },
   "outputs": [],
   "source": [
    "plt.rcParams.update({'font.size': 14})"
   ]
  },
  {
   "cell_type": "markdown",
   "metadata": {},
   "source": [
    "## Questão 1"
   ]
  },
  {
   "cell_type": "code",
   "execution_count": 3,
   "metadata": {
    "ExecuteTime": {
     "end_time": "2018-05-02T00:07:36.707438Z",
     "start_time": "2018-05-02T00:07:36.664152Z"
    }
   },
   "outputs": [],
   "source": [
    "def matrix2float(x, x_range=4, bias=-2):\n",
    "    \"\"\"\n",
    "    Transform binary matrix into float.\n",
    "    Floats range and bias are defined by parameters.\n",
    "    Floats are linearly separated.\n",
    "    \n",
    "    Axis 0 should have the length of the population size.\n",
    "    Axis 1 should have the length of bit precision.\n",
    "    \"\"\"\n",
    "    precision = x.shape[1]\n",
    "    \n",
    "    bit_multiplier = 2**np.linspace((precision-1), 0, precision)\n",
    "    x_int = np.matmul(x, bit_multiplier)\n",
    "    repr_eps = x_range / (2**precision)\n",
    "    x = repr_eps * x_int\n",
    "    x += bias\n",
    "    return x\n",
    "\n",
    "\n",
    "def J(x):\n",
    "    return ((x**2) - (.3 * np.cos(10 * np.pi * x)))\n",
    "\n",
    "\n",
    "def F(population):\n",
    "    population = matrix2float(population)\n",
    "    return -J(population)"
   ]
  },
  {
   "cell_type": "code",
   "execution_count": 4,
   "metadata": {
    "ExecuteTime": {
     "end_time": "2018-05-02T00:07:36.731140Z",
     "start_time": "2018-05-02T00:07:36.708865Z"
    }
   },
   "outputs": [
    {
     "name": "stdout",
     "output_type": "stream",
     "text": [
      "Teste de funçao auxiliar:\n",
      "x como binario:\n",
      "[[1 1 1 1 1 0 1 0]\n",
      " [0 0 0 0 0 0 0 0]\n",
      " [0 1 1 0 0 0 1 1]\n",
      " [1 1 1 0 1 1 1 0]\n",
      " [1 1 1 0 1 1 0 1]\n",
      " [1 0 1 1 1 1 1 0]]\n",
      "x como float:\n",
      "[ 1.90625  -2.       -0.453125  1.71875   1.703125  0.96875 ]\n"
     ]
    }
   ],
   "source": [
    "np.random.seed = 7\n",
    "x = np.random.randint(low=0, high=2,\n",
    "                      size=(6, 8),\n",
    "                      dtype=\"uint8\")\n",
    "print(f\"Teste de funçao auxiliar:\")\n",
    "print(f\"x como binario:\\n{x}\")\n",
    "print(f\"x como float:\\n{matrix2float(x)}\")"
   ]
  },
  {
   "cell_type": "code",
   "execution_count": null,
   "metadata": {},
   "outputs": [],
   "source": []
  },
  {
   "cell_type": "code",
   "execution_count": 5,
   "metadata": {
    "ExecuteTime": {
     "end_time": "2018-05-02T00:07:37.090413Z",
     "start_time": "2018-05-02T00:07:36.732732Z"
    }
   },
   "outputs": [],
   "source": [
    "class SGA(object):\n",
    "    \n",
    "    def __init__(self, binary_size, population_size,\n",
    "                 fitness_func, mutation_rate):\n",
    "        self.binary_size = binary_size\n",
    "        self.population_size = population_size\n",
    "        self.fitness_func = fitness_func\n",
    "        self.mutation_rate = mutation_rate\n",
    "        \n",
    "        self.population = self.init_population()\n",
    "    \n",
    "    \n",
    "    def repr_str2matrix(self, population):\n",
    "        \"\"\"\n",
    "        Represent population as a 2D matrix.\n",
    "        \"\"\"\n",
    "        arr = np.zeros((len(population), self.binary_size)).astype(\"uint8\")\n",
    "        for i, x in enumerate(sga.population):\n",
    "            arr[i, :] = np.array(list(x)).astype(\"uint8\")\n",
    "        return arr\n",
    "    \n",
    "    \n",
    "    def repr_matrix2str(self, population):\n",
    "        \"\"\"\n",
    "        Represent population as a vector of binary strings.\n",
    "        \"\"\"\n",
    "        population = population.astype(int)\n",
    "        matrix2str = lambda x: \"\".join(map(str, x))\n",
    "        return np.apply_along_axis(matrix2str, axis=1, arr=population)\n",
    "    \n",
    "    \n",
    "    def init_population(self):\n",
    "        \"\"\"\n",
    "        Initialize binary vectors.\n",
    "        \"\"\"\n",
    "        x0 = np.random.randint(low=0, high=2,\n",
    "                               size=(self.population_size, self.binary_size),\n",
    "                               dtype=\"uint8\")\n",
    "        return x0\n",
    "    \n",
    "    \n",
    "    def evaluate(self, population):\n",
    "        return self.fitness_func(population)\n",
    "    \n",
    "    \n",
    "    def mutate(self, rate):\n",
    "        \"\"\"\n",
    "        Bitwise Mutation.\n",
    "        \n",
    "        Mutate bits with given rate.\n",
    "        \"\"\"\n",
    "        population = self.population.copy().astype(bool)\n",
    "        mutation_rand = np.random.uniform(size=(self.population_size, self.binary_size))\n",
    "        \n",
    "        # invert bit if random sample < mutation rate\n",
    "        population[mutation_rand < rate] = ~population[mutation_rand < rate]\n",
    "        return population.astype(\"uint8\")\n",
    "    \n",
    "    \n",
    "    def recombine(self, parents):\n",
    "        \"\"\"\n",
    "        One-Point Crossover.\n",
    "        \n",
    "        The formation of pairs are randomized.\n",
    "        100% children are formed from recombination (crossover rate = 1).\n",
    "        The point of crossover is randomized for each pair.\n",
    "        Two children are created per pair of parents.\n",
    "        \"\"\"\n",
    "        \n",
    "        # shuffle parents before form pairs\n",
    "        parents = parents.copy()\n",
    "        np.random.shuffle(parents)\n",
    "        \n",
    "        # form pairs of parents\n",
    "        parents = parents.reshape(-1, 2, self.binary_size)\n",
    "                \n",
    "        # defines the multiplier pattern to match crossover\n",
    "        cross_multiplier = np.ones((parents.shape[0], 2, self.binary_size), dtype=\"uint8\")\n",
    "        for i in range(parents.shape[0]):\n",
    "            # defines the point of crossover\n",
    "            # there is no crossover if point equals 0 or (binary_size-1)\n",
    "            cross_idx = np.random.randint(low=1, high=(self.binary_size - 2))\n",
    "            cross_multiplier[i, 0, cross_idx:self.binary_size] = 0\n",
    "            cross_multiplier[i, 1, 0:cross_idx] = 0\n",
    "        \n",
    "        # multipliers parent pairs by crossover pattern and anti-pattern\n",
    "        # developing the same number of children as parents\n",
    "        children_top = (parents * cross_multiplier).sum(axis=1)\n",
    "        children_bot = (parents * (~cross_multiplier.astype(bool)).astype(\"uint8\")).sum(axis=1)\n",
    "        children = np.vstack((children_top, children_bot))\n",
    "        \n",
    "        return children\n",
    "\n",
    "                             \n",
    "    def parent_selection(self, s=1.5):\n",
    "        \"\"\"\n",
    "        Generational model.\n",
    "        Linear Ranking Selection with Roullete Wheel probabilities.\n",
    "        \"\"\"\n",
    "        \n",
    "        fitness = self.evaluate(self.population)\n",
    "        rank = stats.rankdata(fitness, \"ordinal\")\n",
    "        u = self.population_size     \n",
    "        \n",
    "        p = ((2 - s) / u) + ((2 * rank * (s-1)) / (u * (u - 1)))\n",
    "        p = p / p.sum()\n",
    "        \n",
    "        select_idx = np.random.choice(np.linspace(0, (u-1), u),\n",
    "                                      size=self.population_size,\n",
    "                                      replace=True, p=p).astype(int)\n",
    "\n",
    "        return self.population[select_idx, :]\n",
    "\n",
    "    \n",
    "    def natural_selection(self, parents, children, s=1.5):\n",
    "        \"\"\"\n",
    "        Fitness-Based Replacement.\n",
    "        Linear Ranking Selection with Roullete Wheel probabilities\n",
    "        \"\"\"\n",
    "        population = np.concatenate((parents, children))\n",
    "        \n",
    "        fitness = self.evaluate(population)\n",
    "        rank = stats.rankdata(fitness, \"ordinal\")\n",
    "        u = len(population)   \n",
    "        \n",
    "        p = ((2 - s) / u) + ((2 * rank * (s-1)) / (u * (u - 1)))\n",
    "        p = p / p.sum()\n",
    "        \n",
    "        select_idx = np.random.choice(np.linspace(0, (u-1), u),\n",
    "                                      size=self.population_size,\n",
    "                                      replace=True, p=p).astype(int)\n",
    "        \n",
    "        return population[select_idx, :]\n",
    "\n",
    "    \n",
    "    def evolve(self):\n",
    "        parents = self.parent_selection(s=1.5)\n",
    "        offspring = self.recombine(parents)\n",
    "        offspring = self.mutate(self.mutation_rate)\n",
    "        self.population = self.natural_selection(parents, offspring, s=1.5)\n",
    "        return"
   ]
  },
  {
   "cell_type": "code",
   "execution_count": 6,
   "metadata": {
    "ExecuteTime": {
     "end_time": "2018-05-02T00:07:37.115487Z",
     "start_time": "2018-05-02T00:07:37.092785Z"
    }
   },
   "outputs": [],
   "source": [
    "sga = SGA(binary_size=64, population_size=100,\n",
    "          fitness_func=F, mutation_rate=1/64)"
   ]
  },
  {
   "cell_type": "code",
   "execution_count": 7,
   "metadata": {
    "ExecuteTime": {
     "end_time": "2018-05-02T00:07:37.509675Z",
     "start_time": "2018-05-02T00:07:37.118051Z"
    }
   },
   "outputs": [],
   "source": [
    "N = 200\n",
    "\n",
    "history = np.zeros((N, sga.population_size, sga.binary_size))\n",
    "for i in range(N):\n",
    "    history[i, :, :] = sga.population.copy()\n",
    "    sga.evolve()"
   ]
  },
  {
   "cell_type": "code",
   "execution_count": 8,
   "metadata": {
    "ExecuteTime": {
     "end_time": "2018-05-02T00:07:37.839318Z",
     "start_time": "2018-05-02T00:07:37.511743Z"
    }
   },
   "outputs": [
    {
     "data": {
      "image/png": "[encoded data removed]",
      "text/plain": [
       "<Figure size 1080x432 with 1 Axes>"
      ]
     },
     "metadata": {},
     "output_type": "display_data"
    }
   ],
   "source": [
    "history_mean = np.zeros((N))\n",
    "history_min = np.zeros((N))\n",
    "history_max = np.zeros((N))\n",
    "for i in range(N):\n",
    "    fitness = sga.evaluate(history[i, :, :])\n",
    "    fitness.std()\n",
    "    history_mean[i] = fitness.mean()\n",
    "    history_min[i] = fitness.min()\n",
    "    history_max[i] = fitness.max()\n",
    "\n",
    "plt.figure(figsize=(15, 6))\n",
    "\n",
    "#plt.fill_between(np.linspace(0, N-1, N), history_min, history_max, alpha=.2)\n",
    "plt.plot(np.linspace(0, N-1, N), history_mean)\n",
    "\n",
    "plt.ylabel(\"Fitness Médio\")\n",
    "plt.xlabel(\"Geração\")\n",
    "plt.grid(axis=\"y\")\n",
    "plt.tight_layout()\n",
    "plt.show()"
   ]
  },
  {
   "cell_type": "markdown",
   "metadata": {},
   "source": [
    "## Questão 2"
   ]
  },
  {
   "cell_type": "code",
   "execution_count": 9,
   "metadata": {
    "ExecuteTime": {
     "end_time": "2018-05-02T00:07:37.843499Z",
     "start_time": "2018-05-02T00:07:37.841102Z"
    }
   },
   "outputs": [],
   "source": [
    "def onemax(populacao):\n",
    "    return populacao.sum(axis=1)"
   ]
  },
  {
   "cell_type": "code",
   "execution_count": 10,
   "metadata": {
    "ExecuteTime": {
     "end_time": "2018-05-02T00:07:37.861612Z",
     "start_time": "2018-05-02T00:07:37.845064Z"
    }
   },
   "outputs": [],
   "source": [
    "sga = SGA(binary_size=25, population_size=100,\n",
    "          fitness_func=onemax, mutation_rate=1/25)"
   ]
  },
  {
   "cell_type": "code",
   "execution_count": 11,
   "metadata": {
    "ExecuteTime": {
     "end_time": "2018-05-02T00:07:37.958675Z",
     "start_time": "2018-05-02T00:07:37.863641Z"
    }
   },
   "outputs": [],
   "source": [
    "N = 100\n",
    "\n",
    "history = np.zeros((N, sga.population_size, sga.binary_size))\n",
    "for i in range(N):\n",
    "    history[i, :, :] = sga.population.copy()\n",
    "    sga.evolve()"
   ]
  },
  {
   "cell_type": "code",
   "execution_count": 12,
   "metadata": {
    "ExecuteTime": {
     "end_time": "2018-05-02T00:07:38.189640Z",
     "start_time": "2018-05-02T00:07:37.960777Z"
    }
   },
   "outputs": [
    {
     "data": {
      "image/png": "[encoded data removed]",
      "text/plain": [
       "<Figure size 1080x432 with 1 Axes>"
      ]
     },
     "metadata": {},
     "output_type": "display_data"
    }
   ],
   "source": [
    "history_mean = np.zeros((N))\n",
    "history_min = np.zeros((N))\n",
    "history_max = np.zeros((N))\n",
    "for i in range(N):\n",
    "    fitness = sga.evaluate(history[i, :, :])\n",
    "    fitness.std()\n",
    "    history_mean[i] = fitness.mean()\n",
    "    history_min[i] = fitness.min()\n",
    "    history_max[i] = fitness.max()\n",
    "\n",
    "plt.figure(figsize=(15, 6))\n",
    "\n",
    "#plt.fill_between(np.linspace(0, N-1, N), history_min, history_max, alpha=.2)\n",
    "plt.plot(np.linspace(0, N-1, N), history_mean)\n",
    "\n",
    "plt.ylabel(\"Fitness Médio\")\n",
    "plt.xlabel(\"Geração\")\n",
    "plt.grid(axis=\"y\")\n",
    "plt.tight_layout()\n",
    "plt.show()"
   ]
  },
  {
   "cell_type": "markdown",
   "metadata": {},
   "source": [
    "## Questão 3"
   ]
  },
  {
   "cell_type": "code",
   "execution_count": 13,
   "metadata": {
    "ExecuteTime": {
     "end_time": "2018-05-02T00:07:38.494242Z",
     "start_time": "2018-05-02T00:07:38.191445Z"
    }
   },
   "outputs": [],
   "source": [
    "class ES(object):\n",
    "    \n",
    "    def __init__(self, individual_dimension, population_size, fitness_func):\n",
    "        self.population_size = population_size\n",
    "        self.individual_dimension = individual_dimension\n",
    "        self.fitness_func = fitness_func\n",
    "        \n",
    "        self.population = self.init_population()\n",
    "    \n",
    "    \n",
    "    def init_population(self):\n",
    "        \"\"\"\n",
    "        Initialize binary vectors.\n",
    "        \"\"\"\n",
    "        \n",
    "        population = pd.DataFrame()\n",
    "        \n",
    "        #x0 = np.random.normal(loc=0, scale=1, size=(self.population_size, self.individual_dimension))\n",
    "        x0 = np.random.uniform(low=-30, high=30, size=(self.population_size, self.individual_dimension))\n",
    "        sigma0 = np.random.uniform(low=0, high=1, size=(self.population_size, self.individual_dimension))\n",
    "        return {\"x\": x0, \"sigma\": sigma0}\n",
    "    \n",
    "    \n",
    "    def evaluate(self, x):\n",
    "        return -self.fitness_func(x)\n",
    "    \n",
    "    \n",
    "    def mutate(self, population, tal_constant=1., sigma_eps=0.01):\n",
    "        \"\"\"\n",
    "        Uncorrelated Mutation with n Steps.\n",
    "        \"\"\"\n",
    "        \n",
    "        n = population[\"x\"].shape[0]\n",
    "        \n",
    "        tal = tal_constant * 1 / np.sqrt(2 * np.sqrt(n))\n",
    "        tal_line = tal_constant * 1 / np.sqrt(2 * n)\n",
    "                \n",
    "        sigma = population[\"sigma\"] * \\\n",
    "                    np.exp(np.random.normal(loc=0, scale=tal, size=(n, self.individual_dimension)) + \\\n",
    "                           np.random.normal(loc=0, scale=tal_line, size=(n, 1)))\n",
    "        sigma[sigma < sigma_eps] = sigma_eps\n",
    "        \n",
    "        x = population[\"x\"] + np.random.normal(loc=0, scale=sigma)\n",
    "        \n",
    "        return {\"x\": x, \"sigma\": sigma}\n",
    "    \n",
    "    \n",
    "    def recombine(self, parents):\n",
    "        \"\"\"\n",
    "        Local Recombination.\n",
    "        \n",
    "        Discrete is used for the object part.\n",
    "        Intermediate is used for the strategy part.\n",
    "        \"\"\"\n",
    "        \n",
    "        parents = parents.copy()\n",
    "        \n",
    "        # shuffle parents\n",
    "        n_parents = parents[\"x\"].shape[0]\n",
    "        idx_shuffled = np.random.permutation(n_parents)\n",
    "        \n",
    "        parents[\"x\"] = parents[\"x\"][idx_shuffled, :]\n",
    "        parents[\"sigma\"] = parents[\"sigma\"][idx_shuffled, :]\n",
    "        \n",
    "        # form pairs of parents\n",
    "        parents[\"x\"] = parents[\"x\"].reshape(-1, 2, self.individual_dimension)\n",
    "        parents[\"sigma\"] = parents[\"sigma\"].reshape(-1, 2, self.individual_dimension)\n",
    "        \n",
    "        \n",
    "        x_pattern = np.zeros(parents[\"x\"].shape).astype(bool)\n",
    "        x_pattern[:, 0, :] = np.random.randint(low=0, high=2, size=x_pattern[:, 0, :].shape).astype(bool)\n",
    "        x_pattern[:, 1, :] = ~x_pattern[:, 0, :]\n",
    "        x_pattern = x_pattern.astype(\"uint8\")\n",
    "        \n",
    "        x = (parents[\"x\"] * x_pattern).sum(axis=1)\n",
    "        sigma = parents[\"sigma\"].mean(axis=1)\n",
    "        \n",
    "        return {\"x\": x, \"sigma\": sigma}\n",
    "\n",
    "                             \n",
    "    def parent_selection(self, offspring_rate=5):\n",
    "        \"\"\"\n",
    "        Parent Selection.\n",
    "        \n",
    "        Sample uniformly (2 * offspring_rate * population_size) individuals.\n",
    "        This will result in the creation of a offspring population with\n",
    "        offspring_rate * population_size) individuals.\n",
    "        \"\"\"\n",
    "        \n",
    "        n_parents = 2 * offspring_rate * self.population_size\n",
    "        select_idx = np.random.choice(self.population_size, size=n_parents, replace=True)\n",
    "        \n",
    "        x = self.population[\"x\"][select_idx, :]\n",
    "        sigma = self.population[\"sigma\"][select_idx, :]\n",
    "\n",
    "        return {\"x\": x, \"sigma\": sigma}\n",
    "\n",
    "    \n",
    "    def natural_selection(self, population):\n",
    "        \"\"\"\n",
    "        Comma Selection.\n",
    "        \"\"\"\n",
    "        \n",
    "        fitness = self.evaluate(population[\"x\"])\n",
    "        \n",
    "        # get indices of best (population_size) individuals\n",
    "        idx = np.argpartition(fitness, -self.population_size)[-self.population_size:]\n",
    "        x = population[\"x\"][idx]\n",
    "        sigma = population[\"sigma\"][idx]\n",
    "        \n",
    "        return {\"x\": x, \"sigma\": sigma}\n",
    "\n",
    "    \n",
    "    def evolve(self):\n",
    "        parents = self.parent_selection()\n",
    "        offspring = self.recombine(parents)\n",
    "        offspring = self.mutate(offspring)\n",
    "        self.population = self.natural_selection(offspring)\n",
    "        return"
   ]
  },
  {
   "cell_type": "code",
   "execution_count": null,
   "metadata": {},
   "outputs": [],
   "source": []
  },
  {
   "cell_type": "code",
   "execution_count": 14,
   "metadata": {
    "ExecuteTime": {
     "end_time": "2018-05-02T00:07:38.515801Z",
     "start_time": "2018-05-02T00:07:38.496351Z"
    }
   },
   "outputs": [],
   "source": [
    "def ackley(x):\n",
    "    a = np.sqrt((x**2).mean(axis=1))\n",
    "    b = (np.cos(2 * np.pi * x)).mean(axis=1)\n",
    "    \n",
    "    return -20 * np.exp(-.2 * a) - np.exp(b) + 20 + np.e"
   ]
  },
  {
   "cell_type": "code",
   "execution_count": 15,
   "metadata": {
    "ExecuteTime": {
     "end_time": "2018-05-02T00:07:38.533345Z",
     "start_time": "2018-05-02T00:07:38.517823Z"
    }
   },
   "outputs": [],
   "source": [
    "es = ES(30, 30, ackley)"
   ]
  },
  {
   "cell_type": "code",
   "execution_count": 16,
   "metadata": {
    "ExecuteTime": {
     "end_time": "2018-05-02T00:07:39.585498Z",
     "start_time": "2018-05-02T00:07:38.535387Z"
    }
   },
   "outputs": [],
   "source": [
    "N = 1000\n",
    "\n",
    "history = np.zeros((N, es.population_size, es.individual_dimension))\n",
    "for i in range(N):\n",
    "    history[i, :, :] = es.population[\"x\"].copy()\n",
    "    es.evolve()"
   ]
  },
  {
   "cell_type": "code",
   "execution_count": 17,
   "metadata": {
    "ExecuteTime": {
     "end_time": "2018-05-02T00:07:39.896824Z",
     "start_time": "2018-05-02T00:07:39.587578Z"
    }
   },
   "outputs": [
    {
     "data": {
      "image/png": "[encoded data removed]",
      "text/plain": [
       "<Figure size 1080x432 with 1 Axes>"
      ]
     },
     "metadata": {},
     "output_type": "display_data"
    }
   ],
   "source": [
    "history_mean = np.zeros((N))\n",
    "history_min = np.zeros((N))\n",
    "history_max = np.zeros((N))\n",
    "for i in range(N):\n",
    "    fitness = es.evaluate(history[i, :, :])\n",
    "    fitness.std()\n",
    "    history_mean[i] = fitness.mean()\n",
    "    history_min[i] = fitness.min()\n",
    "    history_max[i] = fitness.max()\n",
    "\n",
    "plt.figure(figsize=(15, 6))\n",
    "\n",
    "#plt.fill_between(np.linspace(0, N-1, N), history_min, history_max, alpha=.2)\n",
    "plt.plot(np.linspace(0, N-1, N), history_mean)\n",
    "\n",
    "plt.ylabel(\"Fitness Médio\")\n",
    "plt.xlabel(\"Geração\")\n",
    "plt.grid(axis=\"y\")\n",
    "plt.tight_layout()\n",
    "plt.show()"
   ]
  }
 ],
 "metadata": {
  "kernelspec": {
   "display_name": "Python 3",
   "language": "python",
   "name": "python3"
  },
  "language_info": {
   "codemirror_mode": {
    "name": "ipython",
    "version": 3
   },
   "file_extension": ".py",
   "mimetype": "text/x-python",
   "name": "python",
   "nbconvert_exporter": "python",
   "pygments_lexer": "ipython3",
   "version": "3.6.3"
  }
 },
 "nbformat": 4,
 "nbformat_minor": 2
}
