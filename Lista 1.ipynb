{
 "cells": [
  {
   "cell_type": "markdown",
   "metadata": {},
   "source": [
    "# Lista de Exercícios \\#1\n",
    "### Breno Vieira Arosa"
   ]
  },
  {
   "cell_type": "markdown",
   "metadata": {},
   "source": [
    "### Questão 1"
   ]
  },
  {
   "cell_type": "markdown",
   "metadata": {
    "ExecuteTime": {
     "end_time": "2018-03-10T20:59:53.284569Z",
     "start_time": "2018-03-10T20:59:53.281131Z"
    }
   },
   "source": [
    "### 1.a)"
   ]
  },
  {
   "cell_type": "markdown",
   "metadata": {},
   "source": [
    "\\begin{equation}\n",
    "\\int_{0}^{1} x e^{-x}dx = \\left[-x e^{-x}\\right]_{0}^{1} - \\int_{0}^{1} -e^{-x}dx\n",
    "\\end{equation}"
   ]
  },
  {
   "cell_type": "markdown",
   "metadata": {},
   "source": [
    "\\begin{equation}\n",
    "\\int_{0}^{1} x e^{-x}dx = -\\frac{1}{e} + \\left[-e^{-x}\\right]_{0}^{1}\n",
    "\\end{equation}"
   ]
  },
  {
   "cell_type": "markdown",
   "metadata": {},
   "source": [
    "\\begin{equation}\n",
    "\\int_{0}^{1} x e^{-x}dx = -\\frac{1}{e} + (-\\frac{1}{e} + 1) = \\frac{e - 2}{e}\n",
    "\\end{equation}"
   ]
  },
  {
   "cell_type": "markdown",
   "metadata": {
    "ExecuteTime": {
     "end_time": "2018-03-10T21:17:43.847450Z",
     "start_time": "2018-03-10T21:17:43.843288Z"
    }
   },
   "source": [
    "\\begin{equation}\n",
    "\\frac{e - 2}{e} \\approx 0.26424111765711533\n",
    "\\end{equation}"
   ]
  },
  {
   "cell_type": "markdown",
   "metadata": {},
   "source": [
    "### 1.b)"
   ]
  },
  {
   "cell_type": "code",
   "execution_count": 1,
   "metadata": {
    "ExecuteTime": {
     "end_time": "2018-03-11T14:04:25.660728Z",
     "start_time": "2018-03-11T14:04:24.945197Z"
    }
   },
   "outputs": [],
   "source": [
    "import numpy as np\n",
    "import scipy.stats as stats\n",
    "np.random.seed(7)\n",
    "\n",
    "import seaborn as sns\n",
    "import matplotlib.pyplot as plt\n",
    "\n",
    "from matplotlib.colors import LogNorm\n",
    "from mpl_toolkits.mplot3d import Axes3D\n",
    "from matplotlib import animation\n",
    "from IPython.display import HTML\n",
    "import matplotlib.patheffects as pe\n",
    "\n",
    "import warnings\n",
    "warnings.filterwarnings('ignore')"
   ]
  },
  {
   "cell_type": "code",
   "execution_count": 2,
   "metadata": {
    "ExecuteTime": {
     "end_time": "2018-03-11T14:04:25.666948Z",
     "start_time": "2018-03-11T14:04:25.663292Z"
    }
   },
   "outputs": [],
   "source": [
    "def calc_func(x):\n",
    "    return x * np.exp(-x)"
   ]
  },
  {
   "cell_type": "code",
   "execution_count": 3,
   "metadata": {
    "ExecuteTime": {
     "end_time": "2018-03-11T14:04:25.686034Z",
     "start_time": "2018-03-11T14:04:25.668921Z"
    }
   },
   "outputs": [],
   "source": [
    "# seleciona 10 valores de entradas aleatorios de distribuição uniforme entre 0 e 1\n",
    "x = np.random.uniform(low=0., high=1., size=10)"
   ]
  },
  {
   "cell_type": "code",
   "execution_count": 4,
   "metadata": {
    "ExecuteTime": {
     "end_time": "2018-03-11T14:04:25.732279Z",
     "start_time": "2018-03-11T14:04:25.729770Z"
    }
   },
   "outputs": [],
   "source": [
    "# tira a media da função para os valores correspondentes as entradas, calculando assim a integral\n",
    "integral = calc_func(x).mean()"
   ]
  },
  {
   "cell_type": "code",
   "execution_count": 5,
   "metadata": {
    "ExecuteTime": {
     "end_time": "2018-03-11T14:04:25.944485Z",
     "start_time": "2018-03-11T14:04:25.941841Z"
    }
   },
   "outputs": [
    {
     "name": "stdout",
     "output_type": "stream",
     "text": [
      "Monte Carlo com 10 pontos de distribuição uniforme:\n",
      "0.26231681183154487\n"
     ]
    }
   ],
   "source": [
    "print(f\"Monte Carlo com 10 pontos de distribuição uniforme:\\n{integral}\")"
   ]
  },
  {
   "cell_type": "markdown",
   "metadata": {},
   "source": [
    "### 1.c)"
   ]
  },
  {
   "cell_type": "code",
   "execution_count": 6,
   "metadata": {
    "ExecuteTime": {
     "end_time": "2018-03-11T14:04:26.382708Z",
     "start_time": "2018-03-11T14:04:26.378418Z"
    }
   },
   "outputs": [],
   "source": [
    "# seleciona 10 valores de entradas aleatorios de distribuição exponencial limitada entre 0 e 1\n",
    "x = stats.truncexpon(b=1, loc=0, scale=1).rvs(size=10)"
   ]
  },
  {
   "cell_type": "code",
   "execution_count": 7,
   "metadata": {
    "ExecuteTime": {
     "end_time": "2018-03-11T14:04:26.548916Z",
     "start_time": "2018-03-11T14:04:26.546013Z"
    }
   },
   "outputs": [],
   "source": [
    "# tira a media da função para os valores correspondentes as entradas, calculando assim a integral\n",
    "integral = calc_func(x).mean()"
   ]
  },
  {
   "cell_type": "code",
   "execution_count": 8,
   "metadata": {
    "ExecuteTime": {
     "end_time": "2018-03-11T14:04:26.748472Z",
     "start_time": "2018-03-11T14:04:26.745576Z"
    }
   },
   "outputs": [
    {
     "name": "stdout",
     "output_type": "stream",
     "text": [
      "Monte Carlo com 10 pontos de distribuição exponecial:\n",
      "0.21939176126320875\n"
     ]
    }
   ],
   "source": [
    "print(f\"Monte Carlo com 10 pontos de distribuição exponecial:\\n{integral}\")"
   ]
  },
  {
   "cell_type": "markdown",
   "metadata": {},
   "source": [
    "### Questão 2"
   ]
  },
  {
   "cell_type": "markdown",
   "metadata": {},
   "source": [
    "Será obtido a aproximação por Monte Carlo do valor de $\\pi$ a partir do calculo dá área de um círculo de raio $1$."
   ]
  },
  {
   "cell_type": "code",
   "execution_count": 9,
   "metadata": {
    "ExecuteTime": {
     "end_time": "2018-03-11T14:04:28.236220Z",
     "start_time": "2018-03-11T14:04:28.233684Z"
    }
   },
   "outputs": [],
   "source": [
    "def inside_unit_circle(x1, x2):\n",
    "    return np.sqrt(x1**2 + x2**2) <= 1"
   ]
  },
  {
   "cell_type": "markdown",
   "metadata": {
    "ExecuteTime": {
     "end_time": "2018-03-10T20:59:53.284569Z",
     "start_time": "2018-03-10T20:59:53.281131Z"
    }
   },
   "source": [
    "### 2.a)"
   ]
  },
  {
   "cell_type": "code",
   "execution_count": 10,
   "metadata": {
    "ExecuteTime": {
     "end_time": "2018-03-11T14:04:28.715985Z",
     "start_time": "2018-03-11T14:04:28.713825Z"
    }
   },
   "outputs": [],
   "source": [
    "# quantidade de pontos amostrada\n",
    "N = 20"
   ]
  },
  {
   "cell_type": "code",
   "execution_count": 11,
   "metadata": {
    "ExecuteTime": {
     "end_time": "2018-03-11T14:04:29.036988Z",
     "start_time": "2018-03-11T14:04:29.033566Z"
    }
   },
   "outputs": [],
   "source": [
    "# seleciona N valores de entradas aleatorios de distribuição uniforme entre -1 e 1\n",
    "x1 = np.random.uniform(low=-1., high=1., size=N)\n",
    "x2 = np.random.uniform(low=-1., high=1., size=N)"
   ]
  },
  {
   "cell_type": "code",
   "execution_count": 12,
   "metadata": {
    "ExecuteTime": {
     "end_time": "2018-03-11T14:04:29.354566Z",
     "start_time": "2018-03-11T14:04:29.350608Z"
    }
   },
   "outputs": [],
   "source": [
    "# area do quadrado * numero de vezes que o ponto caiu dentro do circulo / numero de pontos \n",
    "pi_aprox = 4 * inside_unit_circle(x1, x2).sum() / N"
   ]
  },
  {
   "cell_type": "code",
   "execution_count": 13,
   "metadata": {
    "ExecuteTime": {
     "end_time": "2018-03-11T14:04:29.499475Z",
     "start_time": "2018-03-11T14:04:29.496930Z"
    }
   },
   "outputs": [
    {
     "name": "stdout",
     "output_type": "stream",
     "text": [
      "Aproximação de pi por Monte Carlo com 20 pontos:\n",
      "3.8\n"
     ]
    }
   ],
   "source": [
    "print(f\"Aproximação de pi por Monte Carlo com {N} pontos:\\n{pi_aprox}\")"
   ]
  },
  {
   "cell_type": "markdown",
   "metadata": {
    "ExecuteTime": {
     "end_time": "2018-03-10T20:59:53.284569Z",
     "start_time": "2018-03-10T20:59:53.281131Z"
    }
   },
   "source": [
    "### 2.b)"
   ]
  },
  {
   "cell_type": "code",
   "execution_count": 14,
   "metadata": {
    "ExecuteTime": {
     "end_time": "2018-03-11T14:04:29.827859Z",
     "start_time": "2018-03-11T14:04:29.825352Z"
    }
   },
   "outputs": [],
   "source": [
    "# quantidade de pontos amostrada\n",
    "N = 10000000"
   ]
  },
  {
   "cell_type": "code",
   "execution_count": 15,
   "metadata": {
    "ExecuteTime": {
     "end_time": "2018-03-11T14:04:30.304122Z",
     "start_time": "2018-03-11T14:04:30.013720Z"
    }
   },
   "outputs": [],
   "source": [
    "# seleciona N valores de entradas aleatorios de distribuição uniforme entre -1 e 1\n",
    "x1 = np.random.uniform(low=-1., high=1., size=N)\n",
    "x2 = np.random.uniform(low=-1., high=1., size=N)"
   ]
  },
  {
   "cell_type": "code",
   "execution_count": 16,
   "metadata": {
    "ExecuteTime": {
     "end_time": "2018-03-11T14:04:30.493718Z",
     "start_time": "2018-03-11T14:04:30.345245Z"
    }
   },
   "outputs": [],
   "source": [
    "# area do quadrado * numero de vezes que o ponto caiu dentro do circulo / numero de pontos \n",
    "pi_aprox = 4 * inside_unit_circle(x1, x2).sum() / N"
   ]
  },
  {
   "cell_type": "code",
   "execution_count": 17,
   "metadata": {
    "ExecuteTime": {
     "end_time": "2018-03-11T14:04:30.645527Z",
     "start_time": "2018-03-11T14:04:30.642861Z"
    }
   },
   "outputs": [
    {
     "name": "stdout",
     "output_type": "stream",
     "text": [
      "Aproximação de pi por Monte Carlo com 10000000 pontos:\n",
      "3.1411\n"
     ]
    }
   ],
   "source": [
    "print(f\"Aproximação de pi por Monte Carlo com {N} pontos:\\n{pi_aprox}\")"
   ]
  },
  {
   "cell_type": "markdown",
   "metadata": {},
   "source": [
    "Observamos que podemos alcançar uma aproximação de $\\pi$ tão boa quanto desejado apenas variando o número de pontos."
   ]
  },
  {
   "cell_type": "markdown",
   "metadata": {},
   "source": [
    "### Questão 3"
   ]
  },
  {
   "cell_type": "code",
   "execution_count": 18,
   "metadata": {
    "ExecuteTime": {
     "end_time": "2018-03-11T14:04:31.210935Z",
     "start_time": "2018-03-11T14:04:31.208286Z"
    }
   },
   "outputs": [],
   "source": [
    "def J(x):\n",
    "    return x**2"
   ]
  },
  {
   "cell_type": "code",
   "execution_count": 19,
   "metadata": {
    "ExecuteTime": {
     "end_time": "2018-03-11T14:04:31.435609Z",
     "start_time": "2018-03-11T14:04:31.432825Z"
    }
   },
   "outputs": [],
   "source": [
    "eps = 0.1\n",
    "temp = 0.1\n",
    "x0 = 42"
   ]
  },
  {
   "cell_type": "markdown",
   "metadata": {
    "ExecuteTime": {
     "end_time": "2018-03-10T20:59:53.284569Z",
     "start_time": "2018-03-10T20:59:53.281131Z"
    }
   },
   "source": [
    "### 3.a)"
   ]
  },
  {
   "cell_type": "code",
   "execution_count": 20,
   "metadata": {
    "ExecuteTime": {
     "end_time": "2018-03-11T14:04:31.924026Z",
     "start_time": "2018-03-11T14:04:31.897397Z"
    }
   },
   "outputs": [],
   "source": [
    "def boltzmann_sampler(J, N, temp, eps, x0):\n",
    "    \"\"\"\n",
    "    J: função custo utilizada\n",
    "    N: número de iterações\n",
    "    temp: temperatura\n",
    "    eps: epsilon\n",
    "    x0: estado inicial\n",
    "    \"\"\"\n",
    "    x = np.zeros(N)\n",
    "    x[0] = x0\n",
    "    \n",
    "    for i in range(N-1):\n",
    "        x_candidate = x[i] + eps * np.random.uniform(low=-1., high=1.)\n",
    "        delta_J = J(x_candidate) - J(x[i])\n",
    "        \n",
    "        q = np.exp(-delta_J/temp)\n",
    "        r = np.random.uniform(low=0., high=1.)\n",
    "        \n",
    "        if r < q:\n",
    "            x[i+1] = x_candidate\n",
    "        else:\n",
    "            x[i+1] = x[i]\n",
    "            \n",
    "    return x"
   ]
  },
  {
   "cell_type": "code",
   "execution_count": 21,
   "metadata": {
    "ExecuteTime": {
     "end_time": "2018-03-11T14:04:33.089777Z",
     "start_time": "2018-03-11T14:04:32.573559Z"
    }
   },
   "outputs": [],
   "source": [
    "x = boltzmann_sampler(J, 100000, temp, eps, x0)"
   ]
  },
  {
   "cell_type": "markdown",
   "metadata": {},
   "source": [
    "Plottando as distribuições dos primeiros e dos ultimos valores de x para verificar em qual pdf o algoritmo convergiu."
   ]
  },
  {
   "cell_type": "code",
   "execution_count": 22,
   "metadata": {
    "ExecuteTime": {
     "end_time": "2018-03-11T14:04:33.942954Z",
     "start_time": "2018-03-11T14:04:33.698305Z"
    }
   },
   "outputs": [
    {
     "data": {
      "image/png": "[encoded data removed]",
      "text/plain": [
       "<Figure size 648x324 with 1 Axes>"
      ]
     },
     "metadata": {},
     "output_type": "display_data"
    }
   ],
   "source": [
    "plt.figure(figsize=(9, 4.5))\n",
    "sns.distplot(x[0:1000], bins=None, kde=False)\n",
    "plt.title(\"Gerador de Boltzmann - Primeiros Valores Gerados\")\n",
    "plt.tight_layout()\n",
    "plt.show()"
   ]
  },
  {
   "cell_type": "code",
   "execution_count": 23,
   "metadata": {
    "ExecuteTime": {
     "end_time": "2018-03-11T14:04:34.746888Z",
     "start_time": "2018-03-11T14:04:34.498507Z"
    }
   },
   "outputs": [
    {
     "data": {
      "image/png": "[encoded data removed]",
      "text/plain": [
       "<Figure size 648x324 with 1 Axes>"
      ]
     },
     "metadata": {},
     "output_type": "display_data"
    }
   ],
   "source": [
    "plt.figure(figsize=(9, 4.5))\n",
    "sns.distplot(x[-10000:], bins=None, kde=True)\n",
    "plt.title(\"Gerador de Boltzmann - Últimos Valores Gerados\")\n",
    "plt.tight_layout()\n",
    "plt.show()"
   ]
  },
  {
   "cell_type": "markdown",
   "metadata": {},
   "source": [
    "### Questão 4"
   ]
  },
  {
   "cell_type": "code",
   "execution_count": 24,
   "metadata": {
    "ExecuteTime": {
     "end_time": "2018-03-11T14:04:36.031348Z",
     "start_time": "2018-03-11T14:04:36.028459Z"
    }
   },
   "outputs": [],
   "source": [
    "def J(x):\n",
    "    return -x + 100 * ((x - 0.2) ** 2) * ((x - 0.8) ** 2)"
   ]
  },
  {
   "cell_type": "code",
   "execution_count": 25,
   "metadata": {
    "ExecuteTime": {
     "end_time": "2018-03-11T14:04:36.618015Z",
     "start_time": "2018-03-11T14:04:36.615317Z"
    }
   },
   "outputs": [],
   "source": [
    "eps = 0.01\n",
    "initial_temp = 1\n",
    "x0 = 0"
   ]
  },
  {
   "cell_type": "markdown",
   "metadata": {
    "ExecuteTime": {
     "end_time": "2018-03-10T20:59:53.284569Z",
     "start_time": "2018-03-10T20:59:53.281131Z"
    }
   },
   "source": [
    "### 4.a)"
   ]
  },
  {
   "cell_type": "code",
   "execution_count": 26,
   "metadata": {
    "ExecuteTime": {
     "end_time": "2018-03-11T14:04:37.837669Z",
     "start_time": "2018-03-11T14:04:37.807505Z"
    }
   },
   "outputs": [],
   "source": [
    "def simulated_anneling(J, N, initial_temp, eps, x0):\n",
    "    \"\"\"\n",
    "    J: função custo utilizada\n",
    "    N: número de iterações\n",
    "    initial_temp: temperatura inicial\n",
    "    eps: epsilon\n",
    "    x0: estado inicial\n",
    "    \"\"\"\n",
    "    \n",
    "    x = np.zeros(N, dtype=float)\n",
    "    x[0] = x0\n",
    "    \n",
    "    temp = initial_temp\n",
    "    k = 1\n",
    "    iter_per_temp = int(N / 8) # 8 trocas de temperatura durante o treinamento\n",
    "    \n",
    "    for i in range(N-1):\n",
    "        # R -> distribuição normal com média 0 e variancia 1\n",
    "        x_candidate = x[i] + eps * np.random.normal(loc=0., scale=1.)\n",
    "        delta_J = J(x_candidate) - J(x[i])\n",
    "        \n",
    "        q = np.exp(-delta_J/temp)\n",
    "        r = np.random.uniform(low=0., high=1.)\n",
    "        \n",
    "        if r < q:\n",
    "            x[i+1] = x_candidate\n",
    "        else:\n",
    "            x[i+1] = x[i]\n",
    "            \n",
    "        if (i != 0) and (i % iter_per_temp) == 0:\n",
    "            k = k + 1\n",
    "            temp = initial_temp / np.log2(1+k)\n",
    "\n",
    "    return x"
   ]
  },
  {
   "cell_type": "code",
   "execution_count": 27,
   "metadata": {
    "ExecuteTime": {
     "end_time": "2018-03-11T14:04:45.768103Z",
     "start_time": "2018-03-11T14:04:38.355228Z"
    }
   },
   "outputs": [],
   "source": [
    "x = simulated_anneling(J, 1000000, initial_temp, eps, x0)"
   ]
  },
  {
   "cell_type": "markdown",
   "metadata": {},
   "source": [
    "Plottando as distribuições dos primeiros e dos ultimos valores de x para verificar em qual pdf o algoritmo convergiu."
   ]
  },
  {
   "cell_type": "code",
   "execution_count": 28,
   "metadata": {
    "ExecuteTime": {
     "end_time": "2018-03-11T14:04:45.945785Z",
     "start_time": "2018-03-11T14:04:45.770339Z"
    }
   },
   "outputs": [
    {
     "data": {
      "image/png": "[encoded data removed]",
      "text/plain": [
       "<Figure size 648x324 with 1 Axes>"
      ]
     },
     "metadata": {},
     "output_type": "display_data"
    }
   ],
   "source": [
    "plt.figure(figsize=(9, 4.5))\n",
    "sns.distplot(x[0:1000], bins=None, kde=False)\n",
    "plt.title(\"Gerador de Boltzmann - Primeiros Valores Gerados\")\n",
    "plt.tight_layout()\n",
    "plt.show()"
   ]
  },
  {
   "cell_type": "code",
   "execution_count": 29,
   "metadata": {
    "ExecuteTime": {
     "end_time": "2018-03-11T14:04:46.205842Z",
     "start_time": "2018-03-11T14:04:45.947782Z"
    }
   },
   "outputs": [
    {
     "data": {
      "image/png": "[encoded data removed]",
      "text/plain": [
       "<Figure size 648x324 with 1 Axes>"
      ]
     },
     "metadata": {},
     "output_type": "display_data"
    }
   ],
   "source": [
    "plt.figure(figsize=(9, 4.5))\n",
    "sns.distplot(x[-10000:], bins=None, kde=True)\n",
    "plt.title(\"Gerador de Boltzmann - Últimos Valores Gerados\")\n",
    "plt.tight_layout()\n",
    "plt.show()"
   ]
  },
  {
   "cell_type": "markdown",
   "metadata": {},
   "source": [
    "### Questão 5"
   ]
  },
  {
   "cell_type": "code",
   "execution_count": 30,
   "metadata": {
    "ExecuteTime": {
     "end_time": "2018-03-11T14:04:46.210863Z",
     "start_time": "2018-03-11T14:04:46.207766Z"
    }
   },
   "outputs": [],
   "source": [
    "def J(x, y):\n",
    "    # Função de Rosenbrock\n",
    "    # https://en.wikipedia.org/wiki/Rosenbrock_function\n",
    "    # minimo em (1, 1)\n",
    "    return (100 * (y - x**2)**2) + (x - 1)**2"
   ]
  },
  {
   "cell_type": "code",
   "execution_count": 40,
   "metadata": {
    "ExecuteTime": {
     "end_time": "2018-03-11T14:07:11.719442Z",
     "start_time": "2018-03-11T14:07:11.685006Z"
    }
   },
   "outputs": [],
   "source": [
    "def simulated_anneling(J, N, initial_temp, eps, x0):\n",
    "    \"\"\"\n",
    "    J: função custo utilizada\n",
    "    N: número de iterações\n",
    "    initial_temp: temperatura inicial\n",
    "    eps: epsilon\n",
    "    x0: estado inicial\n",
    "    \"\"\"\n",
    "    X = np.zeros((N, x0.shape[1]), dtype=float)\n",
    "    X[0, :] = x0\n",
    "    \n",
    "    temp = initial_temp\n",
    "    k = 1\n",
    "    iter_per_temp = int(N / 8) # 8 trocas de temperatura durante o treinamento\n",
    "    \n",
    "    for i in range(N-1):\n",
    "        x_candidate = X[i, :] + eps * np.random.uniform(low=-1., high=1., size=x0.shape[1])\n",
    "        delta_J = J(*x_candidate) - J(*X[i, :])\n",
    "        \n",
    "        q = np.exp(-delta_J/temp)        \n",
    "        r = np.random.uniform(low=0., high=1.)\n",
    "        \n",
    "        if r < q:\n",
    "            X[i+1] = x_candidate\n",
    "        else:\n",
    "            X[i+1] = X[i]\n",
    "            \n",
    "        if (i != 0) and (i % iter_per_temp) == 0:\n",
    "            k = k + 1\n",
    "            temp = initial_temp / np.log2(1+k)\n",
    "\n",
    "    return X"
   ]
  },
  {
   "cell_type": "code",
   "execution_count": 41,
   "metadata": {
    "ExecuteTime": {
     "end_time": "2018-03-11T14:07:12.333011Z",
     "start_time": "2018-03-11T14:07:12.327891Z"
    }
   },
   "outputs": [],
   "source": [
    "eps = 0.1\n",
    "initial_temp = .001\n",
    "x0 = np.array([-0.5, 2.8]).reshape((1, 2))\n",
    "N = 100000"
   ]
  },
  {
   "cell_type": "code",
   "execution_count": 42,
   "metadata": {
    "ExecuteTime": {
     "end_time": "2018-03-11T14:07:14.414887Z",
     "start_time": "2018-03-11T14:07:13.072623Z"
    }
   },
   "outputs": [],
   "source": [
    "X = simulated_anneling(J, N, initial_temp, eps, x0)"
   ]
  },
  {
   "cell_type": "code",
   "execution_count": null,
   "metadata": {},
   "outputs": [],
   "source": [
    "# plot da funcao custo\n",
    "path = X[np.logspace(0.1, np.log10(N), num=100).astype(int) - 1].T\n",
    "\n",
    "xmin, xmax, xstep = -2, 2, .03\n",
    "ymin, ymax, ystep = -1, 3, .03\n",
    "\n",
    "y, x = np.mgrid[slice(ymin, ymax + ystep, ystep),\n",
    "                slice(xmin, xmax + xstep, xstep)]\n",
    "z = J(x,y)\n",
    "z = z[:-1, :-1]\n",
    "\n",
    "fig = plt.figure(figsize=(9, 8))\n",
    "ax = plt.axes(projection='3d', elev=45, azim=120)\n",
    "\n",
    "ax.plot_surface(x, y, J(x, y), norm=LogNorm(), rstride=1, cstride=1, \n",
    "                edgecolor='none', alpha=.9, cmap=plt.cm.jet)\n",
    "\n",
    "line, = ax.plot([], [], [], c='w', lw=2,\n",
    "                path_effects=[pe.Stroke(linewidth=5, foreground='#000000'), pe.Normal()])\n",
    "point, = ax.plot([], [], [], 'o', c=\"w\", label='Simulated Anneling',\n",
    "                 path_effects=[pe.Stroke(linewidth=5, foreground='#000000'), pe.Normal()])\n",
    "\n",
    "ax.set_xlabel('$x$')\n",
    "ax.set_ylabel('$y$')\n",
    "ax.set_zlabel('$Custo$')\n",
    "\n",
    "ax.set_xlim((xmin, xmax))\n",
    "ax.set_ylim((ymin, ymax))\n",
    "ax.legend()\n",
    "\n",
    "def init():\n",
    "    line.set_data([], [])\n",
    "    line.set_3d_properties([])\n",
    "    point.set_data([], [])\n",
    "    point.set_3d_properties([])\n",
    "    return line, point\n",
    "\n",
    "def animate(i):\n",
    "    line.set_data(path[0,:i], path[1,:i])\n",
    "    line.set_3d_properties(J(*path[::,:i]))\n",
    "    point.set_data(path[0,i-1:i], path[1,i-1:i])\n",
    "    point.set_3d_properties(J(*path[::,i-1:i]))\n",
    "    return line, point\n",
    "\n",
    "anim = animation.FuncAnimation(fig, animate, init_func=init,\n",
    "                               frames=path.shape[1], interval=200, \n",
    "                               repeat=True, repeat_delay=1000, blit=True)"
   ]
  },
  {
   "cell_type": "code",
   "execution_count": 35,
   "metadata": {
    "ExecuteTime": {
     "end_time": "2018-03-11T07:11:41.688204Z",
     "start_time": "2018-03-11T07:09:18.961375Z"
    }
   },
   "outputs": [
    {
     "data": {
      "text/html": [
       "<video width=\"648\" height=\"576\" controls autoplay loop>\n",
       "  <source type=\"video/mp4\" src=\"data:video/mp4;base64,AAAAHGZ0eXBNNFYgAAACAGlzb21pc28yYXZjMQAAAAhmcmVlAAD6E21kYXQAAAKuBgX//6rcRem9\n",
       "5tlIt5Ys2CDZI+7veDI2NCAtIGNvcmUgMTUyIHIyODU0IGU5YTU5MDMgLSBILjI2NC9NUEVHLTQg\n",
       "QVZDIGNvZGVjIC0gQ29weWxlZnQgMjAwMy0yMDE3IC0gaHR0cDovL3d3dy52aWRlb2xhbi5vcmcv\n",
       "eDI2NC5odG1sIC0gb3B0aW9uczogY2FiYWM9MSByZWY9MyBkZWJsb2NrPTE6MDowIGFuYWx5c2U9\n",
       "MHgzOjB4MTEzIG1lPWhleCBzdWJtZT03IHBzeT0xIHBzeV9yZD0xLjAwOjAuMDAgbWl4ZWRfcmVm\n",
       "PTEgbWVfcmFuZ2U9MTYgY2hyb21hX21lPTEgdHJlbGxpcz0xIDh4OGRjdD0xIGNxbT0wIGRlYWR6\n",
       "b25lPTIxLDExIGZhc3RfcHNraXA9MSBjaHJvbWFfcXBfb2Zmc2V0PS0yIHRocmVhZHM9MTIgbG9v\n",
       "a2FoZWFkX3RocmVhZHM9MiBzbGljZWRfdGhyZWFkcz0wIG5yPTAgZGVjaW1hdGU9MSBpbnRlcmxh\n",
       "Y2VkPTAgYmx1cmF5X2NvbXBhdD0wIGNvbnN0cmFpbmVkX2ludHJhPTAgYmZyYW1lcz0zIGJfcHly\n",
       "YW1pZD0yIGJfYWRhcHQ9MSBiX2JpYXM9MCBkaXJlY3Q9MSB3ZWlnaHRiPTEgb3Blbl9nb3A9MCB3\n",
       "ZWlnaHRwPTIga2V5aW50PTI1MCBrZXlpbnRfbWluPTUgc2NlbmVjdXQ9NDAgaW50cmFfcmVmcmVz\n",
       "aD0wIHJjX2xvb2thaGVhZD00MCByYz1jcmYgbWJ0cmVlPTEgY3JmPTIzLjAgcWNvbXA9MC42MCBx\n",
       "cG1pbj0wIHFwbWF4PTY5IHFwc3RlcD00IGlwX3JhdGlvPTEuNDAgYXE9MToxLjAwAIAAAL7LZYiE\n",
       "ABT//vfHT8Cm6Plmy51FPSEwitj6SCi9WOzQMnUAAAMAAAMAAAMAgk+uk6+vZoIyrAAAAwE0ACmA\n",
       "tURX/CPn8QLZTaTJqMci26nmuRuu2Ir+lN/tzT8+G9BfYx3aWoUnrL1NU9flfCRLewibBxva9d3d\n",
       "D5z77mRw0pLzheJDS4eQDtInqFuAKNpIelAhaGvb5OA/SLb84gud/eJnjiUi6CxzX+eUJ0pf2nj6\n",
       "maEu/uxSiszbpKgDy/uXNa7iAD7poZPEXdtLoF0AnVBBzJ10n2KipS5wVbtFmhaVEYR1E59Kgv8R\n",
       "/Fp2ahBPnXNSYu0+CPgAFtjw1LWZG541WO78a29HQwYfU9WaphA7fEPx2VnzudmxQRAlCj8HB02D\n",
       "e0Y4OpDk5DeAUsK3NeyYWh4ZpFoAM5zuY6BoKf9zzJqTTCV+6azLlFYswNomC056twup3b/jN5gj\n",
       "hH+xOMRJU7QPC9Sz+h7Sc1AGD0o19OoApIJPvO+wzun6/KZWF9LEHAkh0g8N+v7Ec+2RXPlPlPwL\n",
       "scdzTFeQf1WSFl1IO28WCagHyyCkinBshTY4/wtYSBaBFO16waR1VgFB++z3AapuByNV8lHmGDJr\n",
       "kEwezBT6ti1EbW8fNCr1rL6/P4E1eam5e7zEvAHaO0U5rLG5L3FWTvdidqLYe6ELdeZVwYyPg9bW\n",
       "YV9/DSnyW9m9ShEKAcec/SCEJLScJcxSA0KI2ZfCWl/ecfu7vflqMWSSVJbuFVQhsqH2gLqXos5p\n",
       "1MZkHjxPWo8YYmh5GxVGuR0VSk4I1kQPKJpuw9PzoXEoL0zN8JQujE//Q+Qb8TYZPr2jVh7B/RN1\n",
       "KfLNsL/eqVSBrY2CsYIYrQomGNxGGX98nb8N8hNzDMuCFfJURk1kP06PjfGUFGiK2asXvSimoSlr\n",
       "VJnJugSZjAztOwVbbW7XfJq1/usocfzWiKcCSiEgaFlOsAeC5NibaUrkOg0GQb+Ro/WoXYFw+URG\n",
       "Gan/PNw6COBGUhyC/nHFpJygOYq7hD8bx4NiepAagBfNd/c0QgJuoTL2m86Cj2Cy4I+yhEseR9An\n",
       "6qfgaW5xjCfYgXe4JCegtUimO0nABWRHxzbciYSXvqbw1aUbFb+XtDj7AS6ycJ6HLyWeeZt6+NU9\n",
       "35P1PwXY8lhEX/hSwVoWgkKj5J00EFibPnWL4sG8px+RApNYZFI/aJqeGV/3KVaFfTyrM0vpfSR7\n",
       "fDgShsogAqRCl19mwk36q8iPAYtPYCd+6WbLShBw7MA3u6tkMFbnsXs31gPmkxs2vyNO0Bj8qrKC\n",
       "gFtyl2bimu6pj6LuHAPjJFZAoWFpsRYjgT0Zdstv1erqzvBhR4gUKAyeucMHjNJJqgvdozMPX155\n",
       "jUexddRhjUMbesvBMLREWsWeS6jwV20qJB44AHSWKmQVQc1tfBwCSYviORa3vXH+I7Ua/uIDbgBK\n",
       "vYOGgXB88uU7HfcJF5VRTj5+YGZvUJO12mp16q8gpoJobaApyEq1tLDMv75lKfGG9t/Gn62zTUvt\n",
       "8xVo1Cjtf2bVrjqoYudfTESIO7AJ5n7vNE8iAI/qNny2als3IKNIJTZzZxq6FqfnlMBYmOT0I9Lo\n",
       "xjp7eWe8+e/bo1BaovLP5D/xPMkWTNTJ7YByUaWlf30ygu0OutpkaPyxLq58XR6kQJ4EGHq4Zp84\n",
       "Y5mG+jxpwa+t1jf8PGDJ/uUrBBSfSN/YQL14wjvux6f5g8fpEJN0B6dWteVW37vNqN/mj/p6KTlc\n",
       "xil1VU6r6ClCwmjzJM9D5MgScSdbFEhCRj5VuDSlnBQtlmqWzvRwefAPnbee3vIAOO1dqeJgS2gk\n",
       "Rkb7+C5us98fT0dxXUZQ/uz1cSgRGuESCdaAV7oT17iDUWHQlet7eE1qRSmcGV9rK6JAgbwXbIy/\n",
       "HV+hHNfM2B0xKBPF6WrhrYfcGE6HuITJjcRA4phjMbWZSlhzy7aBfR9skVea6OxFgwqfja9hEMQ8\n",
       "otzjZeDI54cEMxsrOJ3M5unT5pPX6myr2PT2gcUDb39h6x+mWlKfBsCRZM5jmVQYbzf9Z/iUGpgR\n",
       "l7bHw9SnQMGNs2T63xoZtUQkL+495bKO0PlkEAtMfr/y2sbC/J2/VcLVEPOpP1Sgd+UGcnmY8hcS\n",
       "JF1xJtiVgKuhYwfYa2wWIie5eRMCY96Emss4CIf/AqEWGE5NIfKVIy3KAXQmuvZfAZsWE4PAugvR\n",
       "k7ooqXupSthiCGk2AOyg1PuYDRTuUM7rAyxvsEB8WnLUH/Hgf1s7nV1AqQ4oKGAmDKUXs3G03qAM\n",
       "7x7L0pb6l5ylam8QqvwIEqbBbfiZbAr6d4FQw9YnpnKPDLJqztdJ5rG+xe//qlpMl/aPTN0OizDt\n",
       "um0Wx1VxpNZOggetxy61eDgjn+SxKedEGXd42PriIeFtzr7r4ANEg5ZNFy0oqkymmXX+Y2TMvGQc\n",
       "Cb4xTAPY6G/BfxDzZgbITuIJXGbDyHZY4JHdIU1r3+NysRzl1IFLy6MtbSmzSqMiVkibh7ooSYr+\n",
       "gTS7YlJLmWYw9I5qNVyFzDAD1v7fEHOT/O0lVatAwHWjgcvJ73WdZSBdCh5T7VgEDzDYQ/ShbwOr\n",
       "cfd+IgfRu6DDGONzFjFGGkirkmEvwXdO1tfOnlK0w5QklzrkulCs5ecZZPpetf0PL1IWuT8NTQ5L\n",
       "2dKVdRJay+C+R/g50VkZMCZELDqUmujt19ZfSwq/O/HXswD6a+q17np/pTX1bxmnzTGvGNXjWYu4\n",
       "3U6p2JfqqmvNrE3H6h1BAcrJ9Z/NAllFLxNj+DBQ7FveQZf2OZMcdKIsgnWP84z1/LJYqEcgCk5S\n",
       "qJxdaH3+ICHL3AYsolWw05L+uJLylE1utB631d8XfHijwYyYPzQcmFt2ZqS2ufXcTwCuQ+0LTCmZ\n",
       "jQhEVoob3l8/XbfUh+MtO5NjHLdj3JNknt/rBcsVTD9EQ1DS+aRo6wajzrn2bNfMtZODSIaQN/no\n",
       "h4ljptpyJ08tCEOFgMT/QKGC9G1gRYUdP6pEOH1NHh3iw4im/Re8gpjMtzcF2dkX2tuXizg5NM40\n",
       "vxHrcVStM0SghZHoU79D9EaSUEAC1bJfiKO3mzdyxQRG5Kv/qpDOwW/DZNPCViX0QOQPpYnLmKf/\n",
       "DnQ4vPUcScuew3N+ai//lTtrsGlPGX6miArP5C49QqOVCAmtsQmIkXQlQ0Xj0xaHoWdLDft8Ef89\n",
       "DNCZZr0TIXmW2KTcvM6B8Bi55fTr005ztvzATH0Y+2ebzRZOdAPBIlb9LhmM72rgMwRFQWD4r8re\n",
       "T4cc+o9gUd+XXdh6bdc/IsYm5yOUZnh016+ovwOQ57BhpFQIkIG4v17/zo2zxSz1ZisQjK78dMBP\n",
       "CTjK6Cd7v8uMvuME5MO7m7AmcOJtupkEloFc26gQCWDtXXq/sW3rCmgGD0L7W1ps3Q/u5R0TvTgB\n",
       "zbHrWZVC7RfLogGKqrt7Cc7CT2bByvbtLxchxlF7uTw9hNg/R1yTThwrRolU21Ut+VcYqdM5Pwxi\n",
       "nI0iukHTP3FRMiBi0VfAXCqedn6J5MM1hQeZoPToRwYA7B+Xxzc4ALg8tU4gRKk59CSVH25etZ7J\n",
       "KjMZcfkxH5r8db35RNWURtWPX0j7yAjpLRThzAB2gSTd+apY23kqIOK/l+q2AitTgW8syCyJY4eH\n",
       "Yoyyt2gxHj9j/EO90WCgeceOCuwMpEY57gv0mZbHeNSCMznoyvTyC4iG3KLdBHGOPXLjKCUYnjpR\n",
       "ZvHBFCF+amEo+AlZtosYko7enbHrnP+XXonklEAAL/lzS+8fq1zwiuJ8Mtc7KQz/5AIcVSsakBEg\n",
       "S3a80yU32q9Rl1zO+x8ulqXGesPUZxLXxboAo/NP29grfDCBFhDJgl5qfl4tBxYvJQUbIY52tgQ6\n",
       "ziiHOVksg2NNJcs5x+bbSAmkYtXP251BJjCR12hnhNAZx3wtnHwKg8vvugU7evwR04tWiYblEK1S\n",
       "j7X/y7qtfkNMqP+El6LWagD8I+MRzpJdkK0WR5fbovW4AbUBt1I/s2CNZie3BhLLMiZoCa5p/Ux3\n",
       "k5h6vTaAJxeH0XzQzAE9cCnl4v8kbJBSDrjpf7pTU5JDmBS43lXpJLzUrdlPU+fEi8Xcj17nIOMt\n",
       "SeOc8T9yMirY3cEBRhQ1HKvyWCYDJDI4AwItAfZlsoINRDAoAAPfXiqEsIrS0ZehFZMSlJEkRScd\n",
       "nkaRFZm+tDksta2rhF+ig8jxcXrYFNNrf/J+P3s1ADhl9j2VZj8BWGjHwvJmnMTlh9SNbmZIomoN\n",
       "SvphEj5hgH9TtvkuD+EvVFWKfdoSlnIxxadphmI3LT9i8l4JGQPfILZe3I8ddU+fqaVB1+S/epaC\n",
       "LsXcCjdJnxT3DjKVXI9qt6QHlKvZKVXQeALG45v6upvROxd7/VP/7Ua+aDK0Sw0WPJvPQbFeEild\n",
       "32FgqXopYttiAR338xThF02d71yrhLvn1627vMVc4Juv8f+2iSOC+G3Ru/YHKRfKfk9UCaEKznLX\n",
       "GNpHIxedY9jikPgQnTfAT+o9rnQOfDB7wnNGF1P+KROYSunWBTHF3rRvrC4h5zCQRrQyRQwTdjuN\n",
       "D/ANG8DlUjUZxwZt/nOcou7vd5R+e8iZLCiroVI7fZfQUQR7yoD6VlkT/Tg7+aLtK9Qn1z4t0wrH\n",
       "JUd+QwPjNx56v5hQymwT01+Aysl/PQ0/WqTKJm5iZQo4Fm1CJDY7hxmmuvZOiiTrGDUycFfuo5ok\n",
       "328tkZQOrRddqnst50mh+ofbkvqiIX00RIFZAUuK3B0JT2vJDwsTlR3MkeJAYH1l6CxthNY4xT+a\n",
       "R1uV22OqXok/MGcs4XQj48GKNW15hEGu0hbMG/lvdgnJ/R3xyElxTHOyz/vNN0F7FbXAB2wKlQL1\n",
       "JK8b12suf6eI0atXAxv5tBM51UR7jY6bIEY0ih3Vd5e/aCCzBv/1sPPVlXab+iza9lWunlQ6cUTs\n",
       "9a5r1puuQVeSfvq/yS1lZDdGM4HToPwRWOukooaWVYdqt0iM7LvgZcSoojOTjfXnQVMPQg7cuy8U\n",
       "v8ktzole0e9/4dix6mGGG3TU6g4DbBVa7f8gIvobTIGca6TeFu3RIDuUbOQlBMUhxkQzQDIM6Be1\n",
       "RGhBC+Yb6/3M+UW1Ud6me8DKbmJgOyBJxCJORNZr7xFckS5ZsQozaPrKrBKN2qesRk8JQTqUEofm\n",
       "9GAajO/9ZgxybPdZG+UoiVFGw67eQnIaXwZGkMkIv/S0vZ6+sy3c2mp5ZJFtcBdNLPBfvGDmSIZk\n",
       "yIGBqbzUekmgW82PO7+OqapjmYi//MXx84b/ICMeTqHsHaEab5mwslvNVVvdqCiRQt4H6eVQdhhU\n",
       "pqC0dzzeLzsSk6jYSyTu14lPatJfZaLjvlyfv+3WRZBdleGGBV7cGS1cErHINud8MldBrwf2o99v\n",
       "NqsVJbx4kSF4jzMWvzgsf41yiYc2VIu6Ndy29wAdghaZOo8+dCN8XRxvt7yl3g+C1+GASElUmtgZ\n",
       "FobMPbApcWFZ0cgRtWwFOiOXQMMpXBiCIYsfh1i8NP7sZ162TAoHvx10AVpZyu4QIFM0+Xq2C+ji\n",
       "wE863lpJjleFLnC4OVeK2c5q7ufUWsKm1kST3396Y5JvPGj64K1kxCTKdga8K+D6WexM5264c9cW\n",
       "YTPLNphv920S8qk5yVxNetLvVqGeIcUDNI4PqYtajo9DFLWucXYUhPjQdHqgnH4FGH/OtGOO3Zwl\n",
       "lA3UC2f95728BZJn671+NkibWGaJIYB+aOtQpCStFgj/EN14lkfD7Ke33eQo4iwV7Kod4wnoeOI0\n",
       "Mft/+8tzzfXgx2k5VRQCapNa7Uv0JmL4XCmB+E/4V2CMh6SDxCAmdAprm1nB5y+o+IhqLOYJtxt0\n",
       "8niSCIKkMeE9WFEnaweI60+UrfBPCJwz1aS11AM3OcHif6ujKLOiQCkAO6mWsONY6FEnYSJA3RdI\n",
       "pjl636oj4j3NI94yn8AwrD49aVgksOK404IA5SJ2NubMvGbVj1jB5j6zjMVXgofLti1ctWxXt3ui\n",
       "fyWQCbrGN3vXfkP0L/6mG5bOiUbpfNxpTyoY2rROirAuwLoI+7aT0KufJkw1SG+cdY4sjCU1h5Pp\n",
       "ewq2Xw9wGLEotJ88o27u/0i5zAGHjsjyuAOsCQsm0fwZK+rEXEgh+d2di6tGLcQYqvlM0vyFMnmq\n",
       "QYL9kqJyc1Z82ondXpNYFrvQQiGluroenLLmtmQ7bSs/nTntMHN9VtoexYzwH1nqUdaU61l2ZlNH\n",
       "wqJNB4q+4/bVxIM8zl0RlG1+8ltXw+q7rpmqWB1Sa3987yBqWJSDQrmro25ejVSNVdbNo1EIzEm0\n",
       "xyiATfK31/OdA3yGHzHRC0xizdy0GQh520xocOAWNGCmM87O2YPUNOggNUmETy9SkNSOqB53PnEv\n",
       "b3A78uTHCZj+w/k1WkfcBMiKhzNlbvWa1ItOOwOJWw7vOEi+gfu5NTPXEjRHAxk+FlNeOrgBVaKT\n",
       "//Y0mj02QCKDqDHGdzmH7XTjOoc4yFDoEtD56ghZ1WsHHhyZGK16avtX0HnUUHlu6g12KQbSYjt0\n",
       "rwvihnT1wSwDjE/6CRLbNYPW9/B+qDQSgkfrMbvtrpVlaWzPXp2d0qu33eGX2SycKPs3qzqi9UOu\n",
       "zlS6ftKSZOPqOOWYR/PbEbStb65Q7EveWwLE9pbTmckFbNP8vth8Mz5MNrtSGRN2xB2pH5ybRkq5\n",
       "m9gVb33mxcdz3haHJUQt/1UaTxh2xQn8UzumSz+lLoCz1XZ2I98Qo0MX3g2wyYXYkdiFizTtp7Ka\n",
       "5NGZJveNKMZyronAgpNilmtGhK2u1lytWVOhP0sFFgabD5ynfp/W9wLQpvwHXdShWFmVNE48fP38\n",
       "QtaabzGom1BUZ90AmNcPubXZZ4B8CAJRUo/QB8HXEV0c23LuQXfGokbRcpqokNLIgZ1CXAOWLews\n",
       "SDSF1g4yrs2FJkOUzChFb2S/0rx1YVJ0bqCNkZxe8LAqU8GQ5oQ086PnY/B74XHV3VpHbyTWpMLM\n",
       "HT7abcmI/p0t8UL5KgtOlD3KNzBO8zEbhqBSpoHGwT3NdLY99zLpKSAlVLLYAMRyH0jq6M9Out9x\n",
       "bzOA7ugPwIrY5C0OY0svjSnsJaDlYFUsUEBGM4M9IAIyHGoqpKwRiUKrSHQMYDH0h8s6wbnocKnJ\n",
       "yOT4lykQQApKq7Gga7q4MvT7JWQy/2CWFilSRB/ZHkXKR5hZk9ZUNrji16MrqZOS6ZLCkX38lb/6\n",
       "1G90lvztFX6rRRTMWjrREkxE2++ckOh6qYSCBHJCKtvFYyqQ2Wq8+fl+P5ujPhRBC/HXhdNSEsvZ\n",
       "sai9Xr4aBhHcpIwnRtBtde7pzkrt8SfYQZ1LoMR34Ziw1ABfF+YxPVhSp2ZxWgPe63jd/zSo8gOm\n",
       "oOBOMptko7pegUZrqE33mF3/dEZKPF123bwLDBMigajk0mlxJs4INy/ZuvYIDf4+E3ajQT1NKk5D\n",
       "n0eqeUzYboNIFodnrQOC8jnMGmtdIto0OcUaSWP9/81po5lR5Z/gBTBRrvjpktY2Qknnt5iB+xmU\n",
       "Bm0gVWmP7FQqf7Y5Yb5b9zeahjGTkCWNppyXwoLYpbyycso5SdCgors5wAs7c5gwp85lWc9Y43Y4\n",
       "lPYodzTFV98Hs43BTgJB/3XXbGvpEor/g8N6l6O5W+IHzmjArJiMxodWKm8prD5SjGSmd2/aUe5s\n",
       "JvFDTuVIRXCGLWuIomMyEOcBuEaieOUsCv4oz/P/Dk/poH8Mtwsthg1Y48dNFRgzDpxiuCUIIfTU\n",
       "z8U/w3+ZcJ9XsId4MjfczThDe7q0/03CJshqiJlTjtB0huSZVUJO41tF/MZeWxHG8doa1FstVkBU\n",
       "HnbOQIeIjKQWRmI/Rd+thKpMBdr6wkN47qy0Q0fcayp/n8tGCi5Gw19ivPbus4/XwOfGuxoCQjKV\n",
       "aOGwBYy7pDsgfcUSq8BIN+SQpNS9Ev9Vv+aInqm7xjIVQjfdAxJRVLNkNkgCuTJ6yXTDu8+wLCqU\n",
       "OiVaS0D6GazsTo8pcV4tRSV1akh+j9g53WtymeyF9WfkjLd7qmVKV5JSIChX9Unn496NMpfsWbqM\n",
       "Dd0jU5qignEOrRz+M97JPzsy+vFqpnRs6LoYpjrzr6kqAfDMwPLiftTXq+HzbHr+7hTLWm5PELoL\n",
       "kW40aYp1j3vjM7Npj54lhHR9pEcnNgT9l2ibZKSNrtGnyuHJ+kk4WekQoAGl1Ggr5SnHUpKPJkm5\n",
       "cbYg7SH9sYc6HRex0b+wMEIrAqO6yWo49z+HqD+E5Y6xbsY6zK6M/UcgIBrjWPFkfAmVEBaYJBXD\n",
       "DC+l1GsiF5B7YX0l7AiHGRLOPz6ZaDoggziTSbcJoLCdMPYNPknYnyNYzI26SD5Wikbtl96wYbLh\n",
       "+7BjESBzm7Elfpoz8hUKkHCzkzkXs0nPzZyp1BADaP4g4O+8IBbuEYIxBYa3kLVLRFqzorAcK28x\n",
       "3gIx7e0+/6xdwmu/AIhMp50I7PPt8wUBHg07kGHkH74P1/FyotNLA5dB2hUpVbwCfPMP8cKhi1++\n",
       "ipu38lgQj1zTWfT/z5mHijoqRONUCOw42idLyQKndYtwI+vbEGvZ5NMsN5lh8B54V8QqZtKSPURO\n",
       "JzvC01IFXMr6vuJtT5PhiBm75roszPFm1ngBlOI4jkFyiwJ6L87gYRcn8egu/NlYl4+nn9U/vENg\n",
       "B4EBnQ3+4Bgv8UmauTDI5SiRTznXsJr7/DXFI40IyidI3l5rHunFbBVORQDii0fCXOA7iuzIJoN4\n",
       "ZSwffc/vJR5ItQnJlhytVRzzaPKFb/nSCCA6hHyrh/lENKLY6O5gqIlyJN31sX6v0XIsvOHenWXo\n",
       "Ohy8smqZzhxGOa4t4RoRRCHOZEG+a8G0T+lr6OOaD97KMxAEHVYkY6WeLLEhQxRFbSuPZ6LXe+ZQ\n",
       "jV4mzWjpm4rZBemAWkINhwcQfpwawKRnI0d4T4iad9Yc9sfnT3Nt+ZbBW3Ij8dp3AYfXyk3XkCez\n",
       "alNtKxkdI1GJJs24CQ9kQfuH9Ddf7CeY+4e2V5FZEu9WuBPzvQbiV/oTsni7vH7seP+ADj+4Tyn6\n",
       "L/BCjvi2qf96V3XXEcpCSelzgc4cFlBJPrlA5y9xlWwb4iOPVqmtdFfu6YxXPoH+R0qpm7KRPMzk\n",
       "NaYFW7DxwSpWRCiOnlcPj7KFpBhMxisOugYr149Qdxz0MeyRsNrc910Maw6tvIvtfPeNdebYElu4\n",
       "CSlafnbDb/MhNqHXM8UAS1o/NVqQjVHZITN0me09M8Yx1tIVpB7cGFtPua9yBDETws5zMqoq/Put\n",
       "EW4A7ZUbtUwCFCgW1FgsNZB9eZJCEa9AUtgJThpG2UpR6+5FgBt3OGrvfL1Pyn2HeQk86qUQq1BQ\n",
       "nIwoWTCSpYMD1d89zzg3xFE5w1lQGFX+uJnrzO5Oi+wlwSxfTAidP5jrmLUqwzRZNFUZYtvZqC8B\n",
       "GXoRyd2g2l/d2XbwAD7JezmlORDyFPJfxnUew/m+3zJWt2ItbI4RbQG9fjj1pB5K3YU1fUrIiovW\n",
       "W0xiNx4+os6hbr8K71WblCSlfItc0wKLt1sBTt5HjAerMswJ1xlxlEOXX/Wb8f/c0g6rYUjj+ct7\n",
       "F+AvXmjN4NgwN7ufkkHRMf2Rvc8LC81b1g2aBhRzAkPo6Sii6L1QW96YYqWhKaxba8Xq/xPAzdit\n",
       "kHEMw+Mw00Jn7dUBL2rgBKjPcNcJqDjKNhmj7AX1hJ8TuwFiHQgOoGe+UpKyVK1Yrzur323AewGM\n",
       "EFBqNd/9lapRDpuY+EAbDYjRk1yPglNVB84Aag1Qfi1A7Pk/oRNcNQMfeXOluRCnohtmFUM0RAu9\n",
       "pqFddlUWxd7MOJfK7jX9x9R8UDa1e4NvuNUVkblpLn/RBV/Woc8JknYsrb41iNX7rX9nlioi8quR\n",
       "vTV1CfmbZpFM0SjfJbGOWau/0l7xVvdLG63bMlz2/O1y947IXXIyAxeY89TNrZtNdpv798taq4jD\n",
       "RN9EvRbmHuDhYvzmEyqnBecv4VGRDSBt4GRanFvnE/GcRX55dLJt681r+X8EVe/Ur9RBw3fpj7K6\n",
       "DBzFEL6jXGUcxPPMdYaxUj+bmcM6t8aiJoYV9w3vSAAiB8dU+Q/iBKa/lE6s7DbZp0dv9EgUhcnE\n",
       "JMQIV0UPPI1L70RyjDcBG68xlZssH013x7x3CwUp5gtCeRDqPJbdaoO70SnNrtnB35xa4+POMHIQ\n",
       "J1OObXm7i1b5GQLp5+UNbBytaXIS/iPojcrMDHrrgHM8KrEYUY3zVguRu7G5EXgRbf9evLIpL0VC\n",
       "0GBqYYWibMi4TXe39KylpuE7ulq+wDc/Oys5a/vjBHwhCS71hreGHJY6kWzaX0HDcTGtgtU+tugp\n",
       "2Lf8lxH6+DIR5iH1VpWHB5kEHtXAG8++Xj9lX6lXub3hAFoCTQnUiCMdV1YgUH387JGN7pGQBOgF\n",
       "IRwW3rzEfb+6FWqr/4KPP1vLNB/ZnJ10AZtLHMJKoEtfT1Cg9QRffpnFcLJ2wRetjS0uM0QCrcSq\n",
       "tQCx2MyKkgRQV/muFfxHpp4f3C4OL7X8E560FTuIY3T9wozIEtCAyDZaYCsy4ykJjK1mOIIA19ge\n",
       "3BkPpySfmffYtLo8+KG9woX7cw5BmcDXRAvbak/qkHyGtOq/6Adv5QY2eJSkjGFICA6Dq2drUNgO\n",
       "+snT7J8qPRhR2+b8hlFH6HQAtB5UMApn9fHLfNKPFaNe0iVjWMB0ldFvG8OFODtCBLWZr6/GKJP1\n",
       "RtQTwEFbFM2eZ1nq8jeitetuwR7pLkTWVJhraP6ZtHbIAE+gQzpj5hz8oqXBco1R6UCR50rfTPMr\n",
       "666mqmoRRW0rjkwTCxQkKyrfKATxDVQa/Z9Nd5nzJx/aDYFq91MS9NAYuRLjSxJ8XyuY3pTjH7h0\n",
       "hEOQ7WH6H9ZhjoyJ1HVJ/RhfJsyQwnkRO7lRV0Fq87FAxEmMhVZ2wTS0Bhc0qfUTm4M+iizQBbxV\n",
       "3FRmEfnUZtA5Sd8RBqheTxBoEfs39PzrNPh3EqcYmUYez2skVDGtWKNtNi/rolYTcsdUEWsrjVcI\n",
       "e28BVDoJHKc4ooJ6JjFDM2JhfkqlNn4yJCp4eoE4QcDwjmh9wLE3Lu1B8L9hplxYflJrKgqSIz1X\n",
       "H/bMBTk2X1gCwNNktak4OwKTKh0zrhPoXnOwAawMMlM3Hn1voAT4ZTzE8kUEjlYYEll01+3A+g6Z\n",
       "rFoEvTgLRrV+rgjOTt5Oa+qMluOL/+x2znznJ5Ou1JkvM7fxq/HLrHaJxdSEUXuu6nIWxpBZw2K9\n",
       "AphPpXGE6GJO4Q0cPoPsvLgfAfcunfqeHsnlMW146DNtyYylh2evzBDXzu7bzZ6VHOZMC/q5kUNA\n",
       "c7hoQg6KyNfttBKBfEaW2VhzGVokOOq3QXb2Bace/iZwc85RWlhWtdIl0BoVUqTa06vcVHXni0Ki\n",
       "YI41nA8QasSWXDdoJDNNDNbjTUWGDto2f+QgTbcbjR/hXMMzPgxL/jCN4Mvv0bXXAL4y8cAVGXFg\n",
       "2BaYfRJycuoV6wl2K5/j6OSTMOU9sqxX/+zOWwqtElldhisgc3kiLzHjt+WiXuEcW/J6SCePvGQo\n",
       "Bl1s2doCW/AR0n9X28SemG6WXJwh4X4iCbV83Vs/E39HJwLqOz0A4N+rnqSnC4ntU2hfWuqRln7v\n",
       "QKiZ7NYkzbvWbhiuDTtul7Mbn85QL1nd3EaIYtBosqT2ejaa+2dqHAPUXgW4hqWvE9g8Yei11HHd\n",
       "Sgc4ZeANPaGwHHsPjet6WqugI+tdzkKwNCGqtRRQ2jX1kW4V8i0yJdml0195k82t6xUdYYkMzR8U\n",
       "47rdezECtrSCFNPD7XnKstAm5WRWJQKPDzxLTvntQrUQt2SGVCvzWEG+gkxtoXS5vyoMPxG5IMLp\n",
       "2G+9G9PfwokwSXZW9xpENFt9gTo6o29XSh1iFU0wTnbPv4FBrH4PqRf7l4t3uzO/pLigMGXAmFxW\n",
       "5JKDkGjJdYOE3tDh+z3XdbuphnSkDCu2kDwZZFl95wTG/AOmGp/mDOTd9RzXOznV/Y91Gnp9jhI8\n",
       "HGLkf09G0Hu25fDLCsTD3Cmltl5NGo31P+9eW0HQ0rfkBAxf7zrFvpQRrLi2vPkQy9prJQ76XUUp\n",
       "aPTxy7zlPS9NjVoF1l0mqppVfEJ6ZRCN1zKh/V1+B3W9bRCYPpaPjr/v1YY+f9Vn8q447ajmBTB7\n",
       "UPgaoIRwLRLOO1tRuoBq32ti3mUZ/AGkSW5mFceYKJ4u7rpu30OFV44T4OY5uxZEzmlWhnLTgBJa\n",
       "jIzKd5YXhq3VZ/IUO3IV1xtu3A5KAToqMvWHIJue2x+oWY3CBltiOJ4hKgbNLSyWk5XTJV4qY2So\n",
       "oXk3JTsbMmnui/PwfKqmrzdFhiNYzPPyvGzkdy/ZkwpeMmg2ZPBlyoNTsvg2ilfDSNk+DQOXwXDR\n",
       "/pLuaSHvEXlSGKQiVeRUr/SqwyCGr0Z78PG7qW4wshbe1f7hlz1ZaO26JoUPhwr8BPFUNrclltw8\n",
       "JG4j8m+03PlgusqJWQ99GCHKAzcdyDFhrDDMk7JlZddCjztTPOrzYSCvhj4DOXcUz4jrlkKxAfND\n",
       "6fnN/vAIbLf6AWLTNplItPmxZ5OuwB6oXuMeBIeeV3ExOE8DhGqZquMRbHOiWDnos0uuXNfczEEH\n",
       "2l9gsWAQO7yY8dNAEBE/NR/cuPzQf1XWMIjbqu+lz8Yre5pq3hkadQg8Mr6/QkoTRMaE3QQ4Xt+0\n",
       "V9dQlo92acoCoAZem9UcVeN81y7wpD4Cv+nURv/Q5zU4dLvEZoznQQp3zFMyDA/Lcjheowiga5ey\n",
       "wA4L+V6XouQ6LBhC4DPoRrtP/iYS5pqkCQupWBJ7M6wqvCCP3m9xrDX6aPUflhR5NfostFxRMimb\n",
       "HwJlq/zbV+uiMfN1zig9ke40d1lapnoSaT2w+WchZ8etCizKA/JJl1h38BuRssQs39NBdF/B4oRg\n",
       "l3zqMnLwSeVMUO0+cWoJNrw+7UIgSM32XDpKbehezVjzFFpLR2+tyU3LzKUBmKs6Ptc4bwxjzyo/\n",
       "KT9lGmGCHbVSI6Fqj+Ce+rSkN54FQ0uRbP2s7yC6IvjxJWsJYQHq6H5k6Sf0L77azr7C20ytxDDK\n",
       "zOaC9M99Fc3edAc2m4UFYvr/oDvqb4VewezVtXrbCBDMKQ1wZ3z4GtW1yiEyNNzVp6MUz/MufmKY\n",
       "DPIx4CrexYi4JQQK/qIOrpcxCAgyFCrmaYKKj6SWY/dWrsPM1AjqT1R+Hp6iIF7JyJiVGu5A9DSN\n",
       "6PpT0hGeKHKViGVKn3oeRzCBDvvx3iRmd1FBQIKyuviseEN5Q75F+HndDTPdT1aB4tHB6RJC1vvS\n",
       "mVCMX3/ybw46uDtwIuflA7R8+bzj7UvmCi5q8L2BnRjLDPGUlQnyb19DlHsRXDVlYYtsdyowsxND\n",
       "kUYbouQ05S73eIG26+B/0M239bVCBYT0yMNWYi+TD/4yz8OwCopjeoCbp3HIFdy8XFi+ETMMHDcL\n",
       "ujg5cMj2EOQcyQgJ0Up6Lpw2JCVepowG9y+v41yH227WI0CrMsD1dDMsHtw+fp2BlSL4WdWrq+9I\n",
       "uuIIzUDkUnZ+RlJTANmsvWHZVKvHHS6cnX2EBJ2W9oaRMPi+W5i0LeYGFseT4zmda2y3UbUbjv+4\n",
       "X1O+F1UQI0FQHFBL2sUelurt0Rqggd2BnN+DKymXgPQTr9iknJDM8Fs6YS5C0ONd2Qc1g5kVWxCY\n",
       "8kjizHPDyT7SpTwmSBmEAHvOnJkD+PRqyc9Bd9SZJAZWQ8pVFmauK+ZwWqZ+kZ3oRDOvJP1MKSm8\n",
       "TYErYNSmYaY7JkWcd5Do7EeJrh5SXFk6LaktK5rfJml6+eOJS1gbudd0a19MvTK9QVH+vfZ55CHG\n",
       "5UdYeudTbq1AIc5IEaTRpGcZ5c2sGVjjhYdg++FMp+7HUNUybgu2zST+Y/FLJDC2IuH+KzDvbCyn\n",
       "i/IwEYIZXnEuylpgqwaYvOAI//KLBwtRB7hvJV6pKCNGw35WKpYZuF8ZQNQTG9pd47IHIeQBj6mE\n",
       "/jxNaJqHfMD76Idb+uhQ//HXkEyXW6KN1ABFBohfKRi+GVmmFTekG2qvzrkrc+0thgi28n3/zlK7\n",
       "GkpwNW6Dfi2regvkPNrZzREKlYZKykEBfTIdElMK9x7IST43Yn2nXV8zvXKw+WJDfY7CySZ3W3oq\n",
       "pThnX4OQW/wQxqbMsF7yqwpdRjPlUfIDy8sdAs5PbxJezPZ3IezhPu3g4V8tFB18HUucaM4D9v2i\n",
       "wVOD+2prGiCcMkfMi8N3LctWM/cuSAD0d4k1mXE+JFEQQQBScS5+nWNg+f9Wft01gbl4fmOfHHMy\n",
       "ulvRvHeqAfFhCeESVF8TJ89yt0xTLnir5eeWmDsPBS4DYSWPNTY9pHemg8n7+BLgpu5LopuAPOkk\n",
       "LxzremV2yvT7n8jG1E2lvHLbWcYyTfvn47FY98i43uWaKSRf0PgItuppCfi0ID5qcKHDrkY2TKT/\n",
       "o0Qz99FHIfRgXwEH3UI/UUiCNNpz9xqLBDkiyNHIaNGI5LD2gAQ/cHJ7kHo9rnHcLOlVoCiQNav9\n",
       "Hj/U8KeEj5WhDTheKZyYbMhcFpEhR3s+rN1gfZdxbvUtIQtxoSRq0g9m1xqlYiHl0inlaSxewWhs\n",
       "M81MOTCF07KigT5OpCGik//P6W5nA7BxkHgGUJxbVZ/k0AqryAPW7EKqfr+5UggBUB+oFTW/9OrH\n",
       "SL+7HJc5ZTTLt6DAUwq/IXYCU7XP4q8fHTN5bwdNorTWe79mpa7uta8JxFxnrLPqnzvx4jokimTE\n",
       "s6bvX3O3qiCGYFg3L1mjAkIK7vE5UK2l8plQPu8e90nmWGp6VqxA9UcHtVcNC7rYM5keeqj/OU7+\n",
       "ei6SRZkvtPe28sMZjo0sfC3lq8Csf8duIyemj+h8BYbiL3kRJ6AtQlfUbm4D5ser0QxsVBLU1xtI\n",
       "oO5CLnZixpgnVRIr64t7X/TapyorKTqUtuRvubVtluF1lLygAsAiOzfUZ2kHsnUUlx0hld3Nmt5E\n",
       "7qEe7IjEnh6MCSzpT1CeeTxs6cNUIuujDHB+l+JI7035zLuWa7ay8iF/YN8hpPl2jAjNkLSQDoO0\n",
       "WqlTCdSdcSVWIhLcOp1jg4yo2AT3K5qExp6XkxA5AGWCfpstsDJSLsvteXH10AiT+DcXBO0KFdal\n",
       "HYSdOV9MODLu+hBu8HRW33oDiXLzrKBARfBNfnMA8eLiXKNf3VORrnueYRGCjdoZCVKAtb+gbU3S\n",
       "ITWN83Kx9QF1UliEYcOwb3lJ0bYB/AUGVj0HHPBasBErX/LlI7uBe4eS2cZ8z4zPVOhE0yh/wqJr\n",
       "VnoNorm5G/pAaLch7ChYM65MtuaEyh7DI45L5yCGv2fm8pdc/5FwsyVoWjRax1lNSIYWbUEYRK0U\n",
       "CYsGXof1TwGsPJwlmF71/rggc6rmpGSMvRt2XvRg+ZH2OvaKSpaT6o6t5mnCd3dL/xD+6UmI7Mv6\n",
       "kWEHsPfM3SX0tZvdYJ62TLJBsS9k+S+9G7WwoNRWP+UlYKufWiJyAIoEICQNKvl3EBnPyxM/F5Mj\n",
       "ZdXZSO3mbg0oDSZfQb+nZsw/vz4SNOA4rJ/O4p/dJFxxkq3oXVp9EWsrCO+wyCSBBXY9NMj3Cg+T\n",
       "KZEZOsLBL3++qttt7agIHQ9jOSj197TA1WeWD+6RaUFTxzHCG7yz4ITHOiZnJAnSDu/qeP4DE6y0\n",
       "1R+Caeb5sAOky+mj5YsWSzy86VwEYe53Z5QDjJNIvTda4a2RO3FhwTrkVFqljQKJpY2KZVw4sJsk\n",
       "xmrcsv16SYMHtd1hBTxQTiAo8iT+v77GKZHhz5etJQ7rNsm6uMuezFx8PYktAQKUtEzJ1qu3Xfm2\n",
       "ewbxGH6/wL04v15hOYG/FRQ2bXX7F7igZ3YYARx2FMcEx2rLiLWoTYoi2+RCuq50RyxNq2om99ys\n",
       "3FgUVg5QhPFaEybtK3Qcuk+NjpQHSASz8k0nVZh4qWanOeE76u81lg4Vt46VjHLevhnXor5+ijRU\n",
       "fH7+AiHoVTHKZYXPQHXvBXAL73M0Rczf+DSLUcDtGKJjO2pViC+FJmakWFUERnEOGsW8DS9LvUnM\n",
       "VjcUswFcR3JX6f2FwxpueSKGoTlKrRdxhp1VPU8eq6Or/jSIlohNXMk/mWgyslHluK2QGcNfICDd\n",
       "Wd4Yj4t8gus2DBMkV9tMy2EOXuffCGBJjg75etRYeDaEFt+iKCoDn4V2pz4Epg5ydNAnFIb1nkaz\n",
       "azPOEfwc+pxs0pcJA9mQNMo3i3XZS2X0J7fiqXk68fl7p1MU0mXKsdvIRsLiaxwZLLikJSXQp6mx\n",
       "bdEgAUWvV/Vqn70fuMjRDPRSt6k4fHM1KRq/D8uUeMUZUxHYubQZGzfcEQW5ui2VmnAQkHRT7eN6\n",
       "WKnaFpZGU5gCF0dWIZdE+pAEudtwFShjEjlcXHOzHk4idfew2SMaiVEz2y5YkQ4/OIq+X4bUbotI\n",
       "TlZ5Z8UjIBi8f43y8RmWaKtFOiXDPE33jr/qVzP+MWJYGJx7ogsxzrrgJUrIhGDHspvXk9aEpjM4\n",
       "+rI4iCfYCbkaDeM5TaoDVyKmf5Ysyyigv+EhPz9eQIm7acbI0/MEsfF42NSmHd9RrMxcof9JEUO2\n",
       "X1imy7yw+it/bYK3NhiOiaRDxbdrlIpWfiN+N6LrMVvvNiDLbBl6+2uw8OzmRySY8LBvey7DZo2e\n",
       "LdXXunvkmkW7aLb94Sb+pkFo/lx7SzTfQp1Fr9TxBaueCFExvC5xWTTJsUWx3PiyZ66K6mVzgQaw\n",
       "8y5QlqKQYU2IaKeMY1KSprO5cqRjPPaNg4ZugOktRd0MwIulq89WXG7FT43tQR95w2+swyhOKX7b\n",
       "od+nJvGOFCfDEN2BdD6iFJEq9jnOTu6DJ4McecFLjiwOr9HCdfO3w3C3peIDQfqisxnAK5TIjIjw\n",
       "kese7IYrUGRBuT8GI1PGYvZ2iTonqrWxKDwrecozocHup8VW3C4phy5I7PCHtLFS07kJfl/nou81\n",
       "+3hU4xIEpTd3o8LH7+1Nt+tZUsu/55MQ5ZR20f6AkW/zanI2W5OeXHOVUqu/naMJ/+5KkIWi2cLE\n",
       "RYIUKc5OVERXytaY1fYG8OY3upQxhUOnwES2E7GihQs7nH4pn32O3u06UN4KxgMdA4weoU3COK5q\n",
       "Umwz12XEANwpUvdkP3bjIdIGEmQTt91pls/bhy/o21bEAuurVp9TMhJvn1RvxoC715AAmt23S7Zm\n",
       "oxGG3tF3jXyhhgx2BtB8XWuG0ajJuEZiQplx+20dBTXNroehKoL5FUTUEj9xhauXGw1bO1wDVYU+\n",
       "ElFBRTVNIJGLmYrBTMUmPYwvjgof+1nfl6KBsFzyBvwBJJQGm+a6FuL8evavObP/jheJYo2D3BqL\n",
       "S4bza+zDVJUoSDwXdayRW4aXdrKxun5wzqgD+Z+ym4LzcVKm1vL15wArVFRNA3HRxvTN/kVgdVYD\n",
       "l8Mh/Uq5GK+Kj8Vz+JyhaAuH6IGPTL5x7lbtjz1cTCVl6zXxccVCm8Y6uu/wulkZ+CPgU1UXwEFC\n",
       "H624dRwCblxTkHBcR4qyHMpVESeHLHZWSpZn+AdwlWeOcRrtPLs7fTm/m9R4U++QNh/pGme5PFOF\n",
       "VQ/QD6fZSvjmHEgA+L5O6GmbW3lY76RZ1wJo+FIQ4FQ5eBQ0eW9kixaIDszZ+ELu4eNVlnnz+wa/\n",
       "fzrEUKbHKBanf9BkKPwnLAcFRGdnCng4g6VOk3wexUyBisn1kN1TltCWnwyvCaXeQ/yEhtMtcgFt\n",
       "Wv2v7HH0vfXGNmq/yCXwq3Vn/pDXwPCTf/qqOAfumnmlEMMcF1XNXrs3tYDG459BjVCmSehuZYbK\n",
       "GYBzeSy/vFPPNarRgVZpUlIas/czXiyR1Fa+dSCH9AC+NQ+5nnIkyKVjD0+1p7KI0QpqRiZnlxkS\n",
       "LqZS+1IkSoCRI/eM9mfgevDYj/4Fwu/Fh13Bpbriwq/lKfUjGR9Nv7YhRzmshHAc+GlvzamtuOi3\n",
       "BwJZ3lhxh4OMp/Z6S+UzMETuA/xjdJVxgrL3LW3tKEKnOjnkIjJzbdRa+X5RAhoDDlTE2IYPQkAh\n",
       "ME3Ip488TUUTv1whuUXTEfUNOEjTwT0juObkA19FoJeBnylcnvbCwNp10eujwqQ1+d8rkxBNiFDs\n",
       "4bAUpVqeIvjJMul1wZlgExgSreZsoWNQwxUbDfFipTiXEkSw85CysnKNTd2COQYo+IB4VnGlDMaI\n",
       "2QffGVEpREUL3YIUvHIRodJqKckAlb5XQDGcbTXmMOe9DRDOZU9ZNlECRWTqkTqh32XKvb/BfSOg\n",
       "DVMfMa07fmPHYmUinK7u+cY6KMIiXRUOhFww2G6eO+6OHecNGrUEQcCuDB9OgGlrKaxJu9qnOyza\n",
       "JMaXAt5SJ3UDjVv+IMaIzTc6+fz7VHXp9CE6C00GYJ0aY0QI3iBkplFBaIrgWAAOQIy0qFC4tcbt\n",
       "qeeu8ZReM1SLoZFZmycfHrD/6nDt6gYlGW6KTFvN1sLO+7uWmfzrxvd9MWtKwdgWt2wkyTqUGyUb\n",
       "+pdffgReuw6D7AEHyqIqhI730exHSxM8ECQM8L45GnBpNO3QpGiMB0WTnmojQPKe5z0EOeiVmAaJ\n",
       "zMwSTzDcC7k7i2DZvlYn6x6qtad7KkOtVsW8cGvlsSPXEFrNJhDZSWLIKzTTXNziWCu0LLDqNTyD\n",
       "v/fr8WqIz/yrWIt8mZ4WWlNUFvll8HBPBgX92PbAYKF7whmKaCIXtWETlydTfHz1hOxZDhd12d++\n",
       "vzZnpiimK51RpH5mDpuWg0t/zpmPQnmM+QF0IifXnNTD65S/U9QVtmhLK6R+hd73EsrrsHtuaiB5\n",
       "e/xPiV9OEbrdgPZN4BmvhT6k4mEJFVzDqB/oIsrcy28hjsCD/bfVZ3JqFhGAGg6hqJFztNPN6wbs\n",
       "pn89DfzJFg4JavEGgvJp2rozMW4crOU1kXC9YnIfSw51ovPDKk7Hu742H0hrs6jSRDrxpEsSNETY\n",
       "jRa3Volfg0UE5UcidNUOPgmRSzBVTr5VYWzuiby5Ji+Qx9q/RvhvIzyRR3MohqpVJJaxFOpCHX07\n",
       "Dgz507jgIq75Ik+ed6TeLhZfN0H2dC1w6BinLtXsOAg7vS+J7xE+YRQnWUfpTzKzeCTZZwLlrSrz\n",
       "RAlPVK0CfXBCdldbCUOeYx2K6Zw8mkHKsNSXJLDsB0rwE7BgiX2zm+TDoacvCD4xHnEJ7DOQQrI+\n",
       "XaInJvf9880LkWhfVHlI/4N3lPiHKhjalVwQ2XOLqKbTyPJrywz6A2fnZPYIGdTCCqbvFmwwR65M\n",
       "EKCevapcKILL906iDcjMcli8LleeKu/iXZw+CWFRMA70TzH+Ajxb2tngScgZNJsnGlkKaSJtEW7s\n",
       "YZ8IB0sBQLXe7LeDJcmlx1VVcKoEGYSQ0Y7o42cob26kg75jz6mDz74VFYVhE2oCTPNgnEP+KmcT\n",
       "GpPZnBYsYlX4toNi/Bf+tN2tiQeAVVy5C1ysrcv1U4ASHOp04Swk0ncZ9hjFN/EBBd3GdpqiJfgo\n",
       "zcQqee/lnP0I7VgrOf6B0g4GCw31r50/G/LHK94AoUXEtklcHKfNIhisDxYl5Lkcbq1jr4HMDNw3\n",
       "CaLm/Gil9bwgrxVh3zLjqjxdjQ2IN76RLQZ5io7ZpqQkHL48X5slFWOfCTmunLsnhhWFj8cIUqai\n",
       "p7TPcniADNE4HUO+hr6urjVC04C/UYQKV1xN88/hjbvucB7n36IfsPQ9L6b6+wfF0oayvLDwQe4J\n",
       "fqSv5DamSEAYYdIozjykt81HmZHyNT7dEf3MhoFk/UXS4fZOgzb04vj1H9N0xi+gYzGonrQY5g22\n",
       "HbJZHc5s5dSWgeR7N7g32Qb6kBI7Oxeil0ytPhiEK0FFdNqCyUUVvxr4kGS+5883lC4X4+x1jlOR\n",
       "84db+0xolLjDyrEeOF2Z//t4jq/SVEO5stYR1A7xKfqJhfaVoijjwp+ElaLX3vD0K3zkN/gT80u7\n",
       "T70H+6if8YRtIt/M7EWFum38P3/I5tKd8gRoeHMehdBN5874KhflZSC2o8zuZS4n1/J/m5amqjaZ\n",
       "VpKtt2pfdq4FeipQTBxzIns+kA3wxIfcghT+9MVsq9Uvm77jZBGSwQ4ep4eienZD1FgkL9CSldQY\n",
       "4DrQyCEj5dr6igEPX7pfV/BdM99HksXanbP0K+9v7hzCwSTrlIqx3bKQhkmsF6BCfmlDXJ9TjQlD\n",
       "dR1HxDaNHenSujm8ZbjZPGFDpDttVIN9V9EDf7DA2kj525hjI7ZEq/4HUsnOsWluc4Hwy585BSMO\n",
       "TcVH9si1O2ovh+1+Um4HF0r0BFejSfcD7rRmcMyfWGkdQIbSqwVqrbZpKVrHxt1FsEY2z1mWvzbS\n",
       "xQM2IFT2YblktZRGkmhEsMjKa4VlJCucBCnK1+AqHzhBqk/RvGw9zYEnFFQx97K1uuAky2cUXqbl\n",
       "8uFlvjdQchXftRWP0f3heLtpEqRIiJURQkT3GIo/fIlkSToWKaLrwx87XYw8LL1KwjgXdpOfFjwA\n",
       "yQNO6qhxves0TJIP2SKfOR48CIDeDErqS3lLB9Q7r1mORtkvLAgU68Uo1YLE5kis3UsIf9LRVrdy\n",
       "a1/jxBzH88h/iZccIhzYf0GYrEII2nnh1Y23jWNDg0vBKgXm/6Cp7ZvtOY5+GVAdZ+riEo6PoKpW\n",
       "tljYpDndzebJAbGIDMNAXNULxPvuj+sBruwkMH6i6XcoJdbYEcFeptdnpSHQr1vzIJm4l+SUHhuf\n",
       "Mb1RmXMhPJVUzUMWZ/e8pL7Hj6csWs67IV34M0+qrwZt9GWttTxfwj1MogkDR5AZWWOT0oCbQSJ+\n",
       "ADt9c+V+Os6gRcj+YfPH2n4EoL+9PxxPPVbHf7tKmI0O5nvFl6PHY/5uJd84QZUANwN/J0QeOliT\n",
       "3bkXZWMhX2eZjkGD4gWtMGAwIsZHn/fWQfHUL6qF8+FK1yEfeZ1dpX4tYdddhoKPusan1eAMyUQz\n",
       "2tULuwx9d4K5u4Ya0/mTYg59UL3DO2JP/5prb6ZUf62Q0QxCdVUa06cW48eMTU4I3ROgqm156WDk\n",
       "gVBKeNxyf+Gtqd8Vu4BPp6SGbn4wAHqWsIDC3Bm4AdYfMvpOuUF/bqapIZZk0eFmscjkJMYCDhbN\n",
       "7zKfnlqAEsdWQGtInVRElotrfvAVRKH9Hg0vDXRz6utpxPGGN0sRd1d6TBjGuvPv8sgOsNlqre54\n",
       "RmcPn9MS0nTTH/vOD1N7BHTZ0XWtVDdpYD41vqeELVvmIc7JhebgURPrsw5C6RVXOeFUSrJzJkLl\n",
       "ELbMlyYSLl2eRP5eXf7dFYtRiyvbeRH0VUkn1z4e18uMBAP/r+U01wRcl/Xe/aj+hw1a2mSeQBdg\n",
       "+PrR4xibTthnGP7T3cweUHCt89/RmgKcGmzk3uSvcba/ls6CSPpL+Vi5HOYARshLLse7S4t7LI+q\n",
       "Y/QyqiS3dyi0iU/ljYv/NTwrazLOL+yO8u1STj/3y5vgq23K3ifYp41QR/bIigxetvzH6bgMj4FZ\n",
       "PenUFzesOFjAc4Ma7RkY0PN/5meeZYUfvYL88zlhoAs3YXgl7Zvpb+asbRpkLAt47BVsR675cLTp\n",
       "hgNyyiKZhV/miHqHgYSiLP9wUEjALeoV85/AkM8peGuDXHm5pgzW+914bWwqfuJniSt4Xz+vlmVf\n",
       "6xYfdYdvDU+4c6bkQ8PIvSOGenN8vW75Bml4/3wPTt/w48xcMEJaOC11Ud2admtEFo76q2Y6Djni\n",
       "O0A39vItfbvKnIKvU9ocErvOPs5pkhNgaFqTNfLFG/owTdS1WAyAUOk1bsrcoKMHFd7i+8SWB8Mt\n",
       "UYoto+Uhp+rN9nCICsA+85fuWAbFkxIRqJRicS0qy5N7V0NpyqB/bGiNAJAmVlZ9S/P8HxlO5k/L\n",
       "pW7cb1jJ5kW2HCnmoN92bva6Bi9nkTvPAU7O+ywa4L/C44LwJ6kLaXhi5f/9jEWIMKybcqAG44YP\n",
       "JBsFxkkX3987vopNWIzWNj3c+yWaBgaW+oMLDWjxAHcc2J80WWxuVbPOmCXuJ4woBSvuey0kaiWf\n",
       "KE1kpgIN+qfrlD64Bbm/SLnhtY94bquNmRLkHaxJa5KtTQsCUsj2g2B2KrWILXmtzTRC2ovuyTEr\n",
       "GiQ+hu+5rKhTJdtrAj31T/iyyC31zc+uTaemy4Vp4Oqs9Y3KkFO39YOnU4y4MXuVNiFOvrDgGWcB\n",
       "0APtwCcDeJPXd+TlqZ8RrfTN0Vwnt7QcfP7NK7zkv/poiicssf4VA8eowcKC0sx+TTeXJg4vo5hE\n",
       "0MOPYUDLLJtdb02q6cWf7qkXZGkee28KXoUwIyp71n7oTiC06VGGUTUAQsNxErwQaf+Q7cAR8Lxl\n",
       "MZU3y6edXbjjncs2E6RPEk65AchLM4jLRdOMuMzXWjH/lFeWXfsb7lQs7zZe6R99BWW9+ADlTPGw\n",
       "8WZGU1r8khDdlhJDmRcl0j3kXf1vC2SEpB9q4ZwBr5aK3GdabDJlWg54w8u5bgMbcm3HxsvfKGC9\n",
       "3057/Ny4krE7h6jTDxY85lzm1z3EHv/DPOvMzsQl61O0E0TpbvBs3ri6lPqwUS7PxgxfCQ0avyUL\n",
       "tHi6xl8hwmhFuYy1wEjxiulhTHpofSov2Ac40XyLvxDpfS6tmBZqXN6X9zWJXO176cdjkmtBggdV\n",
       "oNZcL3s5nBYipFE6tyklaWAY3vqHbfo7a1Rg1g36nvd87CvCfo8eOMpbzs5r3cMwlYEATe6dMBsy\n",
       "TppluXxxsPFPaqCUA76tKj7RjHKP4rUK9S0iPiAGmxFxWGD+3COQGnknAbOCyS96EJdrwEl4lcB4\n",
       "KC78MVVB7OJRcJoj1mijiW8g47sAqEaQXrvBEwGeAL2t1PEyVTBLGjSQoaxoeX4P5eZOAyTybsZk\n",
       "pMpcp2zZHW30ZAA9hOjqXX6UWhou3k4UL4e+0yVWc3Oqs2+NjUrbAuGkA9MpSWrqBpThr96r15GT\n",
       "sLxhou1S6R1ncKjDl1gwDXRmS5DvxE1heXPbpas2d67KpQnX3QGqqql1Z7vHLjfvA0CTp2fErh4h\n",
       "DcouVsll/aFPbXzBM3WPP+Iwi3c51GGaZ67djII77g1TdviATY+TACOMBZbGo5VZbRffPDkZZW+p\n",
       "YKo2I1uiDDpujI4N/VLFk5ttGi6LQ2pibemVry9fVXBfrnDU3m5N7K7wXeyWUxJ17/XZIE7cJrP+\n",
       "v+BHWCHtSs5E93RsUJz8ITphfONzl/qfO7+KI3uEmhu194A+cgh0DU8Xdl2IOd3WMrYbcI0ZZkRl\n",
       "it6OnWMMMcdr+qk0GtkX2tQYbR2ZsWATYBnFYoCK6e3a3mt32WSg5ENZzq+jIWjixGP8JhGODBOO\n",
       "1M6xYBGkQowPYcU2WXwLbO48a55hATPh6BJupPLtOd6Ci8W8VV/pDqAjaVlG5KG3a1bLZfwGuGB6\n",
       "dJn7mGKUQvkELkA2tasrXFDy3lF/SGVNJ8wgsp6cujiAz3VoG91Q2XLJqD+1XbuXylQrXSpQAEP7\n",
       "LeOL3lZSy/+aiYM1Oj7dMzvIO67V0905GsQ2Wu8Xvwpsh0T8DMdkgZgQ67EGNX9KmLsrx4QOrB7X\n",
       "W8Gxpy6oPNqg4zoRFG/iK1V65WMvVy33olq+6PWeXJIzah4/a929q7ut+0Fns3c8O8y5hV9NbJSG\n",
       "Kw5e0mDehGNUnC6w2+hTpoGq5T7lj5OVhPqCW4pv8A+oNZiVH87fptp4AymxLcHVCRizrhq3tBoa\n",
       "qYMpi6ppx+oT5T3WED2ZbLmwPKBS5p2jYIh8f0NWnXVjYxgR9WSmbuNOC9dW8LNFV/bNJYZkJ4pz\n",
       "FWf3wLdF0w8lVDS0ReD5fVSG2tL3l1X11/tiJrLRUHfkdlZFvty/MGlBeSx3r279bWyPiQQB2/Cw\n",
       "zPmt3iSyLRd83BccmVTRh7dTs6Zkr1bCfloYAwlEyUOqBSYtg0HbbmwqxsvtT2xWXLARu4omLRqq\n",
       "YHyuUOPY0AJoWsSgO2AVhpEbVOUrvoTTY0sqk7bxapV0HfXVYsjZZP9FVCIIAFNwmCv561FdUgf1\n",
       "hDAPCMkyqnHFjkvvy8aIPrFoIqUd6Pc6xOkL58CfgV/kxNi+JbNrYO3fUeKQ9kP9So3R19v6O0HF\n",
       "PmxvS7sulhgq2atJ1mG02kMbBId2WSJ37TVxZ+oMNiLQhNPSXHoS21BARf6euPdxWei4JNZ4CFW8\n",
       "M9snkt7PTmckdUonOOcYeHA52RZXDajSw0ObVL1y79RrWZTkyOgQVukPiuz/qmA9yP28HyGV2C9n\n",
       "80bTtGm+Er00RSl51AGxydvk4vlX3usdLbmKxElvXAPSSfwbMbDg/HCQlpPVsZbyzYvCQMchDWkH\n",
       "D8cUOT685iWz3kuk5CKl2P8WjqMrhps+uYG9wKkZ8jPBbIlMLtzVbMM6I/0RUfj9C8uSy9XDGyCb\n",
       "kovO4E/92NxRLUbhc5ek5dDokqEExeT99PzyHxO+mU0MemvS2EpbcVBKHuJd3aysB8mlyKog7VHe\n",
       "WVZI203Z6rhHOttUfEYAq6FPr/0BK28xkYzf4fXlKugBKGo7AweVm/DEJq6x3vv2d7dGdXdyvLV+\n",
       "oZwbhOnWACeI88xOb2f/kvQk5zl8QlUb5+OtBj8BNV/Y0UOKchbUIoiPOTWaCohOT2Jq7Z1UliKy\n",
       "8mCZWUahC3D4cD1RgjWB4O0TrBSm5iXEv4F3guUdHwFc5QYnQ0V7yHBPksangVg33jeWDUz1lurX\n",
       "aJ8SDvfmasxZwcVQpZ2gnyyzXPJM4J2gxZtgabAvbSQ9mBqa62frgMeJMcscdG7EbO2curDk9zhO\n",
       "X87AF7K3BFOA1qkqCdfFWruvtEv3v0bLLBynEYVsJm46jq3v0Q3Oe5cVQpY1MzSgqDu3QZeOOCwm\n",
       "UWebnOYt/S1isqRPnBmHHZXCzPJJiym+pWpxOiQJ6wl2xEZfI58WASwlPPkPQzTS2/+QZdeTKxpf\n",
       "ec+PUG1ZhH8vtRKBCW6LzCE7I+7Hbwns0tNghIcIsAKUbX22EdAxcIfDDMVr7P5YLr9UCdJouO0M\n",
       "DTp07ZUk3N7YSyNlmwvZh+YqyW1LbayU3P78OaTIzukx3VroE+9fY61LFyYmEf2R1bREeVz1Hn5W\n",
       "gg7PVhyOohIZj98ZiJeJCxRh/O6A58jadzbDA91TXzlDS/jalfSTX7xqk2wLPab4O2NnN8QGtZZ/\n",
       "DIx4TeWzJ8QWPy+CN7BwSl3wwOVfS1Z6u8B3MEusK8TiZLWpOkC9TWzq9qMhtL386/cE2e0MnV8Y\n",
       "gM0L2jQhCDbHMBXH92F7uXeyVgclNhBD1wISzxrcfxCpcrgvPQ6ozl/KtW6uuWXXkIZTBBJNXc7p\n",
       "2xfgCuEnX+kOYTGgOO/xJ98U8QHBzgVWRjOW8n+yjgtGaOxFiY/xLBvZ9BZIg/ssu4mJ62KlVgDP\n",
       "tHIgTerAc0XSs2XiOgKvWbRzDpYmAzA71X046HHiyoa9/2LUQpow59gMAl8e30QYO06Eob7Vm0Dh\n",
       "s5kvJREBDg//796GEBI0AtAE2NGaPRLrwupP8I1h37N+Y2FCTtqTvYUV5pgDWYjdo9FQFBVIgS95\n",
       "vi0T8Vjh6dNcFJLoVOUYMh9saIr+bSPuITvpY7JSTXPSMDyxszw9WcOdxoP32e8ZF7IxXN+GnmrT\n",
       "iCR0lF8FO/Rio2w1pVx+CiYxwLnhPLDxMI4G7noTEnkdfCdpiQlQfl0LzWFZpD09BUlmXnB935Ao\n",
       "/sL4gLr2EHr5H1Ec9RpLub1pXFggsGD7wDKmZnx9zbH0fJX3e/g/jUPb4hpVjZqngWFZX0/mvUdM\n",
       "hZFOzG0rAlj9mnzQoGhHSiS4ElRjuvxGJrty1aROOjHWgv1V2qbW5SntBd4OtzLIEfPWDBOuRA9P\n",
       "gEEE0BRwnHA0dk0L77DDmyUbN+8mvuvCVdOWLgc3m7v0TdSb2NAnQVTBlr8iyO6+WbgqqFGtOc8L\n",
       "I3AfoARoQ8rzstgejXOFewchL9hkbsiXH/nk78WbMAi1AXfa2T75DZixJzKbCzcpLs111ZTwi6Fi\n",
       "J4fxUYX0e1GenWBl98rOy+EI8OEAezd9wHdkaQuQfYINA9qMzv8wKBAUjn/aSXevhVdYotGQj5vP\n",
       "DEo4G036r9FEi+MegWJIQb58jl9D+ANej1m/wfpSylGLUn1eAzmVX9odf/GVop60Z3xRrYMTmwhu\n",
       "3yuiyQwxD8a86/5qH3rJQhNBfrx95l6rCLPh+LyjHhF5uDwjXeLvIxTUc9qskMwjLLK6Y1K+JwpO\n",
       "wgCxk6VirJ5I31pfA2ITvyJt6yRAS4Tl2I1lbKmI8eJs5jaklzjSeXTJhP4WO/eQxk1PniJ1mp/I\n",
       "ldjsAn0hklaUt/UjDFxdk+X94GbG9soLNEStzsAkuDtad+HvM72cVt0G2KF80MdTiH4qBtJuls4f\n",
       "9J4veTY9UCDN6LPTLGALZc9K4BhibI5isLdwY0DAVsft2MxCge0u71iH9inIC65jzr4T+2FP9Z3Z\n",
       "gQk8l6cdfV8SCXqVxMk3wavnLUjJRC7fdUG9HjkNA6rk48rMR493+c3Qf8JibXqny4PgKMc+5HYd\n",
       "V1ZPcg+S2udm0+hf5T40mj17b7T0D/2M3p1ouRpnquXzzPB7lzO5IMsBBAY+JqKNeooJ+NrDIACj\n",
       "qLX46yU570/QO8LyTj+qJ7sQVrTllHqvgyq3ShsFd8NEtgPtfOEcxqeM8Bv3orORLzU67Bug2pVT\n",
       "yya5wUXP5GaFchB5XjDFeGuy4WG4DTApZawbc42vlBarPoUSP2Ek6aq+pV/HrTIhaXhT955XF5zK\n",
       "0bhDh1FOSyvolSeQ0fo4fStLT4VPlgPrzVrftLFVbSBfCz9lOsC1mRvhgAcb5TU67dtRey01GJo5\n",
       "Wd+LnqL7UTBgd0LPspcs3MbPsvipbGn6M4pt69IvxztwlclP+05fAlPY3z6RpTqs81vqVgKl7vqc\n",
       "u+kzoxWxItNdmlX2pT3ZCMdJoq+Gdd4t3oLQ8EU9Wxims9Am+JBH78W+TVYxHq8JBQ9Dh36cIww8\n",
       "tSL81Kjfx+mNMTZ3FGK34OiiFQmWZFLN6a3KscEcRwgqWTFb9epbz4AEBygsUUy19HsWBpXkFLSM\n",
       "9Mfkk2MPmKniCNN5pmSNCiR4b+0J92+3UI/Gpx2I1e1E7R8ssUQ9NGx9nEP+XlKHQ/j2HSEWn09C\n",
       "+KfZd+djBDclBkKmVZg+DQuXu7boaxFzyc81Q6fT94MoCXgNw4YIS6jGXotWAPYnm7glLDX27AqE\n",
       "vk3HkOZ4iUyNDDLpRubXOurVU4/OOn3yaQbKiLNEi7XDYGKx4tT3UmQq3MHnyArPmPhw8vVgp4u/\n",
       "Uo2rQ1JhRTKE5ApBxig/xSXFLx2m6++yXXIDIOMnYrkqeLk+RQIHZaA9ipxBisCEBMmulgpasr/4\n",
       "lAIMGXuC+PJgnzn5iTKYVvdlyjsVB8wrvjt5gvWSrDcW8yjYmIXtIdCwkateTPhoPFKnw2uQNngv\n",
       "mfTSv95q2lOjs9T8IfKm25fBc0UhpBrRXOJo5GnswD9+w9FzHYFrdSgo3enwsd8Qad5rJBqIgnkH\n",
       "5B1wU2YB7VCNOKY9DO2khxaDfiZPAX0p+rKNofBpFzXcsuFftMLCnf0sAOjkaR5DMEdTTEGacKse\n",
       "/8Jh6eHeifpVi8dG/Qvh/eMbgTZ6qiYqOaZoNAO5pEUhWyEyKm39It3W/w6FGBi1LrsDdyjsjmWS\n",
       "q9sEo9tsGy8DseODLoHJ1SJaPReQKU61T++J/qFXMA3Q64VkmPiRV5kw37FcIO83FU0ZzvjoSNOr\n",
       "/Qy7nTSGlw5Bk14Dc0Z8AmuMpOoahDHn46AulouqtLDN/7rSEZpCqW8sxSMa+vSellI/sxh736xD\n",
       "AAbJUlWBw+BAMFv9wIm9r/C590rqjT/HaBQka+uoGtFF6th+QdGdJh0l4fgWjxMTKwJx46vFcJUJ\n",
       "3PG1fSYbo1lTeIc/DFmYMldolwQFrhueurZKxEQqPpqLlqFa+1QVYVfig+axRdT7PDxSJqLJI41c\n",
       "kcqJcmgTmteqcBDDBHMkT+p2hjtDboYq93PI332V25D+lK2aUjb3LqZt3WgS57Hmkuk6ic3b8hXq\n",
       "BHUYRIbkSydbWAAT9qvZArlW4ikjyNx1c3s0nhkeFVwDAnqAKp+WbmAGUmYaGWjQNJ6nC+uvggvg\n",
       "8ziYWGpwj8/C/b8EC+XKnbN+OK7uOQPbKqXUwdKsdCvPIc69glv8WSxrcgGJMBy4F4wxxZTsYxY4\n",
       "ZMKRAjI1dIxLUhAQWBg2ufJ+BKb7zh1jOKs7f8I/n09dhAImORLxokuT761UY7osztdTy2W8o1Lf\n",
       "9raI5PAkc9YI3n9sFD0zcxoeWBVkL2on1Pam2u7I4qbepmpSV14CUQpj9KVfEiXGqx+kgIMToRJg\n",
       "3b6FlxqjD4gBsUmDsbMx8qmR64rp+sFNQSdBlxMjf4jmH8KbdPt1G4BgHzcv4HLImf0zg6ZvUte1\n",
       "5KdoO+uVTS8+ggNLwYze/jCaiXdV6qQC5ZVJEkZwlp27J+jSIO1uCB9kKjMa2kU1zrT15xbzEig+\n",
       "YDTWg6i81LAJJX4Q5OngEWuuUpjf2tM+DLLJr/W9EN8aoIowCdEjKqkcqkCE8fRshaQGqjl9Oo0F\n",
       "BskI9ykIAPpZvrcZM4aNfcsMux/3c+BR7Hblb+jc+W1CYkdoALs6XLPKS0DwtjTLmlWg8lGyYXGy\n",
       "HkeSSHGH4Ftwe6eC1wwQseGjH16jJ7qsyzk7ejx87n++0vij7riIsejKw+Im5ntsPXzEqR4Up7TX\n",
       "CFlRGP8uHiz2Yw2ogUR7O1tPtPso17kHR316AZhG901CBNjXQAx2RvmrIQB4MYsfv1DsAfjgWMZG\n",
       "pAzH2F+aRQzEX1E5pvYBHoIcOP2PiuvYDcB8yoKRvGIoSyZ5QlzrfruvaL+PdTPlHvxMvdrHFDot\n",
       "9toKOrq4v91VUiX2h7i87Unrdd8HWCiCRqOhki5Rzp9ojjsiIJIUDeqDrpQV4tgOdJLDc7d0siyL\n",
       "dqFFAVWIebxWsbKbrRAWx503K9mTCtJCyusQpu/9pBtSMm6RieV8DjFmmqsVYnFJY2Mk9Nsh4v/q\n",
       "CVR/WttI8aUf5Q7vq4hfkdtO8XR/lFmiGmeX+7wzwkE5yargYqqcQIFeq2YZrtdEGz7yBEzz8tOr\n",
       "K67OoPniHAQ1geCGb9HBzdRxqeG2wO8gORcEDcuLkyxNF6+s8YsJeTSKtGYfaZUxveWb0Ereh+bV\n",
       "3GsxNW0kSFQOXhp8+UqWtpZQ3l30ol/KPsHAoLQXZtsJlQFtWptJ9Wzigt4ViaPbPLh+S/33zs5C\n",
       "f5xg4lUPIH5Uec/PBKak4AWOKIxwXk3HrcMPz7DkdiKRIxQ3VCCE7EJFP67fcjzTdfwDNCCd9yQt\n",
       "4uHHkXMsa4MVn1h8xoLIHWnHgmtB63hoPm/75krE6/F6gUruYe2sLGevWroU6o7XB2iBbGhtSlYx\n",
       "Ok1tWw/wsOMj1j5mrjEUBVm+2+g/Lr3jDXyC9R9pqxo4sAZMpPQaYXadDd7L39GxhVoeS1rKw1e0\n",
       "zXPH50sKrfNTofTAWARxeEq/o5Q1zeb79sxq6IKP5VbKOCBJQEXSjda0hic6UMiD8GmYkFpajO6U\n",
       "YV/EI6n94y1P5+8yBNSSSGZ3gfo6F8RV027DC4RNitXIWz33MA6yEE3xFiYgoegqQlErfDB77X4h\n",
       "ans765Ikwwg3jc9JgFyEnOSU/qFJ4EDOHCVupm89J2s156gv9vkB7nzBmpJKz7qDxmnQCAr6KHsU\n",
       "PxvLrVTnGsi7Avubjx5VNXLICSn1evJMjsvCe5wBKDQCrMhT3V8svTTkCYHMUNgZmfr0gLuVSQFy\n",
       "hDc227s8E1m3nOU2Zkw5ZNABw0TU9rjUvJvU3eQa+/l9cg8lNCyfWu2xP81+9QlugqF4fhB20SGI\n",
       "t0R+UOu7MdWzo24cmL0Yh1RVo72tQ7hNUveOYJuXRutQwRWqpyTdGXLR0ZM5ZpXUpYpf7RYcyuBD\n",
       "1hHw58n6H65QS2W0pavw6cbytx+TrsnkX+ne23dPT6RyJ1Nv8lCMiNoD0CuWR5/P29ZTzRk72Igh\n",
       "DN7rxZUgJhOsPC6rFAATZSHTqmruMk4wq1o/ng1FeVIHgv/+8YTmvtTSNRqF+bGjTFzvkXOWVLnS\n",
       "YzyPYPmuhKQgj1WiJkU/iGh3jLPnv86y6+iWdYndiwTtlxIUVm2V/xe1/BvokbD7gDX9aejNbCQk\n",
       "JhwVL6h8XzPzexIKPNrs9Af3oL+rYMIKThGt5k44HE56+cfDuRJOuSVso398C/hukqZiVhNVR33b\n",
       "kzO7IZwuvyYLImS/Rvj0iSl9wutmAU+M0Qm1DQPL8ZO2PO/EyjeHDRs7hIpER8U0GVf9ArDrjwUh\n",
       "zaS7WDdDSjI57SgnckkbrAfbir/tWLv3mrvsnRGjHbqBl83A34cPxyK+9VjcwKdLw1cIjq0raXAC\n",
       "OiSdrRX+8nO8b8/+4z5sampIOldTF5cY/S00XXFwv4zGjpyMyRi4iPR8OH8gGIQLZxme3+Ri2/90\n",
       "cWSR4+IWjzLh8j0pHkz+ne8iNoIgkhRSqrMl9GPRJKPGlZT4Q0YUlYQPNumboQH+yFVcwd+KTG8Z\n",
       "s/gfeWIEzXv9i01T+J7yTqnwwvJlOj9w/LgbdZ4fLAJMNYSLxy2FLg0sP/ZkWOzAr0l0mcAs3ihL\n",
       "kaWIN1KXtZ4skEA98CEue91gHRsfXHDHIkdo108LxJdbWH5LSEYksHLoIdyyrwtTcXzbSq15du1r\n",
       "NOU4yPuQ9kcA81eTprEig2gthn6bkyfdgE8YfkZeCYxFf5gvpzrBOKLObJeanp1F1wlyi/0wLPyO\n",
       "VVFQa356rte6Smm0s07ksW9ftgYVy7SJWDMWSN68gAF/+JPxfHs3F9/MwkJo4SMD5sQ7nedup+n4\n",
       "5W1Jbfb7ldgRlXhwGgYfkugUQoOztTH1x6GNvVzIBFdHdAqdeTcxruQkvwoJ+Wg/wxzN8zDX2x3D\n",
       "p7dFbt122d2Yg4uRQlTcTQmQzYmkKJR/7vi09MGECCvtGRP3qIg+kkgUm190nPG9R8Xu8rO0beMX\n",
       "WC6ZgLeZKKW8FQkqOGYRj7ahNRJA/OJdHkwgHDYnSO+uQ99iEO5o8DbMej4ISkuIomEGhGYqlV6G\n",
       "W6imDcL2yxe+Id/LP0SBbB8lu4HAQ0lXoM5rzpBjfeAZJP9GLqOWIwPEO6NXviYrYlxHFhvfjs7R\n",
       "eQIlQ8QmW7D8VqU69F0EAcYQK7ZmzjLCKYZcvv+4wcO3OqFWKVtLDOf5ABpk73DqCiJ7BvlS3IST\n",
       "KTyMqyFn/JRVEEoQ38fnWJym1zPrkaXppAMe3UALo+vmeHivv9rculv5iobfqqM0T8XoHCwnPuwJ\n",
       "zWeIMqNczDV3fC7INebVNlxXETSRx16el+fXAqM2VqLixG4O3Fdm2t0bczaryqFeWI14Uc80F0I8\n",
       "kC6nlcddENlOh3er6VavUrBrq+1zShb3YiUVWnn/Ug+12HcA+B2yZBCETxt8QedIMEcjrU2rMrYt\n",
       "Fz0d1KoBShK53vvNlgk8HEcyejAq6ghhPTjT+MGn+7lJg2Zn3Zj1j9BB2kwNoe4D+OINGat5flFC\n",
       "2NajtURIR382ERz0jeEhnmg3lWGFPvkA5q/2a39c0vrQ0Pp5rjmeTOpR3gf72XA19H86Zp/wqUQq\n",
       "r/1DHlkKk/VYZOi5x8HJJUWc/keGUkN0HtI63bPs3c+R4TfKj7bWn9vsJoVqUX2j0415YTf8DsNc\n",
       "yIoERmUOhfMw4r35XjhoqyQKnAMIVPASUoONSGWBW2jvl8zSf8uNI+VIj7bTFdd4yTTCgvisLpZM\n",
       "u8W2APmRKmjbx1EFUokjsEB1aGNewigOsIvaMYWsvAYm/EicDnX++n8JNoSazOLWm3vILv3gyeIq\n",
       "CflP9haFHYAM8mxESpR3ddcK6yef6bViBKxJ/RuPPH6gZqYC9yzUmxhTroPUlBbgaeWyA9rLNa4z\n",
       "ZJUeU5BAYpf4BD590QDifA3zNvtB6WWSHSrT0ff5fAvEpQB63hBlnXWc0D384roNFXWzdiAKEdft\n",
       "Dev9/8EBNMGhcmOkCnxYF/Q9Rm8K8H9RRE8KdaRKSQ2Nu/uGD8E7MjcXdXR1Tgji4Bj0JK8Dhm7F\n",
       "Y73XUsDvVonPv1zcyPB1PHRQ6ypEd2YaWSSmDMGw7nDoVT149wWsC4hCSFThyd7GW2BHPXyt8aAB\n",
       "cvlkiDOK+o8k+qlX7lV3xGTfDEkPuljgVCn9IEVUQNBvPS6PsmT5pLFMWwEbfatKF/BxJdOR1fLc\n",
       "rjzfhPbMzQwMg5Tg5mjh7anV0svOg571JMhZaZruq5q9XUXaSFxlQXIiPwBVEmfqCK2RkHzCLAoY\n",
       "17B0ThoxeQQH0E/SOwImXxaVkSYaZOkDY9BcaLGExpdkNiwkJhoNrAmpFB+7Q7qQLKPR3hvP9hoF\n",
       "0p97XG4TiHeq4Gcspw8beUUlmPfS/JFuKrPjkriGb0JgTXeZkkUIqrR/dIKPezE5hdagnWW1zty1\n",
       "i8R05GM1BePXNdG8ySX1/pmqx4CEYvZ4sscdCKuCI4WkioXZ6hD6w8NTjJr5rCVdBsyG75WNBAS6\n",
       "lRb6FQs+JMjXww3qnGMgggvLDONbZx2OIGsu5/PIjittePrecJaMMe0uN+FIbQwCmOv1e+ZA6p/1\n",
       "jAJub4tamN+m6tsB3t8m9U9AY77fVzZUA4NdgjKexFO/dGK9UwPnXclvmbcrbFooDHRYg6yfP8um\n",
       "URqc2BD2gAHUMo+R3GFow3Yh/GG9IaB8hv90IylZMXU3UiRwHffVdz545i77vm8mYI8m6PHMBdB7\n",
       "Ml7ApZ0pZyyBO6PBZOPuN0UswwabR+vhhgejAFq4HFLk0p1BBBjsq9TVPyFBCEE29w+rivBYeEPx\n",
       "p6nevx+LGEKqCkJzgmqbNUUnfgL9H0UbytAp2uOd7D25yFWMqWomy5MVbXJuxYnNgz92qaN8fS7s\n",
       "vTPtCJoJxu7MrNxVFNCwZJNw38D5VWzN7bfhoFdLeTLsszTFyLT9kyqzPRjnQgv2jTGgH6CDu5fJ\n",
       "k4zsVWhWwKJuF/20uXaq5NlRiOk+fqKPQ+Tc9V6da4iIN2ghcZHXvwON6oqmSXXdGh4jall+23HM\n",
       "SDw/7pmkNOFG6TEebSLyGu2gz6+xzfh/d3uqJ5womD/1cHvtUN9aIh1sZcwoQpQtXzJFazCfXc0g\n",
       "kRV5UIxKzjB+qj4bwx3zkTqqMy4lJZBjc6ucdAju6p371DTWfL5rZusEtOIejfytEqfPqjx4zlZt\n",
       "yFYd8vBZP7LibmH1WjidQEG2UrWYZtBF6o0yfGCdQ+lwHsqtU/IMTKBAPnbhJAqEUU/3gxBcLMt2\n",
       "PNqQBpMwDvEM4VUujBuvMdIHesFcCkQEYrt+TTj0yX1EWZyQoUEP+oNNeWsXh4u3NkmaYPLKXvV5\n",
       "DtfB/yugM+ez33+2Au6z7v+voydoI6wRk6jagT7bZaEafzXI4o/pQPeTt+ZsliCJDVIwWB+QZNWU\n",
       "VuUrkqoDQZZulX5Bv6mCVHyNU4L6FVx11WuJQIsgqxXVPR4Qz81TkeCD50H7GCDMbCseaJ5a8olf\n",
       "V5nEBzVxqEYZFUZxSnEU2/4KljaMsDk4ZvOLTDggYoE2+X1umI/TrLOgX0EU/eLRHKptz2GC5T0Q\n",
       "59YkljnJw2HA7SFBcgZ1iPBTRbVn/Jb9SfXUCViyBn2Wjkvu7mnSwd298TWfby+aGnVclvCjhch/\n",
       "dmSjWk4cIDpsOMQg9u6K8oC0xy3OA+4b1VxpyZYYIktdur3L5JdgFoD2uUu+Ej0m1t/IzKjJ5zFQ\n",
       "FHfL0fnPyIjjBHzOC5I2yJ+8N5nTxVq71dNkwAIrcSyIK9KJCxNFRNdh1HamGCvi67nW3YTdi714\n",
       "yA3hvnT3Eyv7SdwlFE+2DQNooKQqs80bi1FvkmL+CsKbpiXIw7Iq2kj+afjF49K4toTFeskAK18r\n",
       "ilAjQ8jyA20fHAGYhwb1e6L7nvt369cSZBJkCSPwYMDktaSk5CyNw1PCDHf7FWrcxAyubpl9vuy9\n",
       "mrw6OV3M3NHlrPn+ohoWGALqRUfEQDspx86IOJywqKFl1J7EdhHiyxxN4UadFoWH3wDenJlOsYe4\n",
       "Sx+cZNNBOSA7SnwBQgDqSzU24BCroHpRV4rC5bWRlaPduIL8v0G7hNLJu0L2Mc/OAF5mJQTFFZMu\n",
       "9SyCi9C9SaaPyD+4VaHSMjKTE/8bZfxx7iYqfgxU0LXEpSIGKowl7/1BddtVjzxw+KWq+4Eg1Irp\n",
       "9f4Bx7nocYjWcltA+8+gEsO/0IKKOz2VFvEyBrjcLtCde3svz08oNeLBjXoKUOHM7Rc5RHwmv7E/\n",
       "E5Ffh+ZdStdS7nMSG8nqNaPa8xdXz3EwTMoCmv/YicKWHwU+KsXzh2N+eBUDZvyIQtRRdAgqa/ac\n",
       "nN60Mu+x093gd7q0+ZybTwZhiO81rFu/1isOUJuONBSMmfmUPwY1KS4JW2f21aibdt43rugS5XNK\n",
       "X1DDnS9UhxIzrmNj78kWKUqt18WuXGqTcx4uRDeFDdwvPCExhir7o3TimleL1yYu+PLUmJ6elvVg\n",
       "Gg1ghE2O0C8JakB7BHNCZ+yykHIMB05Uf/n8MdQpXkSo+SQw3c5HrXXHSq9BpAPiEBe/3XVtIhUW\n",
       "cm9cCSa0vBgDIVNEZbh1bxFWih0DZUBxUl9Q3IA1MLYx4Z/B9h2TQfKjxhacvTXj/3Q4E8s0V5fC\n",
       "14xRWrBjewjZIY58urjbi6jT5h4/o2SQmEIri5YQbJYXZwwfoTje5BLQGsGJXgmg82oelid4nFW8\n",
       "iYEebk/kwrBiNOfoEcwpMd6R4RwLa411Tqwbgiv7Fk388+5WWGqL1xgtCYpUv56yq/ff0HnIz9el\n",
       "zJoU0opf8lmeLOeIxduG0BFNlpiKrlm910pHZXG/nxICQaaTYqV/s6ulwrDGaVvtSxc4l/Ym8fh0\n",
       "pL8y6kwVv0jACa2sILwQFdifnWpRsYcrdgWAqBpqMlX9QPREe06OEztlVoyfkYja0WOZPWh6juRS\n",
       "xrRE0sxEH7cJYCDly3IssxdaG3C4htdGTF8hns1MKhZEqnzf7Xv84We3RsMOoUabeSIsQo5UuE45\n",
       "Syf03K4AN9DBbuBsGQbD+gDWNDwtU0+u1zRYPoVZBxreqbiY8QOtzTFlkY7/znYTLqcdvvUIzNN9\n",
       "FwKg2Ih+OhDYJalmlWA3zQqCqEVY3HgaX86/tEDFUob3yPySt9Xy4mdOgozGabyEYVH3OaNjeCnq\n",
       "EpCtoc4VB8itBUulgxsBXOycbci7Wgk9nOXCaktjuuWFmYC3GjTXR1fUl2sFEKNZIkmIbpmPrRi/\n",
       "VzhyCzSBxnw1aVxn73phYaWUWC4NJrKPO4nb4fo/74flxJ8kI4oEfhLxqjPKKWQO5eRLb7wNk60J\n",
       "MReDNz0R36wfnqCT/1Mftqzxvcp85DuxGb1lC/NdEYBoWEluDer79jzGn4RDEreK6GCik+86R7K0\n",
       "+Q3FDlN3njRycbRQaFY5jbqqFcly8ZalvpNNcwfJaolphfOi5y73aIiD7RhpRwjk4K6WX+e5ZVnN\n",
       "fUHVvNwj5lssIgDcgzrA2zdzkhG2lMHGD3ja4BHKf+getDXJTXGtAaHyTynHPGbx23naB8lftaF3\n",
       "BF2KGpZ25toP70JnLlG1TyceFWWy4nW+KHTJOxlnTNLA6GK8w1U+u4RJR6cJoPVPI63ZcnPG9qcC\n",
       "0GlRbzFSqhpykoGQZ64Z1YH09GGF2uNFBmEaAaDrOfffzkbQsZu71IgQ7k7sbz+hRCqlIzmBla9x\n",
       "VtpN7QvplSp1kmARRnhzHVZPS+u0KP0nNrzPa1tF+YjjkgN0NlBoFqEerYPP7/bz/t1h7tVlSXLT\n",
       "v/jCobF++X4clhFFN000sTtaiQgTx2N7Ut+dfJWV55DsvMAoCpGA2uXzoO5MXcTMj8g6Hs9vyM5J\n",
       "/TZLXzkiKim9mE6K1x/LRztouAjn5V+djh9L2dAvts98ZETquttLXLYofMwsTNds5VmHi0SYzfB+\n",
       "ocdiPVrmpZDKupc1ZQs1Cxd620+/t7HKPJ9IWTL+5sTVrj6ngajSdqVTcWWSJG30Dm4BYAPSc+iE\n",
       "3YOQCSk3sb50BTGurKNZ4v62I4Vvb4tVanV7d8oUQojbq3I9O8TOKUlR5GaBLzoko7zynqfze+Sh\n",
       "Le+oyw7rx3LpmPFdQ/cYaj2GXEYmeydUo9O0/IueA4hRpSaDxIwzg+cO7y16osBFWGUOECCIFKEY\n",
       "t0Y3f6tovgtop8pDAkvVNQ5n0jUnvdVh5f0Q3fjRsNNq5Z2JElWRXb9rIhGLbdTf4iYISa83E53F\n",
       "gG1v+vhQbzEX4QdkxTiv1O37KtQpMeHk3Scfo1UOGzLQciPXFhrvQ3Bi3OhOEfO/AVCjH4KwwSS1\n",
       "JxqOnC7YAUiccSV0X3a4YpCnOfYYjF25zV1oML3xBgbIkpTROOhy6mwaHYPO1gsbzYIet3XFUI2D\n",
       "AAdw4WJKWSY/uWYlX6+LvJ/qi/Jv1erK3Hd78c2qMGO8jD1yK1pPEMebzldm44qaRSgM1EjxO/Ov\n",
       "QiiBImnwvr10A5fHWOFBBP4vl96BkPp/SJRwxwWMa2zPLU8R7WZaGzRMNtHABKql44zHdVTDd/TP\n",
       "8xeMbjZR1UIazNLeFGXS/Z4vWswMoSuxKdasOTZ1gc1E9YKd0QD9Rq/E2eYv8ObJLj+f3sca6QL7\n",
       "J19icxWYe+XhhEgRCCQhkByG040EyTXx0Xj/EUeG8SceSjnnPJyJbVEe0EyjVqtYktbB9i8g+0BD\n",
       "yjlhuMJpynKKe2DEYROH3aptG6mZfen/fYkMA5E0AwAlMbK79R/ILC0yiohd+Vv4KSyT9E6edzsh\n",
       "sTBlL2GpL8vmSqTe/vH28XYU1GSjKK0DQGX84/hMGJ14tOocNK91i06mGVy7hV+ggZmgqOx81iOc\n",
       "nPPT270sThPbGUqn+wVBiRV1tNYDUpwVMLm248sbVK0hk0L4zb5IbQK1USgfLx8Q9wYyyE4wFEL1\n",
       "PzqiMa0j1wK2cIZMp0armRDy7wId2jxL7IZ5Eydonz/ejDDpSxx8vkHbwuRlXVqAqeri4V7l+7SZ\n",
       "1tzkIRgeV+bEBQ1lYgAqVi0bz/dHxW0O98JyyPzbyYSXZkLa1luFBDIisxqNpXm0aaPMqWYru9AT\n",
       "Ru/34aKYdw624pXBepzewpVzW3QaWNTjmfFHwNtjRBt2AZ+n/MYv3locBTjeOwdI5nx8s9w4KakW\n",
       "/J3SLa/lBMtGoBtZEnexWyCNKsjUiJA1HN5h1Ba0IBPcchrSeCD3dm4T7tY9srEdXoenIasb1upk\n",
       "c+DpX/KuZl1AOfBeq8fyPcR2EdZzI6ePvFZn96QZLQNujvyalC3dAoF7TIARd1SxBGhJR43C2DL8\n",
       "KNmMVyq4Z93VJng1x/DJLpmUDzmsGlOTd22+212cobuK7EV1ljyUwsWA3j9x5kPOsvAGPfk/bW3u\n",
       "xqG8DMgbM6wj/QzQnDP1rg/Qa9fif9u5n6Ct0GLhz/DJ5lWJPHyRYZ4FyjOUoAHZp/Zbo1s/NEEN\n",
       "z5pOWld4o7L67luCY8zmz6AqZrX/msfFcl6xgJJwAOqg2miT/Pcr/gqGvIGyH75QCVopwoQ8hQzE\n",
       "RTrf/6eB3QlrL0a9kcxVr2QZlKZlB+RdLoA0jWyJcfZ5/OmjY4qz8Yvol2CfDU7cilD6Vv353XGs\n",
       "FgF6rkOeaunKurq5x0txtBdsINqFE43hTKf+LVdECbSRcDG/M95/78NgrdbSgOo7Hv6vjtamWczK\n",
       "b4L0HhIKSdcYhubnHWNDoQMCMbIWUSn/yiO+Zuh/QVDmcY4VQSHXkq8hiTGN9gXdR2i299Jsww5x\n",
       "CbJNzqRsbrNPYM5v7PySkkHXiM7pMp2ePnv5RJb71Mh7jSApQdUhYldqhaUevPR0pICyXKpIAcqX\n",
       "qL2mRqRCBWU6kOxUT7GCuuaZ5uOJpEVS764hVR/DoTFAD7laYv60Cqyp3DilJdCoTHXvnOBPXDKy\n",
       "JxjXd1+8PXfHuaKRxCa4H0drvR2fch3oav8Q6It5+tBpZsHT7xZCkmGVoQK2htSYEka7D99Ot+Tp\n",
       "j/aXi8jt2dhpqJ3kMH+SOhuKt5RpoUuAkDeKTN3SvblsbAwmJh/RUvHcLO5uc5bcNfCSuxSZG2iG\n",
       "LgX8sldnRHmk9pKEMlaXV2cjVuq/zSTMTp3FP2HUebUOJye7Ye38WPw8XyhRgnVwoAMguMONnb9O\n",
       "K7zl2PFcoGSLwZ2w+qLFiOuG0vHsz4O4HjiqIiNsqqesSkzmVFrdAfcEWlBHm72vWc7oOaWaTP3q\n",
       "pISBYJU1gWfpCpLsm4FM7Mkosd5rzuP3z1/WdFTxmcQ/ImVhuUBIflP3dEp1yXzezTgToqun9Tcr\n",
       "QZlsnIkr0LmQ5Kr16F8j8k1EMJaFw2VoSZ0v9sfxbh98/Q79BlertEtKz59Q9OveBnd4/EcfViaQ\n",
       "iZweNPSgcONuuWHKdFs+CVpfjv9A//usgJIQrpcBkh+PheM/GnVp4MFUoyFWdBHUtoeBpMl64jU9\n",
       "rY4FtYsM3nvP68VNVEep2vRmjbGxIdRKCCjWxuLzRnTWJiX1HreVyNkGTxTvi2RkKdVU8QYQFaoB\n",
       "V8B4cXu1bPjh+ldzxkx+qAwKOwBMo+WNZcWFI1qmlrCCW1qbWlyKNM0o60z5bqy0JakhcYmBdZOi\n",
       "1nuKi0QWum01oTY/ViK3wQ3sts5qXTVY5C/Vmt0VD3+3iTwz0cPnwDNcEdEVmdQ0IgD0hTDKwPnp\n",
       "tzEwLWpai/nW/wG4Pd17KkgAkJl5ZykvQFu1WPsBjqTv4ZxeeNbI+0Tx1kpOnSAl3ZkhlUvvU4VR\n",
       "Ah1d+FfwLwVJAa/OAGN9N4xQwezmPV3/uF9C35kAn5nnD8zsntqPmH5Fvz54jFGYv5f2pczcvQKu\n",
       "2QJPyUtsvMN2r+v2bTRTxYOhH9gOn28gPqoZq4qEEdWwlWMQz+7UcxO/SP8xMbqqnSDuhJTJ8XXj\n",
       "B7GUSj1zUTRNjyV7+TY4HNVddwfkHxmV25agSU4OziWK/Q73gtxOx8n30nDXmcrSFQAq917UKGAx\n",
       "+mLvmNwj0QGl0kPudPzOuZ7kC/Evf3YKY5gsXbZxQMgFFRvOxw5Pqt3+U2JIB4dlfvEJmRZa7hbA\n",
       "X6bmRnuXKrI/y0i3hiyNMy0gAJHKU686OJeTp0E89LIt9rG3bcjV7n+GbQrLJ9fgwimFfoxcGIDu\n",
       "xV90shUaf95G8Fc+TpicwbHPv1hY6K9hyqq4QSDf6QNGmt/VWoJvFnhAzARIxu1exSUB3CBfR1qC\n",
       "eIkepxceOfFTMOyTlJ5EP+kDMmrO4JTXeMSFfRgNexgiENk+WWP/waXQI4LkqzHdVCQdt377/8pB\n",
       "Jm5wtQC/vew/ZKnjtfaKrhz9b7hp5auRYAXc2Vk3GjNsim1sUVwWzd094qqSkIBP4skCq8NLzNXe\n",
       "CaplWUjUlEWK6lUZ/ttDeGlClXMutVeKzR1xtvx+mA3OUZY7csp0PRVc8xTYUvq//VnIKH4bJRXg\n",
       "AAjPUA1QYysxK/xjp8U7xSuznq+ckWjM517LREeOZ6Fr6e3TqajfWFI6eivDlvmGtlyXNR2YKvBc\n",
       "9GDjSnDTRreFIxpteeIkIudFiY8J8zrSH75UkZUltEb9gWw+ofR7hzrafEGoKQVZoRPqawqot1N8\n",
       "UUjpI1bVGoSTGBX58rSGGKil0Y76vU5qXS8buY90pKjxcptcdJS0hMB3WjcKqgbWEybELx2eKQJ7\n",
       "g+ogeZ3bzxlseh+DRzh2svzsUu3dk2yFGLeWn1pQS7A4NUIpBJkJMLp2VuPibEbutM6eaX/pL5wf\n",
       "THOF9CohsMWhlgY9nSsM5YmjlHNfVUEmwNPug0ZDCdcmAqnDZSOA9TrzHnX2dOMNPoDq2u8gfYSg\n",
       "hfkQsT+JGrHsu+pKzrarN4+E3pzNwNA41z/3kPHPlitqlqTOOtb7MiOE0cRvTFvRuFPphT7sEsSG\n",
       "ddknqIEeXj3Dw8qOU4LOK+fmjRtm0EHqkCd6gbLKWD1yQAir/WEY1VDLsElvux3tQ8vX9hdtRTIl\n",
       "mytS5Ax8Ib2ZmMpiT8IKxVViBY1/J/i6KWTl87S8cze+/iKXIVmP0lITx5I3HO+106meDXwdvTOo\n",
       "SpEBBz3Z0D3ZcM0mH9uBCfZ8ffiZxpyXAA9SAxm6eW6NAxMr7qSIFdLWYgN6TA79xLVBl2JzPulw\n",
       "KAPkxzufKVWq6oaFihba+TjZkqwwSEyCgs9uZVMwqYpwsRgaPqjo9/OA/S9or4HlJ977GNJW5x5u\n",
       "WeEXN8XuPcpRjfjz1/ZDY3OYYpcnyzD7HF71BhFfcJX8UpDoHVtgwhIkEtqJa0eyMvesmZSeDpxz\n",
       "iZkQ4JLY9zQPs7DOelnQyBdQN5lMwtw5I7cTryIi3tMaDMWIkLAs2rYPDmZn9Ye7l2CzlZ476tSv\n",
       "B7TAqAUEVua0aq2uruTYJWq1d80JJMB3rd6HCmMatX3RD43EnueJqWWYc7O3XHHHioZ5fafaT6da\n",
       "CD4stOA+Z1S5M7ftJDhRENWrDeDv7jIRaqXBCX/B1e9vyshjzHUs9g9cvumqpkKycM159OLAg769\n",
       "Sogv+ULArunOfjnvBbBKbyodmZuI50t2OyXrvwygP6Xu6MA84b1lMMy7Q7FOTvzUVzglTUC1uP53\n",
       "nA//+7rVjHiMVjX/+rL6w/i+pqmyF5LTKnr757BmDBwGSezhmtcP4OxG4BJoY9dIOwHvyXnGfUS9\n",
       "7zjNgWSDeAU0gRR6buGUbBKl7oxXXUDJBfdZZ9kSAG0ah7QHpKS9IYZp1pnEJgYBLolBTY4a5foC\n",
       "mzI03go/7xA8apPo2TJzLS8T2otV7mpTfq5WM9u9pTxpPt25tOQHr2rdLVgY8CrCP2sE4zYk005i\n",
       "DjE7/49GQDySfgzhS9iPS9M6p4LTRMjKBgnZbQaYhopQvpr7LTbmjxn2lRC8/7v1TkYU7qs/hK2T\n",
       "muzsJMbaOQ5KSga1JNh8MGNkP7UWKvHXX0meBzuYOV4WLiHB5ngGuPon5DiSQxcK4IIEfmBBRPCg\n",
       "yNn69IyPHd9mgndAmgg86MOSwSVjwoWD2k2i7U0IF346fA+rFrUAwv+Mv1tloeYkMVm6QRYAA0qb\n",
       "q6u/uEf1ToRlRl+ec+I1aFL5LVSIWbDnnY/GJqzCtfulW3RbeY88JM78PYRmyuFzxASt6EuazeBs\n",
       "7wck73LcZ9gGveUnLZcTIdsqLip0hYtrTQ9DO1ep0F3bIrN4tm1mTxgPJnxbSdGLjCiBGEoXDc1M\n",
       "1QJMAOycLBHSOU6y4E5cEdEGDLurkbhqOKlScx3k0hkoJ1ph0tNY4LKhErwYsz74jrICaKGtPoN8\n",
       "L+mjqPKkAqMEepjyQn+6isOIEQgGAaGw3OYiT72aOjnWC5uJ/EA3SPgFCcdZKBJn07I/kjufWpI8\n",
       "BHxWTsXnPqF59IHcJC+MEMOOmyvMBKvLRBhBT2Tma27HsyZBLuZLGBSuWJs+BaVKnElcCuAc+mNN\n",
       "RBTdYbObYMlJVpSFu8KjG57TmvrYo2hkn+y1uQE2k6YNjnJtCYy6rw9gjGGp4DXtukXRFjQfN75z\n",
       "zDMFcceGp2eoIOThMJWYMx42SDM0wu0m3F3mNTbJg7cVnR1vpmI/5au0Onyd5a1ZszcGGU/yivEW\n",
       "5GR5aflSVKizarEj+HV6iAfYuCMUxxe60eBH2Vf1Y+iU+UeGSmMl6p/dSXnfCedcPVhCg3pBJjzQ\n",
       "SdAKtOPYkhEcHRaN1y/ruieShuIPp9Xs0AVUw00pw7BW55G+KYBWkR8egvPelizks3KLxMwv8+zp\n",
       "26QKKFA+Kz5BVx2CRkFg7pRYbRy1JZPTfNLptwhNidH4ozV7QbG18fQdeC+s7LGmQ3JWkZ8jNSm/\n",
       "G9Y9EZB2JEBFz1gur3s0I8HIHRQc1jTV39ynKejgneaHrKIuRbeJ9CNDatg9nX+GA4jd0DfVueoK\n",
       "Sm9t+CBkQi+n+Fh83XDJmehQGwgWF8vpXipO6wurJGy19I1Z1PeSB+AGfVJOyJLQNLBSGw2OTnw5\n",
       "/qk2h7iczxdDuozdvR7pbfb4br/GnixpJ26b20TOgYWOyArw9mtJ27QFckm03wjgaEPUAYDB/by4\n",
       "vz3jiY0t6gq0hnqb8UYvvH8ER5q/Qrh8inBVdekgiBnw5mCaUfukC1YLYUnkf7EfUE5AvuffcgWl\n",
       "KcmqHLtMWOHCBMoE64mbRrPYaQOrPO0K8I5xiI5F/W9ZW4YMjbObN2lGPf8C67C8Ral4tQNsWsmC\n",
       "h2aFwn7nIdzsoQm4qVexkPYuUZFxEg0gkmok++1PjkCh1pbLwonO5/5b7b0fr+SoX1I3h+K2ADn5\n",
       "xBLFKudg61DNlQcMVEpV38XV14/EsFauL3b+sqqZPHiUG1DCpW/uqKMz7N7GZm/jwkt1Gf0+PbA7\n",
       "eDjj6/QFn1t2qSJ+z/WzmA3G4X3cA+EgvkiTEjwBg2OhFM+bQyij4/Nvvu5SyCtV+DA2VuhoudAB\n",
       "uRN35/KVr3MQPuK+wp86lHFU1zDLii96zHUlglqZ6CMzRUsY3Ln7fZ8/DrNgqWgbjp9eZvpWCxEg\n",
       "k6IbySGKpu/JGzqPNuZL4yq1TgtyguR5bn/97XUZMbjUjWs/vJMbrl1Ys5OKUhKlvuRknRe9ALet\n",
       "TnJZSvsDAT+UeyWLsRQRewC7kWY2hCnHfgtZH91jTDApMkEWP9hzdNQIHd2i5lzm0dB3uODrqMv2\n",
       "2AMf0qkDKcklGWHKe/ZINwYak8qJFYr6NlnEXYIvxoEvIzUSVu2/P6askmgM0o//JSai56FMHuC/\n",
       "O4fTQYr3X1PDuB/YCqL2d99VFzgiRNuhMtz3eQqEQYloP45biOXKEBUlq5p9YQcPPhF+koRt/qQf\n",
       "ZFBWOVcYpJrNLJx3l9MAUsMLOfDwBc44VU3d0v/oPecbZqTQYoh4oTEjKpZJO6RoxRiTAZ/yEj+D\n",
       "3fJtXLTSZ9S/0GOLfoZi733oMYf34Ffx3aCF/CNmPlUOH7VG/f/D472z62/cbJn9b57bJ7Z/attJ\n",
       "uaTynI/2e1KVowgmp9gBTUgJ9HIf/yYUN7PwcEO/2oo7Dq9BtLv+PZim89t7vHYqo7kAr/QC/p/j\n",
       "57heLrnXyLOXyFssbJ/XPtQyLUOA8q01Fxk/mkFMSK7IPhO8uJdT79Y2NwOvZ2VwGDS5I1FkSvdl\n",
       "0QlpX+9bdN9PC6qAfOpB+i8wzIVZEGML+sTeDDZ6w/cG9l+XHZyq42J2fBWuLOxZfHlX/lrONr/R\n",
       "UVw239QEmNNJO6s20zachIAETwqNxRDOZZfgMVMaSjEQcNLeVLgj05Sk+rHzUk3hvb1g2y8SzfOy\n",
       "fjHMa9u3AITwzXP+cc6XbcsjzsaIoe47TGMBWNb/dud/SK3jKsllrqrmSjVGKNY/0NVzWqM4umT+\n",
       "OQoMDQs1bqQJ11DdACkVHevGb1MHfODkump2ZK0BOTtaTHn1qehE1D8t01hFkqodpxgn4+yuSiai\n",
       "u3IgkSgO6d/sTZHOw69kc4SVyv/dersAU1VvQllB8yqvAdfLeYIMtVgETcN+hV4+fIAVChm4UIkF\n",
       "oyfXIiwGqOvqz4JROx//JerIloIgiEfxUODFa4knwbbLpSMOW8uAzU7VwaxTqtSY8tbFVRYWNf/n\n",
       "tTjCCjg0xy5A8+OAqbsf+erRJwIXvxugQZvzyIEkwQVgxLmTiGlGpHHzFrm2LwFx+vIya18jDWDw\n",
       "E/Ea/lWFGm2fQjt35hAUoA+e/mzzX3XALvWniFZ7UKyhZz9vRUL08JyQtl82LvmkO1z9660BBc7v\n",
       "/RvnJGlhz0QCAFJQros25KutiQqjyTeQ4r5MOkfiTHZR/NTm3pALQzCaTOfDMuFZFDDWuRGq8+OT\n",
       "NsorUdq9h6YnHWtxCmXHEVXU5csXsQmzexB4+JkPnNXYSsemqu2tm1P4rvfzhOWSGyWGekRt0n80\n",
       "y6OTnrnZVGvC1FHlNjUP3ltw1QBkHa6chD+7iOW0cE4WhHtEUj+Eyu07VtQFHZ5JoOFzOndy9Q0k\n",
       "ZlAO1d/LQkQd13xRfpGyRx3xDEs5xQBmwAgmpsXtSeitz+ejtlWCDzw6Uy8Qkd5fTOV73Ind9JGH\n",
       "xK/pomIlFCZ4siDPzIApHk3/+b700m6OmKyhdy045PN4OHokbGZ1JjQRMN0obOgPFB76z/Yw7Sdf\n",
       "weVHKL0dsOFDFG19a1fbB2PY04CNEhN0Zvcw5PTPlPJzkg4m7Ep4xXEP5m3GekS//FPOMeZMMpop\n",
       "GlNNs+9Ct1wy46Oyrb3GFxDFsijntby2yex4SsZaifdXk3dIjm3IBFquIknE3cIeg+M63cU6JnQs\n",
       "51E/1XFwinXCr80gGglyq5ks5uvzMGLyeqZNJEFMG8LztH/8RMWflDtz6EspJfwrnNjrcoI6jFxL\n",
       "OB2qyp72YGCdbMUUSiWXWCINM7c+kE0AJaWmI1Ak4UuCCLsxP+StcImuVmUBGC5FAXwsRoetmeaN\n",
       "ijmw1255Jklfx4d5qGnguIpaajnyGxYcNg0T1GR72FvTBeYdpLb8Dhfu0JxFT3td1vvM2HOPb4uT\n",
       "QnI80oWq+yw9G5zOTT21jHnhOj6rij6vuhpUAdq5ZH+ffKviv7Xe+73zIu96DVs1lYqiNuNKx0ne\n",
       "5LBrKABVfuQUehrUVtiYDlINeQT1kWw39finLwgifh2bvvIbsGEShqV+5tJgfNJYYY3k6SuOUz7t\n",
       "eulIqLdrL4AAGRrYv8ZrUjTd4jne0+F7q8woAjUvR4Za/TkGLnn+8TvPUdoyyW3LDM8aZCMnvEtI\n",
       "Bm+Xxt4qCTv23X0ddZwWScTC/Zw3j2qBxvinP2OMhOIvwTE0MMb8VSaZ2t6hkQiUn3sBrc/gLt2T\n",
       "SM8QFhh2JBKPk2G5voOKpHJKWEN51H9APKOZppaL7sQhbUIBGT0378I3LOwaSRIUgHYROuk1VbtU\n",
       "YmGzHHnPQ4sO4urB7+Qw3WtuTwL5fnSrNr0303QxRPScEdT8q1hiNg8FGa9zKBXKapUGX1obDMl3\n",
       "FmIJarmLtS3EG3pLyiBicheW4UZv+b0FiUtIrfh4zLIiC4YjWxCyL1ZIgg/15SPQR2WHMbQVENlF\n",
       "uAXSd8uapo+R+u4zKuAjWvO39VNwWxad5vqt/K9f+fyr/RM7NcypAl8SdSsGASWvikYWVJN5mqiU\n",
       "cPhwoTChmtDCIUi/1hOt1x4UJgh7sGIm8wUp0gGf0kMi9G8sPFk3LRGHbEHHIXAcdxI/l52FU90c\n",
       "llSpI0cFnOwVe/a2tGhCvdINXB/RqlRTlE2pJSYsa5LyiOP3Zq2pCQk63aTCkXBxrqWjnFtZOz9+\n",
       "ajhG691ZHVu6iSyQdjMPaxXCYugRNHdgeRfE8GZAsSIG3dViMTOOm2tsPCQeuuMt03kaDo1UxF9t\n",
       "4BV6tojOqIqWOPbZS4rhTO9tird0s4henXzQxtbaRigSR1xpHb9aTob07XPGHGtIcGz+Q0Mg0OEb\n",
       "/SuoAAh5i+y26ajNidrbyEV8QPWQPE40SbhhLLaOFgOkI5Hp33Fj+mHOmTGuo3D0yGfHaX9vVPBQ\n",
       "V/2O/3G/5ojXA/ynDlvTILU965dM+FX6g/ls+paZ7gkHKqcmAL+RPvid+FZ+RrYpduiAs6gbe0Fz\n",
       "A5ymp5B8AMVJ8ONPuKQjG65vqbJTYOsWnmPXnt8FvFTkq7Tegls/CMIrk6U3MrNn6OjyhrpIYvIm\n",
       "FTIJc436nJqe53avDnN1K0VELIMnfn2oOkAwhcrra88qIt7R2BMc+63GRG0XKVZlhmJbo1ET/n9E\n",
       "l6kh/DoG4o0DJ/viAsDMm/eYms/yyWmJeDEZqTb2066/iNhckUS2VbkwPFztxPpEpNb9y8Esg0+o\n",
       "iG5Mi8c4OnngYHorULdnFSPUU906JTI8ey14wbjqpG5mEn8uzsczC3JhweGqsHm98HqRuvscT7fb\n",
       "JkQ76skPOUP1Tr1gCgt4rAvHa6fiU82l7R8kf5kWrND77wLbyIZLCUMXTlVmSdMboLPbMK7Us7D4\n",
       "kGOzFzNyBBlKApA9RSA/2zVJuo1/mZ00yhiCfsLCYsxKklaW94vPELb/2ofM3AS3T5jlgYYHEb9h\n",
       "F33rISqTUVvMPY0k8K3FI707qUf7H7MtcRAhK/KRojO27a2Gdy5FLjiVli5cxkQCedSpBjOspPN6\n",
       "xzOP4ilphsVH7p56+W+RRbu9IqDtK+/gFTZpsvXEPi8/L66qNRg1/fWao4bivQtTYqESZxD2/xpV\n",
       "1QosMkGhPLGyEuOSN75R5kmw4ReBC8rqNykQhs8qOulM7kGB6IUc4ljKcSnSrAIy0vfzqrslj6P/\n",
       "L2fxDGVbAxI+v2P3e5oBRPk9Zln/D2YJ4DM4EhI4eaZds3uscW85SzMAZZX0L7MY/ad9Nl1eE48H\n",
       "NFqnE5C+o8YI552CpeYpHh3AensDN086+si+0liQR+ZVPM13AKCyF838n+zIt5Y0a8J4rfYSfH4F\n",
       "AJH3wPSSeIVRp659gClIO1wdlcRD3kx6/uysWzLNlkOmmbTovFKZpfE8c8ExfTz4hYPFWCULTrZ7\n",
       "a+BgGR6MrSduQ65NELAhETlqUJuC2GQzhGvJwgpnbMxNu+fxc4IH/lM0yF59PjaOrcnHj9aSIK8A\n",
       "DsdOl4z5Zn3whQnWxYHV4A74nVkThyX8JJaBIlk8ZIKleDPFDMdVfh6znUwDNjqh5tz/TwCuuSek\n",
       "GcXwNrrmW8Tt+K26UScDm3/bI2FGWPHPkEy3Z0pSN6ut/L6uCTyPi32iwfYmeOLJIE/rGoRVV9aT\n",
       "54AOaPrZ7qsY1XHH/2oC5cYpFXnDXwokhbDpK7vIYpAvxr9dL8a5Ugnpn59nVmEIMISSrdzaS9h4\n",
       "aIlBa66BPUYsh+mIfzmLyNczz5VRghmITjBeGy3RVd0HMplZrluaNnYxnJ+eZ7TgX4gSqhe+85Dp\n",
       "kIQyK5J6lg07sV72PjeR11Z24Ri2E/ho9a8q/S9LRbcqv71oRgiwoFnRdC3xEWA1BSCNNbNpnthr\n",
       "+ZmM9sD+PshT2zOXKsxIvUsnuJ9H+silummXdYjm28OVr6icAAFLih1ntjKD+MGz0v1X8DP2o2/f\n",
       "yrBbm6mawGK7sj0D1jD/cAelOvHZiWTO/LS03SOqDfXRYF8GNa62ci2sQTimR8hmpsZ9QqLa/rvv\n",
       "y6o8Nx5sloYiLCm0YXLe2LVkgUxcmQNcTgMlzvMS0vGfmLKdVO+//+4h3p8IpJZM/8XpQtV5KNpA\n",
       "uEwPk9tlQ8RJy+/Jba15qoBCyGYsqCCso+pK+Um3k0w05tK6788A/Q6iWkSOxJEO3/8ZcBE7HKKe\n",
       "eVarMstrIA+OE9ci1xCHGTC2c8l1ICDg9gKw1/aDbGqtdjC/uGMYGfT37Qr7MUEwwt4bT+Xk2JhG\n",
       "gk7+feKho6WlOBEbSA7Ai2ikL8RlkMIiMzv3rNgtreEK5ZfsinFzzWDUq6WcePJ3A027duCdJUmM\n",
       "JzLQqcSdgskwK+3yg8jDJWOAjTpDK/bDL6lBj0B7REUBmL0BRV8S2pubTPOun/+cGwWmIe7+kUTz\n",
       "rE3EZnabnr1sXcYP9WGfXNbATnxn7TQ0IXf6IAAguzWRLLaRqP+/3x5u7XoBTxx6jQbcPgxRTbOG\n",
       "M6FZb3SQL3/prilQHI1nHjl3b3VxVEX47M6Jl1dS3q4codddKVJw/NnDgkb+nXDssE+qSIzPrao3\n",
       "jyWAwAYMEV8s27/v+FMkIbT3EdqzJr8u7o96uzanpSI/mQAb2zpieRqf1mK7poXEDxJqTEYcQlWl\n",
       "RR5OikYEu+tsmKvBFwEzYvIW0kGlCnSnTZJu7M0F5MMwuTuWh6ndpGpfADoF3KNIwNrFBKPwSFOC\n",
       "2xa9TXgiIwPoOZXOj1kf48zkOWDckSnApgh0ohLe7gB1sO9U936TM/0uwpWCteUjeiR/iD4H5vPp\n",
       "H0AL+bn1zwLTklBh3L2ZuHY9S5j0Y/6+mUwx78BbbOOGX/92WZ8Yb6OZ5bZ4AF+O5k0FO8h22MEm\n",
       "Odi7b07nY98IHxopQQhA8RP2GTZYqaZ+c4vgSlq9GwylJUu7Y65UMLfCi91NKzKP/j+x4ZLbs1j5\n",
       "biPnDPtgFpMCMrVFkLmacWZ4Qj55Gcz6F+odLV33ByHQg9vrA6WlFbrBoftYIi3E+IbYwptPpcgj\n",
       "e6YumkRKySS68KzfpLoNI+uTWl0aqw9D9SXViV9nqebORiiKN7cz/WdGKqzq+2kZj6e4mu94yCK3\n",
       "XHbPoFBjT8hm3ik3H1fP4zbwvAPPVY/bxSp+ZQMQxlMx7AcdW6J5pS38QaiqHPVNO0t17L5SvTnS\n",
       "177PQlSHhtxsjR06OO8KWN1tzg84AbBvxiVjsEMqvWyeyIHO95IPtseE8xcmYtqc7xQONYadbQe2\n",
       "BJ173KVTlFBT4IYB+enp7rVWWpp/3P3fUEIxpup34i9K/VeO9BmYnb+xOruU77Ry3MUMlTqJptTi\n",
       "5bkY/Mx2x9Fb3eCnHzBqn44bWX+/leDlVFMZeSisLMyO6T515kzUJaVnTgbHkga0cMNDsx20kXLk\n",
       "t6CNPx98SVTU/noPZGjS38ih0FW3kawI4a09mDqH1X/RZe3eW/H12BtEFhw/Uvr7in4Ip9QyY19a\n",
       "L9u2BE81cnFxkr1xNxKvWOr3mjVN1va2XfFBK0WmWaXCpqKvk1mTg0ctLUEHbjhCsa1gGwdJp/xC\n",
       "pKvQjVFUv+3XVjM/oR9aY5GxppGlfun5UEHcZvQ4NGRi4cm+TcZ/Y4fIXKTHCaA2fWxenS5+bMWg\n",
       "ZMCktHJJnnDbbLh75BWUaguKixYRMwixraBNDCgldXdJobWlEF54s7Zn+PqzV0cTtH/AXrFPtahc\n",
       "xDwUGFjDd2MxFoAe5d/6FYnrFVXcutT0x6HP1Z122+FM6g8O/YHA0WIBoexlrJxjZUmzgDQHRhGD\n",
       "deMOX+xvHDYhNJDzJus6sl5OERmOcHdaZb7OvgRQxdZjobuNE8n+ePDsRDC5QesvSiz/8fC9BGUb\n",
       "RhegNkpGddkldui2uvImaJtMyFD9ZYYSJGOYURrPUHSNQzZTkhwdvjrRIQUF8QiexX4fTFsxcUVN\n",
       "MUqgum+1Rd7Ib4svpqiCm7DyTki1F/vCvuc5bFD8aOT5TjoShucEaA7iOGJ8/OK3ltWxoM6l7pjE\n",
       "61Uq+DhdcE0sCfb55QTam0OVWkzIjYqpEZi3y5cytQJTIXokGiE3pv0yKP8SxHNPrxKizywuJPnG\n",
       "AFAHg/VcAv/q2MAwz8woeBzsK52Yi4AQfq8+W/1nmh2j/UBaup26b1PtRqUiEHfQKGYIQ1Q1xldn\n",
       "tVwV/QBFgYQ+8Nh0RCJhAnK5LiZltoMYG9Opoxk9EesOqMNnRR+XVO54DWOY6TkmRvPNxUqmcwIv\n",
       "XpDZdR36dyNrbQrX9cB7fHpo+n07AOw6ayI1Lf3xaTF4VoNEkJKXO0dkgRRv7dr09udLgdyHalNp\n",
       "syvuinF49QMKJaP5Rl50BBb7HrQavfmNkH6kZgR0/aj+RM3l8RYQMec0Lq6ho0q6cW4nZnNRTV7y\n",
       "CiO3Wa/0Amw73Vnn452bTqNyEQHuPsO3gMHAZJINmrekyxm1eZ3YYl8RUkzyEl22N6T3mg4KGuI9\n",
       "60bJuHbdy7t744RUacZGJzukfjJGqlLcQsfXv+bG6kdMEIaSL/+uslEh5EbUwOx21wPfzsAeYzpW\n",
       "6gYo7SrBXCI6hkQ9dXPAfmwe/ZdBChFJtsNc5PP0g+B8a9bH/Fw0xhpJLM+ggTUPnWcpOKthM0xs\n",
       "+pWzzc8kC39WvQpovfX3acPAK12Dr4/FZUjf3fxdNdUt1p6GSGUUf7/m8LB1VmiP7+b9l70dCQR1\n",
       "ERKa2Dw8jsQV4MqXznJnIaM8fJ5Q199S+uVJKQc7kEDA54jBYI/e7JDzg62OLyl9LMXWzX44e8sA\n",
       "Fagc4iGYq5NYgF61sgbQDKCtauYdYPH1xcN6XzmO+EHlrY2kdtcXFAwTsbnx9rqwwOg1pfCAh34D\n",
       "26jfcCLl/nErLhqzwjlPvCfh2lw3TSUQnDGm5FXB6FToUTfGEfOEIskE6EqnEL4JffAulN7i3Ev1\n",
       "ODl/fELxoFw3QvorbvBncd9VRJksfmM4t6Q2HbXRfpAYFWbqE95jL9ywAWcxK23hn3T8Gut4y5sE\n",
       "gOUk6qAhHSX/I39oKDr2XrVAWBf+IgU3drfc3uU0/LziDDlkYxTUF0/AUhwyjVuXplT8TpxLOXmV\n",
       "AUkuG26Nazf41XxHLyKWNBXuRqG9abUJcCahFheYP20oPVjnhh5S+k6qayMTQEF51N7UO0zcLLmL\n",
       "zx+tQT/fhQElHIYOAZOk7zEe81I33TNczxo+8Xkaoo0khLvwtOoAh6qzGmH3VKsVLGM0nFiGwpAI\n",
       "ZOXNMoHPTe0n2qnf6RAcplxT7AIKQHKx6tB8Oejk24AYPdYLDcQSjpuNZPPH9tbflhqIyzwL+6lU\n",
       "bGg9pcTmyKPxs8TAATjHSMr4kOp9nHSRXTPOPX8SgFZyhVIdm7hh15yJOBbJLcoMK5nT0qbF8iLF\n",
       "SUhzvhtcbOkJZWsnu/2u+0LLGrSKEgE5e751VCUgjMOeRSqrWAjquXa97S/ysxOy//XGrWx9EIVt\n",
       "0jVEkDJSYd1unBWQEP9ZgCIfjVzU3kVZO35fbSYiTakoHi/XmyU4u8YPzuYvtZsXxtMy7aQNxAMC\n",
       "LQ1/SML0IBYoO3npK6gg+96+c3K4xVIvBOg328YUH8229O8Drn3DrcxcznrIqdMTwQn4MR1boQUf\n",
       "/yCDBwnKvC7cGvGuRPzZPWt9Bf5LVA89/Z+BgpS12XKrzxscb39gKu3qdTHXiVFEpDGJ4KM+qwQA\n",
       "fFru+1lgVH7xl+NOiEl7RU79seuyTpchnD+hWMGXlC/tYAALSuCh98Ttp6SiEmZwNIjga8yugCaR\n",
       "gTXlcip7ol9GNCN7YPbFYi5QBO1ysccbmllm2CUMkm2illDr15dkCesBH7GCjJ3sYGmrh7vpwvZV\n",
       "t5YY/ZjOfMJ/eTHk2Jrhb1i15fipHthTBxiJ6aNczmHCCq2hwSR+ftKxSzCMTp7KJBGOwC25Bolc\n",
       "W1a2Y2kD0VJyitWJ3hPH7ENnJOjBNBkL7rgovbhKRjkONvRfpjDOtyuW1UTFKbuaWVEb/9BwR79o\n",
       "JPUdGhv1dByaIuXht/atXrR3HK4NnGtZA+Knymn5YMnX73TPrPegbKFdDE+3kyBundoroZ2sBS8f\n",
       "BxikQNMDziIwApi87GkP0HDBInYFDZt1h7Vzz7gE8CtnDzo192UO2q5qW3uDOFEHtzLXYwPr4BFY\n",
       "GhsSgpGJzRChrzJrGdZAG2eyo27m1kMrVn/NySEgNE66Jb7XYDwoYGHVWT6Q1XTgoDLYxeHIRg8g\n",
       "kHgcPq4IMezdOSH5LlvRqWDsQCWFThjJWKNKFb7OAqF/32R9SWU8HZIcyq1h7r63ldMOZBu18m9O\n",
       "nBV1bgo7lXM3mMY/yrYnf4GMY9wvPtAxw35BWO1IR9v4B1DjR+M7xLYZxKXqK4DDi9rLndOwEB/m\n",
       "k5tcnm1kTpTP0PqpcKJMvK/S6hJpUQTvdJiHQ0lFHBCmVTviPV1P8gKaUQom15vsnFA6/irlrJWI\n",
       "jP+UXBciDTM9IvAKFj1Xxt4YTd7I1/KsHeXYn+j8xZICbBWsr8mZyBWxNuOfyAKEfuGUeFW/hU7b\n",
       "nuSF6NjOqL1jFdiCi3EhND08yn6Z6lsqDAVG1gXCzcLHzhgGc3RSdw7PgUil0vq99xtnTyt1VAQz\n",
       "rt8EDWZDtrbBjFA+yNK+iGMX8x7+ziyMV/Od0pVPTDvoWT7dHHoHPJfAFYjcgXMh8K6qOfEcilki\n",
       "XObv/qAyENI+W0u/6oRnCFkqXfqWyu09mrk1mpDvN/fHMSvmXlGCuOWzv8iX6IfiBPenLXUF3iJZ\n",
       "ZK0TdHgPhFH+ktVI5XP5PMw9t2afb8bfB+l6oaG680TGapDegx39quk2bYHps/jnTxgx52fEEVn/\n",
       "+d+Z8O0J8BKUPFlrw7F5v6pZ88Y15r3XN57tAzgF1iIfM3y4JIaGZfWMY+cqUQXYTl5kF14+lB8h\n",
       "sHOYFGiXPg1jMxSxUd8qci/F1VtSqK6rOd98py9eoIZRKVJWDn2gsAO58EuLsNDYbh2jxN4JFvZM\n",
       "ahwWwJSg8vZnm0OPZUg54KJFItzbKorM2fAeec4j6jqZ7sfxio/QJs8RH6NSJE6mhJ3u3Zpn3pgt\n",
       "Dx1ZTVzSgLTovWAwG0aYdfIgcJ0b1SDIOU1oO34mKeEpa2/Gu7BYLZqi51liE/J5X7svSkDySoIO\n",
       "4hkEc0V8txQPloSAhXZoVi3tiIi8kO3xucbD/P0oSa2X0S5xkoLt5Dl9/2mlequZ6NeBzoqrwQ79\n",
       "uiJhbYGJsahJv7tX+gQMBXKQGAv0NmuJOx2o3zwOLVhKQ+hZ+PfKuArXZp1HWX6S5LuZbwPECD1l\n",
       "rZFqv8VSIUaCDtAHkEIv/zHqxYRRL6gl8+J1URdQlHC+v4k5baBfw2hTbdvbgLKAsUvx01eZWwne\n",
       "XcIIaMAeXmzyTaLofeAacz7pz2vXxajdxzhJrO0V0t1T7b/rFb3fgTGR5s344pPsxieIYZ/6JdyS\n",
       "pmTLFN3nNgSEwIDw0hFU5wn9XOaoeyseKt2v7EzLzpvhhkq+ZEOeewC3/qJ7ztbAJBoIJlbV2uU/\n",
       "xCuSZABd8FaigmoTH1v+MBJFcjH5HJC/TxXo/N5NtsFRbxYsVG64UEXedW8j1EYfKorg7m8aqmiz\n",
       "K4bqPZttjoc64cZwKDo0pJvL+OQ7g8aNPsgQrn+oWFXQM5e+9LYFi7o2zeAYuUJZmFcMlpeBP8US\n",
       "3oa8S4Vue2UXoITyFTGMeX9JMfOP8f/R+gNGuZtuvY+sYWRpmXiIV4Bq/yxgipxQmmEy+CszAf/o\n",
       "vxqZaBWIRn0a2Tg5FkzI9LuVp+UW/I77IwPFee/HkbSHcMLDvPNpzMd0m1jDQEvYrZle+RI3nOnz\n",
       "+eOlW+Lrz9eTikQs/JO6Uspl3XEmMQU+Ixa2RLUtVt6BC2a1YwDfAmiWCQO2vU5UmR5reEPlDphi\n",
       "Dkb30ys7Q4aBPGKDyKqMyqg4oGFX5dSZ7mAoixpCpQsSVIX38Tuv7t6fID0GXLqjtql8fTPXCb+r\n",
       "lEbOUNCmcUGAqYDIWDZy7UAuGwNHLcN4Gm1sD2cqWe5pA1lP7CqFQRqoAqONJjbgJQCadoHcN5LZ\n",
       "SZKMIY1Q0iLcOxD4Fiebo9C319kIoAMax4r4gwaOxic+U98634c5FMRhn3ZVDYZTRP/j4d/PrVZL\n",
       "lt1lmH9gnJ0aefktOJfVWwpsxJvRwty2iRb+X2axozcEEPxlmABenRLXGfMVxWB2x+BkDUhKBGaq\n",
       "wTvgkmtLALlI6zSz5Zv5T2gH8+XuVInC/dd3Gmj9dwmDvmAb9qRSgCvjQobg5dejHbeWfQPiKJGD\n",
       "IujpWjIo6uNY5buPw9ewlScqF3Dfu/eWCMp40LwZvPtPbqODiOPFNXtV3HffnvEIC/ZLsgCUSnp7\n",
       "GOQem9lDibxRxYRcdot9CVCFQxyZYxifCUBmanjD+SMYpM7itRwooELLGiU+KUMcosE2d4JgBxsA\n",
       "AHy8/uJUVcEntDydiZyFZdBW300a14DFzq1oaTdahKtKHOmgGvtaxUzNsiM+LTgLcY+nTcW9tWpN\n",
       "xR7HngSyKcPor7l61RnIcEg6KDJccl1jA8+sy/oBnnjt/R53BJCXp+lf5AHp52UPoHghRMaAfjlU\n",
       "94XtG4c7bD0lOMs2DV/Ywo2nesF815slNAJzxGj4UBe5DOq1dqpYuysblxbJlyDoFFWjJKF+0Wcm\n",
       "Rnbh5wxoEsP8kbCqdCJ3AaMpOmWYshV5BkOn3wv9PX/sBYnJfoJ16Qm/2Q24IbqjKXI36RiXgdcU\n",
       "A3/cgE7Wnu1G4JkpyfqlKLcmzkJGGskh8GFsvi0mu/aiVwaOIvjvF1CUxb8ZXk/kmvyExO44V84j\n",
       "kxNY8HFJvNXYrCMNgHqssHUG4sR5Qgvh7viBPQWsv//zSuNPjqXYDzN82Z5itijI2deYMs+SRBtg\n",
       "iZGC0lKlxjlxTBB9uPWPeu04TuFkt7pH3jN/U75mLLOVrOSZl2z746o+de5j/ZxgetqlmQ0XMbv/\n",
       "aTajMDI9wgki0rH/jVDAib3HKKjMF8SrEt/sAzB6k6Y7LZaF5Rt2vGr63w44I1AXHJxr698/9AJL\n",
       "J3n8eqBgJt8DZYiy+kONRsdBdteIa6z2DGjB3DTgaS1kKCNSem3rFRKlIYYMfAi+IeDyyUtSq5aY\n",
       "LzLGvK+Q6ATL63HVIBOVbxYH2qyFi/6tqSWKOJqx8SLP/RNnZk0cZvuGd3BWMRKFZbsLl19Yx6/2\n",
       "Lh0vO0doht//NQRG98anib1EntPPcLgNkfTME6p6Wa85qWLj8rLGG3kCCQEL3U00jzxhHxDbTtyN\n",
       "kFnmviFHZrYEt8Be9uoZeG1uJuwE+pbD6jUpMJQyJTScdytQJ6r03s1KwntIcE25+INpem+5BozN\n",
       "Y8nXlPw4dLWWO+4ph9QZWfYnRF+IagXPPN004KFn6osrKSr2+well4r6wPNwNEGPZrYmr5akUoVc\n",
       "89b3730gAQroFajjkfptvE8gbNuEIJzTbtoqDVQ10HNZOd6Qy1kHdUHAZce+QVDoV893trkS/JI5\n",
       "r6JgwILPdPtU/kHgXvArpt7PnrdS20MRY3nUv8kIhJwOnTmbXHcV2RjECoY701CModeHw36gT6JJ\n",
       "uRNlfU2yKL63ZhRGvNGh7fJxaMI3VcvHIVp6YruaWXRTvqrysI2L5zGgdl/NRae0mzBKdhnVnAKX\n",
       "JSrRr2OIfqSCWfMpHUInDw+vLzYvVL4KMfpq/FWzlyzPN8GSW722RDWldqgnc3Y13mpynjzs/dth\n",
       "lQbeyF6Y8c0Un7vH3U7H7iNxldE2stuKwDI23g9css80MvqTCOMzIaHCLQPJZinO8L96GJ94yUpw\n",
       "LqLvwXW5jynRmdbNN3DXeVYfKikR/kanQc2AfolBEQ4Jvyq3hyoWSKRB1eZHvyLOHXybfoe7b6Ll\n",
       "EZqmkUkK8KJQQ8stTZC7jlbI7RJfInvbiUlbX9AbKu3G9MeAXaBcs1UAeWJrfe1LadJE0/Kyl9Sq\n",
       "Oj3FmVFbRoS4b+YVpwuQZqVZP9vweZad0LOf/lLWE+JW9YloLvRfwJYn9ns6Cv/lVUXXQnfugrmL\n",
       "gZnfXawWYt2wyqqWg3ZdupKykIEnja3o2N7igna/PjQW1HwkoAILXSndsNUbJiSzf1Sd7EuCHsSY\n",
       "4fdlisR2yxh/0UO0vaJUrSgaf2hGhJ0hsIQnoPOus82SN2Ic7ewkgB7R/AEbhmPHdaWBrGpAGv6p\n",
       "ybM8HiTx33+e1gxrIxijNiCzLwypk90wBLg4ycQ1wAcM2y8UPJXXr3SEecehpT6bxsLyiubTfxQA\n",
       "UTs4On4yEWwoNMpo3qDWAhsHbIEIi6DDtp8dFnCn53FLnqz6MQWDUpIHgbcsZ3XevOi7evxDIKKv\n",
       "wFQjtEskmLMzouGfgl1tw07cO9gRG4+ouLgOXbY+i/bG112WDNGhuh2FFKuPZ36YoztW7ay76OC6\n",
       "QBXPP98WXPYguER6d23ACdZKT/BRtk4RUbJHhE0kOaezYT6UvFZPJ5u0Oavi5qIsEalk9G86ZDrS\n",
       "2RPyifY0eMLdoWceRN9jRgn6iKRZhek66YJmg2NPoU07jCPi2d8RxVI1HDFW/8g2UYGQkTVzsDpI\n",
       "dSxOUiXWDT4DlroAN0JXW0SW0LLltsLp9g3K5vnuiniZnyS+IuiJgAhTz3mevOqRwrKzvmSP04AG\n",
       "5r1wog7Q7wRgeIp+H4vMtOYKcbt0WMAhpZ1EmbTPQ4lQ1IgXr8u5VL5NsUz0mciNbeaup7chuD3g\n",
       "fytyPZefkFrPF1djwn8jnsCyUrRd/8A6AANWgXwOEi1M2fPP6deGndix0thGzBSBmSlrIGUkBTSB\n",
       "0Z0NO4MOXLHLgGWV6kpDcRub52eeBsSEJKcEVI/VV/NBXCYqUNZJZ/UYNjirdGbvvw7r/rbeOsBR\n",
       "1m/u2wmVXKwgZ0qAB04sdOWi+LwVNXbkv3aZty/YrShS/3PGfRew5tw9HN98Empzdt5E6dzz5HCU\n",
       "mNk/hEEVfOxVsgTxee2q87CWgwrFGnvXmOraP2NZkQVAJhoTKjXlCAesgoMapVy9dsar+Y/GyiA2\n",
       "gtXKPAe99kU0evmo0U9DovuUdy2b81DuPNTY+kU4/RGM9RHebcGa14K77cEOHQSoAQvNFMFJXlZ8\n",
       "gtd14iIYkaAKRwG6EYh3QiJTkRU2X1G5r/u5b+8tzBY/kBR5azX1/Ef0sKvhzo+BiUZx22b1iPQu\n",
       "rC9fWY/UqwjIna7drJUXmbntFWuXHJh1HXOv+zZWYkaKhgK68ZJP3CeDtNeMqTV07oMS0Bi46Xwy\n",
       "OZlR3S4XgcGNEwutzL96DIL95+0YB0al8qwaxU0HfewTLH48+zO6R2k0HcG/Z1wHC2iRf7XgPC00\n",
       "gSH4h2fEU6nFS5Qdw1StMpHiiaQPKxlgRdYZFcs+D+dReWOopx3qGT9HE6p19YusIuD5wO9ysfid\n",
       "6a+fcaWpzGzZn6pQqs010z+YeyS+iV9R3BnWjTRmOEhFKVxFKeMKc09mOCSex1hxglWpN9VMOBtk\n",
       "YyS+7zL6wQqINJa9TPFB60KyCCVq+lkT5u3jnulCoyjYAAjUVe1LKqv4tqoUW519wVwZx2h9coHr\n",
       "Hd6EU37IKv4mCy5O4b2h4obfFeT76T/XmvW9LC76WppzRs4pE7OAETloM4VntFvNEnhWit6HnP4O\n",
       "Zab2xT22Nq0/d3b09DUpJzzs1T7jVpen58LKgUP7b7Kak9fUi7NKj1OVS/kV7ijGue/X79TFhmyr\n",
       "WfwUavnAZfQmH0S0FGpBDUQCPzr+QfvXSar1PzC5Wkdb0/8WFMLgGb5wu3mrYvQm2QNrI+9kwA7K\n",
       "6U1D+SNQbA3iBDoEPKj4LbtiMCslK43eQxLkhm+TVwkhVJYYmqvWpGHyKoMhIDXiVsU1x4HFMn0S\n",
       "IJVzdUzR0G57kRn+c10EYp55FhCK6D/6OQF5pv7IzlO6wtjLjV7/DXTR7TpB2TS5ZpRLNLclml5l\n",
       "8A3KbQ0AaEZ4fT7Y3Hp8s5bNeBn4cEEv5CbQj17C5V/9/wPOOLdFwgYrKLdJAvkZL+WSHW/puzFF\n",
       "RqnIyprZL+ACXbrz7o//aMdFOV+hlQTw2xBhcAoGB7DLCe30njLGCgBTgTrrMFvwoCjq5B1Kq4Jx\n",
       "n8qhODB4Au2p+xnEd/0oKZ/WfOcz32RIiHmRXMi/dO+7pde0yBgxkIcorja6Cl4LD/ckTxGKZ1uf\n",
       "H7A8ZoenuLOF0oOleHQHI2/KGV4yzVUfFUFaO7fr9WEh3c++5pImLgC6kmVmbYiaF/wQoMokFYSz\n",
       "lab3ooxiHnxkYfaHY6Xa/QvDnPg4f+KXDv0bJZ/tFM/EAS7ZbcH5NNCV0bJvvJL3mc/q3/Dkdz5O\n",
       "c3kDUxCFOCr5gEJNwDj+UuusrRyvxT7H6Xb3sm+dOi8WKZn2GI+mZ+e86JqLPEuNiOOSK4pl5TbA\n",
       "g9y7HcvyGO8ZacCiV+NFHLWSxt9puw6mrTZCJuvnvZ5l/IMRcSwyEfLrOs9Ei1usys3ilUyR3Ipo\n",
       "SPVMc/3/IspLqItehPN3Bs1PCcsF9Sy0UGS/0poedNxteOOzV7rq1c1alr5MYDrudFG5ZgLmAXWo\n",
       "lODM7+RBS/ggBmsvsto65k4Uq1v/Xd8AxUz9edyQnUAmcV42M+rsCDQh37B9XXvThq+s5RoBcNP+\n",
       "NzIYX+BAZZBGmcbOB4m6bgoNvR0J+i4rVG0xmW+APA0y1LnCkLZ1kkj3TxPX0jQDbqwBLxtgrur+\n",
       "E4qZDDnGP0wALBvQOTgr3A1XI1oBCnu3yUbfmA68BplrAhjXa/es/lut/riYiErlGz8ukOxrBUFB\n",
       "vUdF9X9zKarubX0GibjWYOghOCUrq332Qx1o7G9H3FUCqJ8i4u1dSix2kj7e1fpgTSm5JjpQkInI\n",
       "CM4DzOdi8/RZYOape7zu/2j+mgI+FuNFh4FL040rQrmACj74nViBr3BUjnw5adfCjb2MEK3b95RZ\n",
       "kJfa4TRHhpRHzT7bvxik/+H1zv9BNzGK+WWGUpQSeozoOWOLnFC7IXj3QPS6DkPRUlM1L02f3FaY\n",
       "gIAu36e7n6uaAMZnHyXXpRDE6kB6SjDhFOk9Wzb5sE8lLO633Ubg84ZOSWkbQgeC41XDEUrYAkNd\n",
       "EooqEzP8eEeHy2SKQFu5N1OWKpPVoJJvSK8LvzARG1xVQPyoE/KtvfxmTQ+DLcCqDE52Vi4q0h3K\n",
       "ueAD0uADoSSwlLRkUhn2f2Ka8eirfK2bJ9vYRNqoIYBee69YRih6V0SFHlVXv3yf6ciTD7aDlk7k\n",
       "XZAbK4vMAxgozW7eOavE4cIJ6TQ2B2CDaosKngQzwN3aOSmxEAic77im3RDstmKMI7vbr0erm31/\n",
       "r6bdBcqhdscuN7EVFl3YNPc4FXi2zm5rdH4CAKM3X6fnXGm++0BecgS3XliANQJk1n7aPhcMS9VL\n",
       "zwvB8nSDrhKJLpbBlksjfpkQ8z/vLuxBGp6SYgZlmpSJE9pHhKX5vYZMhDTlN+D1LsuuULb76m/S\n",
       "iEcxgjZ4kchhRKPejiNWXwRrkfWrkWs07M/LaSV4xZyjhQLy+ShkZy6R28vqL4AAwlnoKLQuJyVB\n",
       "4feDl+g6Ai0PInf3FaXX97IjTcfRw1uBEaVjh8ZB7PP/ALHk8oPHscHPycmzUZLFcwQKvmjX6ZF9\n",
       "WDqRwnWahhVETTJQpfVQql8r/qZL4pMapxHEtqZlL8weVVJHpfGopH8Scw+OUM8HfXiUnWT5JU2A\n",
       "ya2vow9cg7xi08Bbmjb9R5ioU0IIErggPg5jpUJf8DfjWA9VjhxqdKkJPGyaj4VS4mN1QDL3yaTd\n",
       "bvkUJz+il80zfEmjz3+huuQ9XBEFsuiP+vs0iYojLI2QdM1vHM6DJkqJOg6U60rNuL0HD4YLLhFk\n",
       "VGM4Jl1/PWje5gdTRglzCMWfMhhjrxfJK/NBX1ukPdM+BN3r6MrAErmraJXOoQQl0HdtoqwfU3SQ\n",
       "tcCgWLMQCrtLciWMdxFRfb8TKubxDv61Yaaq019cRLBj8x31UeyEC+Gqqmo0+pt/flUxlYinwCJF\n",
       "SrrvVVNqnDa773qm7PXsYVJt93R/fUtqH36kipXfvBOyT0YeFKLo45CEDvvornpTOo+mqAApDGKH\n",
       "2eu/d7OQTQNjVvHOsyeXYYkJiT6eyDiEAIvbR9eORxbycYy0teSgWY+PA0c8T+lhR5MSxUrmHE3m\n",
       "Mj9RpIHmu6Tk0jpYdrgMDlVfmD80HPPYe3Yv19pd4TfREW0sv6BqdNntwCBu9pfWtwYXUJ4BbdqW\n",
       "dVbonqm2u5Ct9AsVWhRMgi4GHHR9itvl58P7pmyQXBd7FN+zCkLJG1jG790cT////queRmkqfDIr\n",
       "OeheCEeosoIThdSJXGn9snhwvyVwpFZdlMJs2wEFDgbV4bK5TsJPjKXi7izlsv4ungD8+VpDpJG2\n",
       "2qVeVUN3BzXYWpxFfRUQ41p9kYpxaHa4La92keCW+h6ta/HurNxafi1nsWGzJV3wAmFuxeiEAPpM\n",
       "nj8httnGyMmzhBSoE6PwSpK75vAzucX7irdQ8wldM0EM7d/p93mdXWePw/t0tKwyUr/6KjcmPVhm\n",
       "eHSEhOjXwtDrwk556uxQepHu8310iTkSW+Wi/3TdIqpXEMJ6TVsdfA5YvD/FJ+QIYcmllyNgj25J\n",
       "CiHo3zAfW2yeMhPZAdK6W5SRWjFVmUcxmLe1WIlnRVQmeb87DotH0jb5E51PJZWAmvhbOy8iacHo\n",
       "bVnxSR/p0kLUG3MUHMYiXhPsxmgoBadraKwzRj3KBpHuRgl69uOcUUvqyNp0lv3yKjKv/C6IkTZ1\n",
       "nKYI4sR+Q9ucG4EeMYQ93vqXGvzofR1NfgbqCTXEwWL+Sr/kSKCs5N2R63UGdkrkqGFernRG2JNH\n",
       "OEI9hIrvCETiizD6AlEqlKdLCSna75f+voEfJ0aIL2Xz4xMw2gtBdkpykF/P37beoneyUFhTiDLZ\n",
       "/C/lg0t/2Jk82mV23kVSyrP1ZoTxesAQ6S/Gy9bsbZcepkZt7A6jLNOcHjNVXhBjklIZhwsrpYJl\n",
       "qf+tNBXeHS2kP7IfU+qYrF9ahEP8r1EcvMlKVYnowLofPcM0zIpn2wp8xTvgYDflPbPFXjz6nIdo\n",
       "AqDDPYfFncFfhJrPrSXZ99fpjlbBen9xTzAikARFIyukVUTV9XlX71KdrIT8WVsA/tw6JlUMPRrQ\n",
       "KhGWXvPFG8OmH9LkoYONvAhpMe9vKNHWDIhvtEpqNRyk/Rx1Smuk8jsI0jVIeoQX86VbmDI7GrE+\n",
       "vATPoy4uFO/OgXfPTT/H/1dL2/2iCMXHfhqyMORngkkE5HhlXFK8RXlKdEsjLLGt5GVCM3ewHEYP\n",
       "0hAkZSJXHQehkH8bqF6bNclbn06adKAVkOc5itZbEd3Rkmv1SQJoR+WbXGbgvF+P5RxpZSG9hft9\n",
       "U9cNrV9Eb/Ki/vHb/Qs/gcy9ibyguEnsOwKoPqjoO8vUCAqs9S5VRqlTnH1cu9yAaqlEdqlRolev\n",
       "FNLDFMepkJPb4RLYik/2CPjGuyzUOTbw1ENDMuYtqwTnDNdhWUHkpQFvE24N/H9tEYmw6gUawOhs\n",
       "AyE4/FdOUvrgQrN49y9Ev/srnhkcJnFaN0NbS2mZjxtw3WIqzDE/ZC4jMuFkaMikj+LC6srq+teT\n",
       "YzCUbebnNrNKhH9mJ4j8sPQIPNeyVqXpf96EmNIpIqigelMJTDJ9STsaC9OxqmspS8Kp2sP70fdu\n",
       "w1elfleAVEnZJ8VrNLfgnW96mb2EQ+53BPlmD1QlM+xCDry0RFGAT28K3IxBQxlj6qpYfuZiC6uM\n",
       "STMipTaGBlpVuPE9EmNUZEtwxQvGqP1BKBg0gXqEWeePfW0k/z08VEaaajFhow+8bLZzs0xYaJy2\n",
       "IWN65Kd85D8YK8saB1vAWp9E44nMAd6eFJuKKVMsoPB+TSFE20ryKj3tHRsKM8zi72l4CA/PrnS5\n",
       "UT57xg3UYILDwapbGbGt0rU0f1c6ukGHqIQuvybQ2kQPXvpRTNoVK+7FNJjPB3i3KkfPAfnLo9og\n",
       "TJ5noV8uFKMuTlGqIPcRIBRsTQmzKqvPhJ1dF9mJcjDpoJ4DmNoVkqJN1ymVp0cIMj4QnDTZUpjl\n",
       "8jaqw0rDK6LmaSauM20fkEifmMHEX3ynp/77hPunmu/9CngphEeuoXe6vYyzLHL0sobpPFrATKE6\n",
       "b1CFLqEFnbS7e1z8cn4oP69NAKEWHt5V9fb6M/yqcGrebqWGNOn13fCSOpVQsxCI4PMHJ2pcbBrA\n",
       "JPBg1/V+EeCd5j8MeahAD9WRGauV18aGZALHrzUfArfqJIV3GkGjqxnF76hxDxUTp0UiAxwjIzSX\n",
       "ZMtXWS4GoNv/W9OV3l3EItlqb3Y86P/7L/Y6kYrbhBbE+2oCoeel2NXtyR6cHa0KDzt12z9mdL+T\n",
       "g/+Zdb2zGx89Bh/pLxKEvad0CSA5/h6g4urFss0rZVurkhyn1D2UPN/rQAW8zvc7ARAJu0rWNAX5\n",
       "UlNXfc+p1DwK/UTUWHXsIpQaC4a1MXEOKRtCZ8RcYQcWQqEPKsS814KzyvoMdBt6nlnrKmduJ0g9\n",
       "36mpk021vzUXISRTJ8d7hr/xqsIaX61tzQw1WsTbp1Wmv62b52bl6MD0VMKlCv+LSWPYFLLmwmS1\n",
       "oiFNDoIxBr3znRIbrTcwf+Ihd8PzedgLxyrz+9u+x9OQlUFClQnm9wz8HW9eCLL3o3GyubMRgV4h\n",
       "20+vql3+1hwBrYWzbV+jf8qvmxqA2FoqAwIbE4oUFtlOYftM1tXqrg+I2DQe8rbWIvcRkHorUagZ\n",
       "7W3Bda3GaFeaHTaIJMYisk0mFHLCBQ2ZloQHL6fHDYQ+jl3AaPH23GuwSPWITW8NjI9a/GEA05bj\n",
       "nM6sMIXyTeg11rHjahvUHm/wmi4zp6EgTyuRETZFGNN8SQCOz3gTUxS7dIbxsH3hrE21Qc+II3h8\n",
       "XRedchXMiXleDj4ehF3nWbHiF94DDRG7/1maJKL3/VDCTB1D/Ox044xOkagbjjuaedtKZcwd1nMU\n",
       "horn6m8eSin2u69XZ8RjZQPXggq+xWFHnUxOYtem+jnEP774DYxRS8WogJSckKasDfMwXfhFPKtP\n",
       "gS+JEWhyvACtMbofEOCytdN4T8+9h6U//BB89HpqZmU3m/glkHwR2TLvIqEp+duYzbHbkLjWfd7D\n",
       "idX2NKCAf1WCuMO6KGU4np7j5cG6QkaM2sTdJ1uAgWQnJ4/rZEenBcjpG0pimCTEvNL4ad+HDGrw\n",
       "xNC8NFhlHbM05AOmmUl4Tu39F3u/vODU/+86fRb12KgCeIaCI9SvYWdPgI0lnuptBnkOint78/Fw\n",
       "DRgUU4ZiDvJCi4fJ6MUmSlnDV15bXWVrP6fqQSVIgzhUDL6+5sAAYPvCW/D6scqoFwKM87xrXnCq\n",
       "Jbw2VYU/EFndEiN0pxkQg3RI3bUYDyySJK7RNaFsu8B8etPupAL7NleNtDEooeU6ljxDIzCQWwWC\n",
       "h8LW/jOL2mkvXn0Ky5VthLB75N3sjsITxZcOGYAAQFZTaGLpFPVQIRLH+JwFOdrRxajOwf7VgGKo\n",
       "TI1pubEn5umZ3gE7kYtH6h02aOyXnL0u12KC3IrQG4MJQ1onrrAKtmfuaGawrTr7XaAZU/rMvboR\n",
       "hGKXh6iVDg6hgEuSZlziGpHkobuRzO7YzQkpMA1NnECiYFBHC4aI8S0G/aXsVNbAzXAu/O+8Ojkg\n",
       "kI7e99VaPuEZvOpp7xuajiCCyAp2rLOyo/692GBM3T5xZBMQZu4FksyU4p05IvIkiEAYQ5jpAncU\n",
       "+TwHI1GEfilhX0fZC0bMgsaILkOQRIX3icIvIKP/sbgtidFUdHkJP+abAkDBTUbeLBgbLlWFfE+n\n",
       "Bsrowig7V0Lz65QiZ8SzSmPPtafVnXNJG4qS760HQBumqPoCq4niRCWGnv4OuuDuB0PnxfTCUSMS\n",
       "4PeUDxcl8vBnX4aTznjEipOp13Pxzmg+SWyQBFAo7kjB9yV17v/7OVXwvrY0wv9OE15lHT0Fs7qQ\n",
       "DH2RapcDJ/F5JY6NG0v8rWlL25bm1IwcHC4UFwfUN12nIqCC4yPuKYGaSUKTu5z+hkAO4kXFBs2n\n",
       "IiBBvzhD6rCIK8IHCrTu+B8zhOSp40idpGqTTTR0aojEkyN9LCZj7Rj9fHRlD4WaKeeqt2TvGuzV\n",
       "qHdxlYkrbSDMnqEIgTQ7QH1cpoLR3w7X7P8O7OQtZNAsQJ8A+b28DDrgAmGGNrFyi5iZz/1zkBqA\n",
       "2heLxWf1JS9R2r00dG/C+oW1jrApb3dy+wSV6jex9+kKprHXOPFmJmwB+IxVnNq5GACIXpgnDOMQ\n",
       "+tzRNpJ8P3bg+7AHROPmZroufptEyBz9Gmzmbb2DruWW8qx/nX/1If0wsV7z/w/RId1o+AKsnuH6\n",
       "S7fyA4gleNXwdhCQ/2Kty2TBiWhm2K2iPPAJgwAa8Y7sjwxQ6twHyADoq34eyQzwUkyA54tn95ZL\n",
       "jxVtUybkdDn2PHcLx6dGOn1LHyDv1mR5M1apsQI75pb3Bv3rqOXqUUaBflAJDXTjxh73o1+sOOUA\n",
       "KyAHobv4GPhif12fsEx/D6CD+yBYRzXDHWCFOGYz6/0HYCINxCEiq3j/axKp/TDDrvJmCpb/DOkT\n",
       "yyfpuEEibU/CGAJTwbRCwfSvMOEcMoEFOEIXDP1Ed2FsUFrpYZ9naPvKHBU1XAZ5x1+8jh0kUIoG\n",
       "baDSXCYCeXtCBDNQcSDhSbMkXTJtfRSWNEtAM/Ospo3evLwY0QoWP7IR/tgpdOldBOtBoA2NZNRV\n",
       "C4/f+7KZgMaDgRESfAIqQupatAoMZdhYYSPEqqGOJBxIWIC4zvUCYJzopjc3dLbuJ1+3inrAj6S6\n",
       "gT2kistNbI6A0dNUbR3dHPk8yrOoE7aMVEIu9F5Ep1byto7uHr5SdbJVgsLT4NJ42mLYsXm0pRhQ\n",
       "9YhAp/qsznyWE8htzOGaZK69XMIda6xwwAEwMDTsJvmsoxCO04KSf2u4QB96ntxP/icH1UW6sKKo\n",
       "ptQEMzBiiZ7DH66tGtuV9Qfkm6YsKczNt6pM4SiEObV4Y7p7Q5xT2z2OmSeT5MJ81RptFF/6g198\n",
       "qmdMqjUYyNhQph5s2NMAPNp899wmn0JDOifE/nl0vf2oiQUMhBqtFg597A9Qz5ur324XFH7CAi1g\n",
       "3Hyv/voTAbBGQTPZfTaiKK4AHvOLXOTnRmNHw1c9J2bKN5DHZpaf9IP2Yfc/MjVzYPrjQs70ZvqG\n",
       "dignsQk0hJoc+3JNGBv/5QKuxhXh+7Wg5PCOd9rh3Muqt9OKiXJkKYy5cS5mQ1Iuoiv0S+YoZEON\n",
       "LKvsnw+C+uKcuNYYfWM4ReY4yY2pzz2uiW6M1JvX8nWu5w9cRGYeIMTpvimPnF1ki0hSINyK4SJT\n",
       "gOTt9959QRGVqhPsJ7I+BxAaPsE0yq66TU+nWluSZzdWD0iLLHJVHapQWJ81JBkTGoMYTdip0+HV\n",
       "oH5bUa8xnd2t9d9gJ8cz5QoKwofwlzKPrGPbtDstDd7FHuzYSCOvKEIOO4F0wx3cROIqOUtQAXij\n",
       "E65k5Mh5I9xmE/TNw3iL4c8UkZTuV9jZ3RBGpG6UlinvhSQvCgv69MB/wXdVG+zxmL8sKXkzuQcx\n",
       "U5813Myzkklx8I+c+7l5LScNfgBA8vwSKjE3blN8AhVnApst7q97zOjxdXzDbAMHmriL+rEWmuPC\n",
       "+aFpR45fuUAG+sdaeqLP9zw0Ziqda5M4i3BOy3bJ5kCK96cvtkKr5xlucDRLgnxS48QfJGuaChJt\n",
       "ruVWhFOhHgnqLcEqtIaqOAbMv0GbHiAJekPdwYZRIRX8srbVlHdbNvmoXvrAUeft12drxyHXGz8d\n",
       "0PcU9PGWJqOZTonN27VEjomqvO2gePrmPNl5IYhZ9HHnGhUcy2bupZbFoucsy5JUCw15YFmaDKEP\n",
       "gGbTUDNL28FFwH3+Mr+4nKBMxJu+AdDR+PyxDzcsutSfP4KhOWRkpZl/Wwd6I3DsiRbW/tay8HdR\n",
       "/u3QkNA0Tn/UuRONIPCzw7TWeH5ZL25cQ+/X/7UcRa5OOS/zH/hJ28PyLOjJ/Ks5j5Z+NQzHWc8T\n",
       "/o3U+teOjm8K/nLmcnFf93A2wgPy89/1GhFuVetJU8yfVOo3XA9BSZFJJvIPAzFRO00T8Y8b7jxb\n",
       "k85mAAgIvutTo+YFuNDm/9Ojq64VTusEkfzg8l7dxBNOLPq3afGB3XIdVcSWdlkmgfqzbkWy+ee1\n",
       "R4B5Lz6g5fASUlvnFZ3kIxnkjhxfyOLr+bIPLofByvfMupdWAtgABWagAAADAANLAAACBkGaJGxB\n",
       "T/7WjLAAGpvkMANZAs2XLWuiN3xj8g/6MbtKX7xE3S7XS8JC3linxh7UZWa9+CFv3MFzQcKQ5Exi\n",
       "gR8sNUukMoTy72FUfZnWKHEJi01bFChiiyKJeCl8LifkwrdCVwu3r/RLe81oF41xw74OIHtZL9hb\n",
       "wBoYyAB4f/KKgx3Ub2x1L2V/SNWCwxlaytm35HLVvP72/N3tnjezNVjq6CHoZ6fuI2Ii01+F/af/\n",
       "j7vH1gRp3dkiBmt0OeLbNMKmuDHyOa3qM1cTibaxQyy5hqvQa6HCyNg6DYkpgMbSMRrhkLJXKnq3\n",
       "U32Fra20IOVQ6FrzZVQNW/1chTS9RcRXjRxxpT9MAl4+fqDIsSL6cWf1XJ9R/MoAvBD7PbpYA1Fa\n",
       "sJpDCGPVhwfhpH4c+5KpuNmk3KGd4JpNHbAOdTj+2cIy/nxLmRNMZCD6LAZ6CB/v0s+kjZcNhdYX\n",
       "x/hdGBmwP4pN86K1zeGmuAX0e2O8pmU5+2C6aIF99EvqAiy1kWrpbBxJ4pbjXx0LJoGb9IiT/3pt\n",
       "PMez8zXqLwo2hV9m3FQBPevd8b9lC0zbSmI9SvQpA6tYzM5N3AyShyDuZe6RMA2W2HXli/FLruAG\n",
       "FEQFWOz8hKm2xR01FccxsizlX60kb+nw0j04vQbgxlC5I6y3kOtOQkC1yCy8HmAGvu+16AhRsHHA\n",
       "AAAALUGeQniCHwAAZuh9jA4ccKltlsZLDmXgEwrAIwSsWk4EyoAX4q33AOOwW8BgQQAAACsBnmF0\n",
       "Q/8AAOJXx4N67mgrekrz0HSn7fqUO7XI844xoqaU8YJn2IEHIAScAAAAEgGeY2pD/wAAAwAAAwAA\n",
       "AwADZwAAADtBmmhJqEFomUwIKf/+1oywAAADAIw46wAL9Vx4CGwRrWHi8Tqz4ehyAeQyLYSCXNmC\n",
       "hQHuUo/rEkBQwQAAABZBnoZFESwQ/wAAAwAAAwAkqHrkAAjZAAAAFAGepXRD/wAAAwAAAwBRxb9k\n",
       "ABGxAAAAEgGep2pD/wAAAwAAAwAAAwADZgAAARtBmqxJqEFsmUwIKf/+1oywAAADAIw46wAL/hR4\n",
       "CGw/r954I6HBlJ8XHdhQ3O96E2rtq/o+D4XBD0C6js6aIiaDowNekuluymnxHjfmnYundnZm/E9H\n",
       "9iNRqo+s0suwD8qLv5TcRMcsDHPVxHOk7lWiWsR4sS40cBnYB39Fmu3ARvmLj6ASxbmnRtel3Y/f\n",
       "8arjtbdCtD6Elhs+cJOXgy8iLoRrDDpp7t5Fmk1LGzpw1FGVocVOyDqOf2+2iRFdT8KTjlzyjIyA\n",
       "hoZXemjnEsxsTlaPWeqQdT6DRsqSqVMmnBxZVvmXjZeFs43G59BhXebyrJpAHlC6oOG97HMndSxQ\n",
       "OuKRe0YUkZc3Dtl23dNbIK0S/WvhjNcfYA2oAAAAGkGeykUVLBD/AAADAAADAAR1DtTcmvUEgHTB\n",
       "AAAAGAGe6XRD/wAAAwAAAwAJ8LbouxEKcQAwYAAAABIBnutqQ/8AAAMAAAMAAAMAA2YAAAFtQZrw\n",
       "SahBbJlMCCn//taMsAAAAwCMOOsAC/VceAhr0q13RJmHChuFGtLNASM9AhrvOBJP6Dk2yWNe0vnj\n",
       "VasWhx3T9Vo0auhOjk1PZowqNVFp3bgHwLgWlRANEX2MYrtfIKRxkTtug9b5OWhPa6G+ZeWBscoy\n",
       "IN77atVcepuFUK72P6bu5rbSVx7+OH8iuMuA2nGod3hVyH7K4eizIrJ7HzQT6ZSpc3zMzAQFLQ6z\n",
       "6xjHRQEr5hmvijzvW4fbIjYc1u1kclUwT9Id6mv5f6CQlarPJNdGDX5HUL4tYgGZnUFTTvq1OhNR\n",
       "6NoXkVACUk3Khbom8tg3A/BAjsotkKgCB/d0T9fqyodmmYnbfwiTLCAyJpe+S/USPK5GVeq4bvUO\n",
       "XCF6Eb8P2F4gI6W0C2LziVfd90z5OU1dsTWk5Ijq7WXF0eKxehWn6YoURj+qC6u7WAC10Vu56lGm\n",
       "1T/G4RK9L5e0lQOHJLMNDmYAxoEAAACIQZ8ORRUsEP8AAAMAAAMABEhTT0AEQfOLsBX65gzU5WBa\n",
       "zdQmcbfY32xMDyraoGW7fbJqxlCY7av+rst+rWLkxQY3NT9/n7aHiSgGKYsKP9RbPaOpUkdeyFwO\n",
       "jhabA+IDQb2ANkT2IJ/Wro0U0jQ20nQLdm5fXCpRZq8BtNtrciWDZkmIY0A7oQAAABgBny10Q/8A\n",
       "AAMAAAMACaxlyEgOFGQAxoEAAAAXAZ8vakP/AAADAAADAAmrRpE9RfcQAxoAAAFtQZs0SahBbJlM\n",
       "CCn//taMsAAAAwCMOOsAC/4UeAhpn96banfPVptjwDmurMUtZYTJAxnvVA0Hkj81sJSFYckFlktI\n",
       "kuQvSZ3ZAJT2oiw0RuHlR+QlACSQycj3jFrIms7xZupPmMb7/Q2KRzP+/VTWx81P4ud1YYLkBNqt\n",
       "ahcX4cTHiGENu/azaFmElrtF+McsBh9RG8E7xBJyJ89hOZKUUYk5jfPNMss6Ksr2JZNaaQO3XrYd\n",
       "g8j/y+ubfrOramPe7AQ3tct5iF2f1HGO1t50ZKPrjlD/i9gKxnKpBl2m8RKtVBTyUteztGSiIHQR\n",
       "XOM9oUXvBIKQk2rT8Radfo4hsUf9ci7ANOz3v3dibtWQcP4QFVROwlYYhcAsunXDiaonmzSN7H2+\n",
       "yrqUwxNEzayYYjBgt57wYLxHpXNprMZd7uuI5iso3+qnoVQT/lDkOSUkRrQ5JKJ5BeLPOYoaD+VU\n",
       "ignmqhvnSIg9D/jEBvQAAACLQZ9SRRUsEP8AAAMAAAMABFdeAAS1eV+VwBC3wK34/hWbORlCEKEv\n",
       "fYv+ZwbVzvDL7E9kgxoVqcL3Q3AHZeuYe1c5bVkjYfed7q+U4NQHL5cKH6FHvnj/MD79ej6c2q5W\n",
       "63ObO4WNZ+uDgpDaAAWtmU2+LVA3AbVO4KNZ+T8oCeEU1vJDwDTN1LUDAwAAAHIBn3F0Q/8AAAMA\n",
       "AAMACaxphgBLUqphjI3vpetEL/fyWcILO4foCvhy2gfyND/ofZroDY2hCBBN/TFSly87CjxIIG3A\n",
       "P9y5OwfZCq0C8hTRBMYX7x0ZI0aM9s0/tnsy44SwEhgTyb1aHp2GP4Y78uQAxoAAAABkAZ9zakP/\n",
       "AAADAAADAAmrRpE9Gp1iwRCY1/GUuOPwAQAlBK4v9zeM+uAT3JW3FC0mKGY2PHxAaynEROMVq2n1\n",
       "/MoiI8B+9y5F9SKKNkzxouGGQBQswfR7p5tI+CygTfV+C4BJwAAAAXNBm3hJqEFsmUwIKf/+1oyw\n",
       "AAADAIw46wAL9Vx4AFhy+ER6PhixQwyYRsTIa3Gxn7oek2iUyTUF8O9NVGlSz2LIwBxrxO8GrvL7\n",
       "0GkMVqnE27hkekwZos61xrRPkvwKryuJDCidpDbudicXhWXKyGUI1v0f2V6vlZUC0bYVOrneW5wW\n",
       "JiUHw6OH4BUro9x908eHvO32e+oONvphsVkgCBpNQfosySCXJlg+5SM9S4j6lfK//kXI5ciXX7nG\n",
       "qqut6u/JJ5iGlns1tFN2fBaje2EgnOBDQZrAfExDDKIgvZVtKYSGRPb0Td+nGkXy8IQNqQyiLTZP\n",
       "PrRIViLcouflccW1KA9aRN40mZxP/L5NfUducgoTT1sNsu5Q0VOAexn5/IbVpg2Y+NZXqfBvuM4r\n",
       "f+SLOi9f5oXIjkljyr0REI6dnufbEk3Q6OPQezTAQRGzwzOLR/O1zwVfYbkhHLbJzrdWM/r7ytrx\n",
       "5Q4MbP3ctqaUgcBZQQAAABpBn5ZFFSwQ/wAAAwAAAwABfb+sauaLkokCygAAABIBn7V0Q/8AAAMA\n",
       "AAMAAAMAA2cAAABdAZ+3akP/AAADAAADAANCOflt4AHupQPhe6zXI6NqrPYf8J5T55bZ1PsR7Ft8\n",
       "vO1PcedsZMB3MPp9e7+c9AQGC+yhb0i20sMnr1Kja/xDh26niegXDlS3oXtGVAYtAAABe0GbvEmo\n",
       "QWyZTAgp//7WjLAAAAMAjDjrAAv+FHgAWJCe5gV1i0pI8W05yv4CWRj8wlXykvkNg+sY/U881XXN\n",
       "zBnzafMn8JC9M1T7B+xB7G3ugEd8zOuEFq8AULDKGDEQ823ybwR78bFo2yMjgbwr7EG7sR5EWtXY\n",
       "hJD79+ivf9grXwe36mAiWVJOe0HnwfTiksy0nWCGvopyfvjXCD+Mxaa+ffEuxPVPanfZeURIr2/n\n",
       "vNB/KPqkcUFcMFWVn5BK54Z1d8a22cAaHLSLXPyPxvN8t0oY2VZSmzmRr2hW5hGBtk9Un9ifIqS0\n",
       "u2wLN43hp5hvNbBBTv++/WZwRSZy/uYZgP1dssUA352/bFRrALHJ9WBx06FA8prhXy4ZVcrVHX7C\n",
       "c/yhV+aZhMw1OCP78VbZcvZb/opzs32Yrj+s7fo4m8qyvARnqRAVmjyYKKwlYB4ys1w/cjpqmQml\n",
       "AgCanbO37VhabD5s8XLcyWooJJx1R6o9eOl4aGpAr4AAAAB1QZ/aRRUsEP8AAAMAAAMAAX2h0zck\n",
       "j3tuo7kSjclKCABCCrOC+pL6VdxhMXs3UaWePqbmuL/Gpyal/2j5BcxXFVfXyNCsgzLKt+SWqArK\n",
       "vCXiOmoJf0ZBltTgAV3OkgRIOdlBROU4EcQ9a3nOUiMRGBQxkAKrAAAAXgGf+XRD/wAAAwAAAwAD\n",
       "S3RhnrQAtpD6XZB7r78iaqG1RjYlSLzgJF367NFSZc2lxrJuxJPKl6/bljf6Qp+iQKLiVM36TDTD\n",
       "5BtmM6bj/QZL6iIy9vxMZG/n4ahgOCAAAAAYAZ/7akP/AAADAAADAAEZpxXX93DDagg5AAACLUGb\n",
       "4EmoQWyZTAgp//7WjLAAAAMAjDjrAAv1XHgAHaD/PGtOYVIWdMbSryZ8raZ4ex3ufvcVmU/hduoe\n",
       "ICaVb6SRz0nw4bZcfe/OlRQjkb8+5BEyBuN3E8LoR4ItLFSVWr6+pkt1JD8GM12FajeXC893A6Mr\n",
       "LvQ3QwtYpPMqfhaUT4fEgFy9OT6aVeO+5rr+JHUw7xb3EdWSid+YAwDmVqNux8RiHoNKdIV2nC6w\n",
       "mQ+sJRsBlfk9Xo2XgLjUFkSx10wCSkhmfrni0o8GiKZTxF2Fr3n1dWs90MiWDUXpwfp+rGjp/dgN\n",
       "JqPOFvwvJIxhyuUZqctlyPm8tX/QVIQ2MPZIZBEuQqAx7l/yQM8DU594HunpBl9Dqtdhp+KroKWI\n",
       "8/y8lXOwyZGcAzTfruwdGiarO0LN/hTpy3ZJmr94CU4sVlrTtzjA7xvMbpUeP5dDP7FghP0SzZfh\n",
       "YhkdubrKQYtrRPq7tdU2uMv5DvZjChPQKZ7C59tU0MmDdgtC+cTGz5S0D+OqLYZqO/dv+2WbVrBM\n",
       "tEQ6ac0TM3NBrcht0hAkI7egESJeKwdNCukjPUZGrkyLYNgSM1tqrKL41xUVfEQYwUw12E0QQvix\n",
       "KBbOR2EV9pm+YYE5qy8Ue2CkP6uWaq1/aQqdY2odl0kv6NNV88ZouiVIie9pgW/Wz1Jd+xAIz46y\n",
       "vtvdf/adDmO8Xl7G7JyqLUHvIwJ15bb5xBoSLSEAo8hmJ+EMnDk1kH3BAAAAvUGeHkUVLBD/AAAD\n",
       "AAADAAB+55J8uTsq6yAAPzrXA1tEibN8n3vzxP+Zrj+pH7in1nkfd3Ps8861oz/ZFXmr8CviW9B+\n",
       "x9q4DO/82eSP/zRvD3rhdchEE1mn20h2NabK86+Z2KbujNQeZgPLPQeIIKL22t51bfCBeuVwln9p\n",
       "m8AwD6taJYqxLf1VWZrAQoUib605bIbJvPhgnhghxH9fYqeWoLptKvpoLYIZADVesyShvLZmg6XB\n",
       "8uMEUpAbUAAAAEQBnj10Q/8AAAMAAAMAAR1cVHL4zlcLDXrQAa7J60/gx2lFtQINMe4fGK/ahSUx\n",
       "dwKOQuhAYEkJ8CBA/CMPeAUKE7g1YAAAAIoBnj9qQ/8AAAMAAAMAARUFfjwAf0h8pXPxBm8egyAO\n",
       "EriU0ri1efU1DTfozyMpTOHV1a1m+Iq4Q3aOe3oFRGUcndoOzLxu9BNmnsN/yHdfVndNTueerxY5\n",
       "0qUFj8H5V/Sfy+pSJflPMfiONhqaXYMscdm/UcwAAs1JopATF+UyFz8y2lc3t60kBtUAAAGSQZok\n",
       "SahBbJlMCCf//rUqgAAAAwIg4LcAoOATIAFt5KOGUszm5ipctHGQxwUZT1p1pOyXqcicb2GPV3nm\n",
       "jFaNdGxBFdTvlPzJtHvdX9C4bXXqUcTxGdfxjRjeF8SvHDy5o8maTQ/rz2GAHTzrV+0+obApo0mg\n",
       "YS3F/SS2Wvn5oVf6rFSK31S0ZOZHzgEisHsol0oh3heVJSoGbkNAHDjdH2RCmrO8B95vrsmB3j2D\n",
       "vN7ZQCcwDBibUzi/AnOJ2qeg6gVOgIHJT0FZvSJTCdG9anW+92gGcb1eRTd0XI3+o0j2YHtd2svM\n",
       "etk5YX2nC/csY9sEz3LWb8wB4AFrE86C7/bZShmB05kfBsYRWqoHFNYR3ClH1ufNg3LoRbRTjfBX\n",
       "J/ZgeHRvtpVwrZ28A2AN90Qoa00315EQ4v2FnxB3bzRvs1Hsd5UQJTVOz7N2rHZX+QYxfGhN2G3a\n",
       "4ngqFIRyldFUmrgns1ZAqFFxaTRf7yau9M/M90QI6wfAvrhp4KvtyLYaGxlsVW3sqvSqLVWKEw1I\n",
       "AAAAaUGeQkUVLBD/AAADAAADAAB5cszqeNWm08UOVPtHczABepCz1YsUfMzfSkbGTUWfKMb+PcfA\n",
       "hiSjNpJ7qxgfqPfSRvaYDihuLRdIIajI6St0TcuOm5xqDI/3YPVuNexkeXN7t2c9JozB6QAAAE8B\n",
       "nmF0Q/8AAAMAAAMAAGHbih2ACdvkQZUCVP6Mzf+wdF8PQHVI51qESXs/893oRS/ysmCY0b+eRsql\n",
       "Byj2lG05vpA1ojMrUZP3CBwrYEvAAAAAFwGeY2pD/wAAAwAAAwABDWjSJ6i+4gN/AAAAxUGaaEmo\n",
       "QWyZTAgn//61KoAAAAMCIOC3AKBdEyABbbslAPTFWq53q+eG7DLepYIWiH48HFp774Bu6EVlZRAR\n",
       "xDYLKVJrsyJzroDnpiZzmtrwKHXna/6QbEKszbOkWZDHKOacXmONGeOGpNjo+hlpuMBd8F1vTBjo\n",
       "mj096+HcSWh0IeJ5Zj75qS35aaIUAAlq8C5HfW1alsqDy5p2xkduBDNUl7HLxj6ITeOMxBrWMFus\n",
       "Vf3b9r19dmlr/Gk0Pyd+dOhCaH5BAAAAGkGehkUVLBD/AAADAAADAAB5b+sauaLkokIfAAAAEgGe\n",
       "pXRD/wAAAwAAAwAAAwADZwAAAD8BnqdqQ/8AAAMAAAMAAQnOEU+ypmoSW1Xv+XgAgwivdeTIM1RJ\n",
       "v01HC0ew2784KhKzfigpoqjnN+q/ZNskBvwAAADjQZqsSahBbJlMCCf//rUqgAAAAwIg4LcAoOAT\n",
       "IAFtukTtSJA6XFQtI5SabjE1nIT1ftCeA887E2uo35j29NlMB4f+wI1MDMn7jMs4Sl3ZjIe8vBb6\n",
       "vCZsJpyiGOrbTeu58QxN+qjiL95QNHY0WAS3+cxcGUC9BvH4+GfoMz+g04LhsEKGtMrhta3MPIYI\n",
       "4dCFkPw29n508Gf2hhmD/woV+e/Rw5KLcLuvPqrQdp3bPIJYaZCCZO4IuEicITEl/Hn4AdZeXkAj\n",
       "xrLzXMqr7gsWRqzA8Bx1d3qXKwLN1fTkiCvhwQ8AAAAbQZ7KRRUsEP8AAAMAAAMAAHlv6xqeBMGh\n",
       "MOmBAAAAEgGe6XRD/wAAAwAAAwAAAwADZgAAAHwBnutqQ/8AAAMAAAMAAQnOQnKee0AFpPng2p+k\n",
       "+p1kwj2RCv2mHWMsW4c9k9wT2D2aPfmTXskNn6u2nX2J5QYC150hT8quwk8qBL9QpO+VtrioPwog\n",
       "cR7m3ppIHCADlehdRq61QKt+ADhNOcn4dxdzroTSIYQNYPl3wL2AAAAA0kGa7UmoQWyZTAgp//7W\n",
       "jLAAAAMAjDjrAAv1XHgBBX7QEi7WRNueaUp7fd5JBiYH1oXvyemsa3A7JRE6pTekwzZdEJIE1Di5\n",
       "fUmKlf/tXao85xfZrUCWotp9oQk9+YobdI2Frg0kogIRks6uPtMP8K/3Yt5Ebvkgwqyi1kdUXvcP\n",
       "fjOqVwg8vJDp7OxoBUWku6Lr247IMH+uK8UjsTuiWlgbKhdBCe6PtUP9q6QvWxkMPmMqHs/6r4Jt\n",
       "335Qn38/+BkRvYlWlrBAasatVt+FsLA+4QAAAYRBmxFJ4QpSZTAgp//+1oywAAADAIw46wAL/hR4\n",
       "AOJLJb4t0wQwizjksz7qk2JfL0B36BCvfQVHl4u4P82xUWsHxTp2rJe3Hm+iwe5nZr2WLcgNC+s8\n",
       "0OUkllOOyT6W+fgU5EHfLZDBtX2Ybw8ONBf+7RuXtNGvQuKgAU6v4HlBoSci95RXdfDyKlVu9O/e\n",
       "b6VPOOKMxDm2RjY2TBwYmLfbvO6vApzXOdMrmGeQ1/wCM+WP+jf6jsivF8Jdt3rXBae4hHYKNu0+\n",
       "f+ejKiv75194jg/K+wPxtrOvaiCa0VVCcz2EFwhQ88Su+eW47JrCAWwVSvsO4wSrREGD6pE19NKp\n",
       "hEHYaqhvTP1Fw174wA40o+i/NIiLEMXhQjIfQh6+fNoB+z6deYunPUamFL5SS8/t24rtRyV9tULd\n",
       "VFHcn6Cbrm/yMT4h+FT02EFqra6ljcBVXbgMel10HX3HSiJl65Hg/XWXSZy4AXiiXKYqGEOKEO+n\n",
       "xewm9JjImq6SVkaAl4Om/C0hAAAAa0GfL0U0TBD/AAADAAADAAPLf27BTt5i10XM1oX+l8ABCZd0\n",
       "heAFvqZyavUH/rx9kWdP2BMWMCrwy924VlSalO6H2qdwx2jukYNFq08GXWT+Tx+HhChDIGd488Ps\n",
       "F4j+kxlv7MQQ2v3ygAk5AAAAWAGfTnRD/wAAAwAAAwAC+/9/Tc5PUZINgCJjc1ySPlzzKJYM1bIz\n",
       "cE60p3vvHm6J5gb2K3aPUGZHQJJ9MXmy2EVCtbNmqOmfwqBQ2LysgDReP0hMGauAakAAAABCAZ9Q\n",
       "akP/AAADAAADAAhsGy5l2hgCxWAEENt4Il//IGD5Wf6/LnPTv5UTVVgvBLcDtzozMZPh64m0Vit1\n",
       "xU/5uApIAAADZ0GbVUmoQWiZTAgp//7WjLAAAAMAjDjrAAv1XHg8sodNli9a/rnbrbtdPSNuwyKN\n",
       "Az+kVZKlnU/Bki9xCFe9mTgWSda3s9ZfquAAEUIuSuv2HQE5CDO7asOcj1X9MNVOZrhHtkB8gOS2\n",
       "0Q4gU9P7p7F1wNAdBwMwd2bOaQFptYWAomhvdivlyiAqfl6cXwLHRWC3o/LWCMSIGVDhBo4CSPZh\n",
       "UMb7OqSuSxzGotgCl5Xbs3Gu083bLeWMpeGV+BPwvxMb2q8CoqjfMwSPNCrKP0i7lRm4kHONvdaT\n",
       "XHfB5NIoKxEfn999pgGPMI3EeO4rhc93HFo+LTZ8qiBzSBTZUQQtbY0cAoruQxUC1xd4IuKLn4hW\n",
       "s9p5vGb9hLUN9jg+tV/TAQpEgFDuhwsYyFxdTmbqHVysOjZVOl7ZWhuDVMslNLU0JAQ0+cWqOi4k\n",
       "9xuesWuq2O8RTbKm7TsKE+86XfSHJgrpul5lVqvaYAzjpXYAqRZkQAUmXsJ+UtK42e9ZIy9mkASY\n",
       "Z/pUoWoKLIxVsL95K8LEt3ASU16auIKA3i1/0STaY46TCcLEzoZKfZPTKxeaA+ZeL+dk+qGJyTj0\n",
       "xrJtz4uSI5fYXHIxmXJQnjVFZT6y0/tPzByKUcd2n+x9O8LB8JipD99AtJAxOXLW9WsbG6fZLjHl\n",
       "GgJ6gSqh/22Dxk6QBuNKrRg6+NCsXfiUCFegmVX0fB2WcTw8IoY2uvtdDrBixRtw7PoPkAhLCGpN\n",
       "Z0fg/Aq74qSjmLT/9FFq0KPI9RwQgNvMf/zKe1c62YDxku2Q/j1oLE4hfJsmqd5cvv4eXwzVZQCT\n",
       "uHUrRbvHd6a3lYSRerN36HV2MzVxZQSZn2UcWzui6yZjN8pcTGPT1vx4X4olgE1bpXsJnGk72JeZ\n",
       "Cm7odh7nKBIgUtsKT96CnlqP1qjQePTDn8V9LcKOJbI9FqoxYVLRlTMNaZOKzFD4NHcSsseXQZUu\n",
       "LKwJN6tY5D2SvzJsv/Y+bQEAt4f6kWaj2DCZhEzI9FJ+QU4HZQpxLcgPdxwCrnwb3Mn5f19kZska\n",
       "mry0kW8CQyOa7KKAeWYtEBiy/DgTUn/21O+8I7cegoSrYQY6qcOueApOUVtTBuWpwDqwqCjh6+4Z\n",
       "Ts+R3IxEvKvq3vsYXOaIJ1hr8o8VbZ/IbMEAAACxQZ9zRREsEP8AAAMAAAMBBVtdWVByoctbhwLI\n",
       "EwAZwNI3GGI+4lw80aH3ViMQe2FGrffLF1rFJ8JOyo2ZXDL0sVG4mwbtBESIBwdKvFIJezjcwWZz\n",
       "ndJ4sYQnTyvdxxPEhdKFwht512OUd7OU9FMRdRt76Jckksydt3owwXx3C45m1YwznhCiNDOlkcb2\n",
       "QOrYWC8bk4vJXkAEusZ4X1YZKDbC6+dYFeiyeRvvaJEYzAj4AAAAqQGfknRD/wAAAwAAAwAYf/nS\n",
       "1+FLyT97KLKTABspKkzwyq3yS+D0Ay7DW79x4++YaP6l0+2SmdjpB4JFUHwWKMrVSmjmj2YMESIC\n",
       "RX5f0sMiUtkuZXWIZbgCkA4tLDSt6IfxWE2O6nhm0iBkQV88rTtkSTf7nR1sEUp/bhwpzyvLpmHV\n",
       "Yu5vRYHKKnbxnA2LwHU5N28uL8CnWOLdhU3dXgfIubD6KBoAScAAAAC2AZ+UakP/AAADAAADAksG\n",
       "tze77YZJOfS60k89iABDAXVLJJRnthSkkXEDGs3yzjemzO47Wy2kS3MQGo0XNyIi+emjcQRIcbJh\n",
       "Iob5nuzG+O6tRKlFkZqOXuFXTViiuIapl6IDAf5xauMntc0P83tPkryk4Geof/7AqEPL23MAHqk0\n",
       "xogapMoKMHnTcHGrjldf2ABeU3lHyivoHa3DnnGkB2Nj7l/zPGIQmivQzzcz0Gylo9dIC0kAAARa\n",
       "QZuZSahBbJlMCCn//taMsAAAAwCMOOsAC/4UeEVf6FtW+oUJn9UH5aYNGBQhjPyhEZG1pWxKG7JS\n",
       "SsIs1sh1OneYKR4Ph0tk7uXPXx3nPaE/+I5+Iwn8FI+i4xOE4JE9iCQ7JI2z8CGilVhhzQwS2Ckh\n",
       "er+hngP79t8Gx+tHtNnpTLkOejkbceF6gRPOz7/7dU8NbvDXBQt49vqqLV9I/WOHkrfr61ocQlXE\n",
       "VXpFBGJaBWN+tIJ8h+FL7FbHIKB3J5NEARoAInn2QCPgxdBeUgCShSW8kbntFkTmt46DIJKUbFCL\n",
       "eFQxSql9r94M7pYWt5iv5DyeTBxPB6rfNSuKu5Sf9qCFaxCPEOt77TPr1z06+tWZOPMDR5fcpFbc\n",
       "CqEz3XXiqPfLeJSQ368jLSqRwhfFK29b2CDsQaRUUcoEcXz5nMxf1wCrweOYY0kvT/QkgOo1VEJQ\n",
       "dcsBJQvtc/td1fTP6mAbyM2Ax5JIQKWrr/xb7AhW0dh8PghURN9QSsPR829Aw86ioiX54IL3YmmJ\n",
       "/16CnW44xLxxXIl32OvhJa1wTBs0iKR8pQ5ygnVaQiS4svbWo0UyIIjqOrqGNnsfaGIU1JvSHGUc\n",
       "KlOq9Ys7826YMUZXNcgojI+jKRSgUXn/qBagOKHFcfDA/9aePH94KGIO4Y4yeYPeZbKCYRwjlBsk\n",
       "6z676kbvqbCYw7AuSnBhpGxfZ1mhNSBPgnzNQXYFyPCbITaBOqQo0xugZZIumTV8Cc+mrK3IWHtR\n",
       "rlRN/6h0wMQF+auYdc09MKDRcc5rVrKtDxPvSBdxJyo8xDPdVC2ho0yCUqOuk5LGFv9psK2JMU/c\n",
       "jzn1fIMhux6IYYicEGtCkoOkrKk7vKCkNHL20qjPuE8VO/lIFR84e+fLHpo+5hXSQJKSsTYpDcM0\n",
       "N9FsMaFVI9VJq2mHBL5HdHbDMxZoJdtONkcG5Rc7/bW9sRgZ7L2vBzKmjcB98W/RheEEDXU2QspB\n",
       "ytjiD0QEPqglO/b+1qf4z3xT1IIr9yHsZJ5zRRaDUgwOz8A+v9NXAq/qoJZ7Uc3qSuMUsK5BvFdn\n",
       "X33ZAVfhqRHOJ2buAT8di7HSHt9fY4m7UE17nGrZG1HksJTUBx85oG5QzwHhowNFvTxObv2+TzTM\n",
       "C36Vz1IN3puHSz77jD2EhqBPRBwbivSlZqSux9Dt+vfv+nHcfEcIc7CusRinLMOfaY2qKirESxzm\n",
       "PGq3ySVyhYKmwkzlM6+r3gT1ysPu/6MTodVRT6gkako22vuk0Of4OhLUpEhtaExkC9DCc/JhHzIg\n",
       "iiAxi+4QhcYjGeQwWBOfax+jGTCKUIO2xFKCRtRvXkEI3Q398twLx2AIS89+hEE5vFhdpmrlDs3z\n",
       "oJNK90zxH3jF7IfUcxQT3/28ePE7pGklVwtJgxwf13XqeG/5bWedDIjahQwkTb0tanoRr/wemVpt\n",
       "XCSPemvv2Mhsz8amdCZFP31bQt8ixPoRD42dIMQBVQAAAMBBn7dFFSwQ/wAAAwAAAwM46GAC6rzk\n",
       "nkiWMInRGsV+8dK9amzY1aCL5wLLQX+g4bCcmCOBzNZleT/GoPx8xxSmREB+dIDhGWEnx7Sg26AZ\n",
       "9hYFuuVD38ZCvENFWUh5UeaAvvI63OdJlmMqGn6GhxdpEICjPhfywNB5gbjQUjvYdKI1fdX+2sFK\n",
       "UhM/Kh+sQAm+KIlrCA2Dldu6VvcO0IxUBGTyv2uNnThELg4fwIeSJceybRrmOkPB+3yxWREACZkA\n",
       "AACrAZ/WdEP/AAADAAAHE/MzpUSVIWsYASNvlLEQuZq5CTiX5R65XKqTNcdMQE/0w0s2NebrNMnw\n",
       "MJX9LlvwTXlyepiA0xpUv/b+nFrF2xHgrgel7sxhPdC0nWXMLDcFQwk9GEqId14cbYtdjI25Z6zK\n",
       "aJa72o0cgbj0GS763KRpRjj4gnIGlh96307KoHcSSZaCNgEt02A3XnpLr9dYHLYNdisFcO9WtClW\n",
       "AAXdAAAAoAGf2GpD/wAAAwAABxMIUIjtpa6bxFwnYXVzIRgA1Ym1M40zcmLJo3XfVDAz3hWDBQSB\n",
       "7yhcTN0udzXmq25zuUwyuywrIy7gidKCSf6i0/QHcaH3/HWNmjzvQZmE+yQ+vS9VpFAbk2aT5kKj\n",
       "HKzK7Mijvg2FWaTtD1MrvDOAGQLFfZwCmdlYJ2Us5zTMp4RvWcBb+n5R7qDHJV74AAADAVsAAAIj\n",
       "QZvdSahBbJlMCCn//taMsAAAAwCMOOsAC/VceEde89huXzhZet2Qjdk7t7N7Blq+VHRL3FfbDM58\n",
       "UaGqg2sxZfAtColCjnTMa+tl494D5KwzMKP9bl2od4FQp1DHabE4g+5K+wS/psFAg6loYSrUji+W\n",
       "/DXgBlgA7+DCA3gtpQ2gkVioLzVCsLeQdslp5urLf+Sg9+/um7tLdx+He/Mucfc4spET8wdvfMCU\n",
       "F12jRkcSNWzpwUiaflHtJOZLUp/EGWDzd94u97hYHLkEf/3C3x5ndJgTVh8s6EcYDTKkDNHYbOm0\n",
       "QvoIVHb/B88xqHxv4WejXK1G3FISSNTR5f4K21aSlCVKnIlXGg0r+EGP1EnGpuMv2XAy0Pxda6v1\n",
       "Kx0p5xeGt8mACHBtIY0eCNViIKU/VW7M4vLJ56RAf6wZlWLW0R2S7hHIuMjjFMfac1KClmQgQOJn\n",
       "G0AboHbA2FG/sAblDGo+JFpo/Fdz3RtTaFI3iU6KV+uBM3xEUccNWx+W+jXhPhlxQJR+oeDoM4pV\n",
       "7FlpwVZTSmRRkWT/xnr7NnhPF10AlnHRklt7LYnL2Ucyfhj8syrc71d0goeaIia0p0xeV6m9qj1h\n",
       "C8wMTxTerKHG6EK3b8VitHWOaEIcc67ILGR/276XBJm7Do90wuIk/Yq7pS5xS6gFTlYOUWHVu6Kn\n",
       "N6lYNVe/1b1WQqeesqGbhye3zVz+kNCLeQ43Tn6avgABiwAAAGFBn/tFFSwQ/wAAAwAAAwE0+JiY\n",
       "/vAAH8I1hJQmSmDC7GkZpZMnWDHBKsyykHoalBENGknkOXtN1lGHBt0H8pzk1un+MR8ExHIU8cuL\n",
       "oWcAfWA6J/s5DBE1E5LvID5wAAGhAAAAYAGeGnRD/wAAAwAAAwKypSt838FNQATU2ndqdbaCcqZ3\n",
       "14zwJ7yd6RF5t9Jy4KjZ+2tRwUYRzuL4nhvLX4JqPkFU2vybGhHkAB8IHT5vKdLSOyF/hdQAr/PG\n",
       "2tJqIAATMQAAADYBnhxqQ/8AAAMAAAMCslHVABdUDovZ/qScC/dtNfokyOjrfBEMyrJlI0Zh3vBr\n",
       "JS/GyQAAs4EAAACrQZoBSahBbJlMCCf//rUqgAAAAwAA9CfkyAKDvOxJvrg/slnfD7JSi2qW+nYr\n",
       "7Qmu+UVy32ICQDitBN4yHtnbyfDg5Rghte8VB/WPuGkd6a8YlLUW6QvvBROwuJvpsCT1+d0PCiEi\n",
       "YN1Evpw7N92KtzehMc63WxziZeLhbdUm1FELi8rx1EldYr69CY6QYkc62thWshMz3auR00zyzKws\n",
       "rizEjQLEw1DLYUHHAAAAXEGeP0UVLBD/AAADAAADATHIJMoQ4AA3C1tpuc6jkkvnhOVf673NkBF4\n",
       "VCc8JBcbQWmiYqAVoXK+FsJj14vgj65Z7hDvuSL0W8kHLLXIJVznPPfdYBecrpTMAAWcAAAANgGe\n",
       "XnRD/wAAAwAAAwKybN1MbWADXUIe9YXstYPWnTEFUaps9oQVafCEd6zVqgvWL4usQABKwQAAAE8B\n",
       "nkBqQ/8AAAMAAAMCqcLi/EwSUAHC6HGtkDrMEojnaZqoFR14IhbqhUsm36DysgwZlGOp/BP0eD9A\n",
       "jLg8wQkxldCneqK3GjrSo3d4AAHdAAAAwUGaRUmoQWyZTAgn//61KoAAAAMAAPmivS7k2sygM4AU\n",
       "101X6/I5nJRSat3euVU2ZjouLgStGUbrY6XBfwH+ayTE7oZEfUMFlx4wRcKPn7wzTwNwEUlJE7FB\n",
       "xbOI0GQasVLnmE32VaSlPLSHdjmxXRDcf6SG3hmx0GF8beJDmMliNY+atjj3A2v2BZ/7Oo0w8rd0\n",
       "XXZ1sWN0Lac8Mwz/RXf1mAliD3eP0dfzJZ9AiyNiK7/iuK8WFXi6UQbJixAALyEAAABaQZ5jRRUs\n",
       "EP8AAAMAAAMBNVtn511p4ACU7NBGJ0bY3JYITMEhb4BPh5hoaaiJq3H9ns8p4FdDrbZwLoSsT9Ev\n",
       "pbWPbHcH0u63ucnVfkcYOgUClSoT+EjEAASsAAAAFAGegnRD/wAAAwAAAwDtV8bcAA6ZAAAAQQGe\n",
       "hGpD/wAAAwAAAwKykP8ABFD0GuQtECVO1C9yBCfoVROszgJ5aRzabx8otACQxnkx5FRhAMb0lOfF\n",
       "+j7wAAO7AAAArkGah0moQWyZTBRMFP/+1oywAAADAAA+aKPu3xW4ARDUxhJ3hrHIP8NqgDXS+ZQP\n",
       "cK4GOvesiUzEs8/f+SSOAghXJ5L1u5t+Crifk4PiqUQv+RgUXaqb6nB4ngFjVzpkk7FSEaVY7miB\n",
       "ELE6ZmGyzl8A7H9++36RHdlKuOA1QskT4xsTh4sNP3FxI8gguNo+cW41Nn8enaI0umPu05NE5xt0\n",
       "kOOWSzaLYNFCkAArYQAAAF8BnqZqQ/8AAAMAAAMCqcgs8AE2AEYFyr9oiO1ja4Rd59TpxNn5Ij4x\n",
       "YnAsHQxOPNaCruQXrJJ9a5VTUvGsiEZlQYLcp2ZeLAx2DcPIYxAWfCiX7Dyb6DebXwBYWAAMuQAA\n",
       "AJtBmqtJ4QpSZTAgp//+1oywAAADAAA+aHUv/JgAIyRtYeTCVDJ977qGm6vaMSGy45vIiJc275zN\n",
       "L9O63qO+fujdyDTti3V50jc8x+icJArxS2rkRsBmlGPi7E3rZXXprn91vAycbscRIaVh9CEK8Zgy\n",
       "RKx/A+euqVjGOh4N/+Bv3/o8AYmF37e6USR12WDD7VfWyM3D6+de7wALaAAAAC9BnslFNEwQ/wAA\n",
       "AwAAAwE1Q9DeWDOzjAAGvmk/KWfDSdZSrnJtnpdz4eVQuAAB3QAAAFcBnuh0Q/8AAAMAAAMCqcL6\n",
       "sPa5oARk9X3tJvQv/FNtGcKT30H3ZVN6x7MKYsk/MobPI3wtbenzSACuduqgUNZY81tybtUUBL8u\n",
       "85d+qukek1qEvvAAA7sAAABgAZ7qakP/AAADAAADAqnDBtaLeNABc7BTbHsMbt5dKsUXoFRj7Yom\n",
       "Ltfs1MKZjUrxZGXh1tzMQ9kOUwMjCuqJqs1Ot8pkjN3iTaca55JFJ/RW511yCGY93P7s+8zAAFnA\n",
       "AAAATUGa70moQWiZTAgp//7WjLAAAAMAAD5wWzAAOJ/R2qSrI4ycQMN0127bS4i3YKLFNaBu4KDz\n",
       "d9mEqhJCmOzerrefsF0A2C87BPGMAAF3AAAAeUGfDUURLBD/AAADAAADATHIjLAiFfIA5gxX8Uph\n",
       "crQjQqKPN+VZK+b4mFr9ELydnMJ17ugZiGpPzF/G4g6kZ8m7F1y+fhjk68ogY0GeREDodz1oKRqc\n",
       "vGCDxilHgBL9aVodlUDnyZRUTsM0M5RgKdmUbFcdZIQABqUAAABGAZ8sdEP/AAADAAADArIviwAE\n",
       "SSZrTuG1Gw/nWMUrZ7nJFjLKowfFZ5WPLAR7jEPtX1LgXfCZA90ScKH7kK2XcPy3iAAtoQAAAEUB\n",
       "ny5qQ/8AAAMAAAMCso+6D/M0gAGdbdOcvRJncifd/UsABhP9bA/XMlf0CIcDNzdUGLFfvOGFOihc\n",
       "JvrozHgs34gALaEAAAC3QZszSahBbJlMCCf//rUqgAAAAwACglR8ABO9RHi5K+Z6NiRSUbDCn7Ep\n",
       "rhSV59HR8P51w1UecibwXMp3grbP0+2HdsiQIyqb5fw3nrL45U4VsA9+dK6lrJkkZDgVTWXBWH+w\n",
       "Sl8zgFyedXdY7ncQ9AmucdwqwHKgW7dmoJ0r9KoA2NvIrNl2c99lPpp/lVjBzXzbPj+9o6tJNVFS\n",
       "mS9WAtYNmM9IRViLRmHe//yzWB2tHM7AAGzAAAAAb0GfUUUVLBD/AAADAAADATHHzq1sUCk6gBXp\n",
       "btP7CyYyNJM2JbNNCq4hbLgrSM9oZGoQds6qc/KuHJfk/tN1KriKpAOOAcd8iaHtb4Cy2sqf2Lvu\n",
       "azQg09QWZI2LPWRqIYVCAaTgesVFWSv8AADugAAAAGcBn3B0Q/8AAAMAAAMCqcMTOKffHhcwAfwf\n",
       "HEbF5JUHTScOJJSMLaY4jT9nO7NnJmjIhHep33L0msj0pJYSitdeJbNlHLj5VOnG3VUBvEnEo6ue\n",
       "npL+6O5gNtJFJ+SrG74Na2fgACVhAAAAPQGfcmpD/wAAAwAAAwKykOOADc6L+5YkhG1HUhv3iqHo\n",
       "sFr8iC6VD+kDsbiIRyOoxuoinqUOgIF5wOAAB3QAAACaQZt3SahBbJlMCCf//rUqgAAAAwAA9ByP\n",
       "q0eb4qAHSyg+REt4PU9s7muhurP5AoP0zAEWoR0S2HNs0foELrJm1tzwvpjlwloCy2ePC2kWzWXP\n",
       "4u+GHgYa4xccAHroa/SL4Jk2qPWywrG3pjQgmChm1+Dw7YKWNU9dzZ4NcClqiyHbWsbPyGBOfhvp\n",
       "ahPpFn89yfggarFO8AAS8AAAAC1Bn5VFFSwQ/wAAAwAAAwEx9hoXhQAAHaCOZnHVdBmUv5KELOlV\n",
       "yI32WPEAASsAAABPAZ+0dEP/AAADAAADArJs3U+s7VgBBnJV77fZ7saRZTPipsjdjN/Og9U5g2JX\n",
       "OHMoKufbueyFwBBZjsDRauWyuc9IdYt+tFzlH5ylcAADugAAAGwBn7ZqQ/8AAAMAAAMCsk8Ab3aA\n",
       "Cdu81uSCe2vUngi9LGNmjkM5dy3J2KnMDi3m7n8SOJrYosvUBnk6JSl76v6w6PRXnd7qImd16CgU\n",
       "FIwbI/4FVlZHxLZa/YYR757QKX6TBxxvx8EKQBQABU0AAAB1QZu7SahBbJlMCCf//rUqgAABlNo+\n",
       "AAmbeZAA2WmUIGmkFJ55HdGxG65y/y33eBiz97pvaGesKI5J3vQYmiV7MdmbE6ZYPFXa35FnuioX\n",
       "FSaGVo0eppsmHggUHrpNvNmHdr3NrIrZgKcsb34Uep57jH54ADUhAAAAgUGf2UUVLBD/AAADAAAD\n",
       "ATHKKR1+AALbdBRbc97eBhyW188NWfHlcrURwikVkAXfySOH4CXW81UXbk1F+AQ8yKNMdkXENlkR\n",
       "WthiZ5nppavpoFqvF6uqrvQEbbS9aJ2o2lLeCwMoxEBO5OtnNJmQZq6JtQeZksrDvLvtUgOEtAAM\n",
       "uAAAAD8Bn/h0Q/8AAAMAAAMCsVx7ZMALcvo/ILAE/+RsX45Xmihmc7t9t/X9THL3hMswSxMOXJXv\n",
       "MezdecUEZKIAA1MAAABOAZ/6akP/AAADAAADAqnDEtyDQAjFAvlvfqNjbnfcELOhy04NUVoYHo33\n",
       "A1aoE4w3jdSmsuCoepKjikD6Z0tY/d2GYgEs8iJ5ovXMAAWcAAAAfUGb/0moQWyZTAgl//61KoAA\n",
       "AAMAAPVIhPFgA3ThzfafmLp3Alc1FvdvwIpAvK+MJyvZ+7h9hXpcqSq9soizxKPAKvmjuovL5AiF\n",
       "uqoPAqA1cMvoIE4uCCUS/YiyGquXtj3ciuiw+nnw5QBNu08vfpPrjsfQtuq0P2GAAH+BAAAAO0Ge\n",
       "HUUVLBD/AAADAAADATHJEA/OAAhasuuGYl65g7AIrNg+HeFUW16nxCYwBAh0kCbuGeMt/ebMAAWd\n",
       "AAAAXgGePHRD/wAAAwAAAwKxXkyaYQA4qklCErG8EaNwCatOoOOjZUrSuNR/LGoiLqg5Zr5Dvvse\n",
       "L5llhblV228TCv2RSBkM/Of2YuS6mLHOYtuebPdhh1a7RtXktmAALOAAAABrAZ4+akP/AAADAAAD\n",
       "ArGwBLfOAAXWk/Ljs/hyvJCcdARvYPWsumyJrB2FZVUFEMgCFZ+0/6xZuekE4P+vaKEjQzWNNf/3\n",
       "8ASVsnhmryJrwa8JaAeH3/REJ7qlD9YOdkLBfN9IbmZWD+AAB3QAAABFQZojSahBbJlMCH///qmW\n",
       "AAADAAAHeZFweAC3JujLllMtSUCZnSHLOzHJ1tbFBFhnZ0u5hIKjjPVzrSRCfXX00t+8AAP9AAAA\n",
       "WkGeQUUVLBD/AAADAAADATVkdZYAboiEzx1jr9Jhi46o9uJvdE2IITlQqqQCpEMDgeF0+7jXZoLh\n",
       "8/MbZlXqYPr3fcAC2uWDMT48AVeO31zKCg7bSiVVMwABZwAAAE8BnmB0Q/8AAAMAAAMCsi9qgBGK\n",
       "Bgp1PSGpJAMtfzQMgaIBwbjivqsA9hfed5HYwwan4y53SBg/2lF5mWSTO6JZv0UsoZm06t7/kX2I\n",
       "AC2hAAAAJQGeYmpD/wAAAwAAAwKxW8Xs5DmACCmUzOyCmiSmJ8flqIAA1IAAAAfgbW9vdgAAAGxt\n",
       "dmhkAAAAAAAAAAAAAAAAAAAD6AAATiAAAQAAAQAAAAAAAAAAAAAAAAEAAAAAAAAAAAAAAAAAAAAB\n",
       "AAAAAAAAAAAAAAAAAABAAAAAAAAAAAAAAAAAAAAAAAAAAAAAAAAAAAAAAAAAAgAABwp0cmFrAAAA\n",
       "XHRraGQAAAADAAAAAAAAAAAAAAABAAAAAAAATiAAAAAAAAAAAAAAAAAAAAAAAAEAAAAAAAAAAAAA\n",
       "AAAAAAABAAAAAAAAAAAAAAAAAABAAAAAAogAAAJAAAAAAAAkZWR0cwAAABxlbHN0AAAAAAAAAAEA\n",
       "AE4gAAAQAAABAAAAAAaCbWRpYQAAACBtZGhkAAAAAAAAAAAAAAAAAAAoAAADIABVxAAAAAAALWhk\n",
       "bHIAAAAAAAAAAHZpZGUAAAAAAAAAAAAAAABWaWRlb0hhbmRsZXIAAAAGLW1pbmYAAAAUdm1oZAAA\n",
       "AAEAAAAAAAAAAAAAACRkaW5mAAAAHGRyZWYAAAAAAAAAAQAAAAx1cmwgAAAAAQAABe1zdGJsAAAA\n",
       "tXN0c2QAAAAAAAAAAQAAAKVhdmMxAAAAAAAAAAEAAAAAAAAAAAAAAAAAAAAAAogCQABIAAAASAAA\n",
       "AAAAAAABAAAAAAAAAAAAAAAAAAAAAAAAAAAAAAAAAAAAAAAAAAAAGP//AAAAM2F2Y0MBZAAW/+EA\n",
       "GmdkABas2UCkEnl4QAAAAwBAAAADAoPFi2WAAQAGaOvjyyLAAAAAHHV1aWRraEDyXyRPxbo5pRvP\n",
       "AyPzAAAAAAAAABhzdHRzAAAAAAAAAAEAAABkAAAIAAAAABRzdHNzAAAAAAAAAAEAAAABAAADMGN0\n",
       "dHMAAAAAAAAAZAAAAAEAABAAAAAAAQAAKAAAAAABAAAQAAAAAAEAAAAAAAAAAQAACAAAAAABAAAo\n",
       "AAAAAAEAABAAAAAAAQAAAAAAAAABAAAIAAAAAAEAACgAAAAAAQAAEAAAAAABAAAAAAAAAAEAAAgA\n",
       "AAAAAQAAKAAAAAABAAAQAAAAAAEAAAAAAAAAAQAACAAAAAABAAAoAAAAAAEAABAAAAAAAQAAAAAA\n",
       "AAABAAAIAAAAAAEAACgAAAAAAQAAEAAAAAABAAAAAAAAAAEAAAgAAAAAAQAAKAAAAAABAAAQAAAA\n",
       "AAEAAAAAAAAAAQAACAAAAAABAAAoAAAAAAEAABAAAAAAAQAAAAAAAAABAAAIAAAAAAEAACgAAAAA\n",
       "AQAAEAAAAAABAAAAAAAAAAEAAAgAAAAAAQAAKAAAAAABAAAQAAAAAAEAAAAAAAAAAQAACAAAAAAB\n",
       "AAAoAAAAAAEAABAAAAAAAQAAAAAAAAABAAAIAAAAAAEAABAAAAAAAQAAKAAAAAABAAAQAAAAAAEA\n",
       "AAAAAAAAAQAACAAAAAABAAAoAAAAAAEAABAAAAAAAQAAAAAAAAABAAAIAAAAAAEAACgAAAAAAQAA\n",
       "EAAAAAABAAAAAAAAAAEAAAgAAAAAAQAAKAAAAAABAAAQAAAAAAEAAAAAAAAAAQAACAAAAAABAAAo\n",
       "AAAAAAEAABAAAAAAAQAAAAAAAAABAAAIAAAAAAEAACgAAAAAAQAAEAAAAAABAAAAAAAAAAEAAAgA\n",
       "AAAAAQAAGAAAAAABAAAIAAAAAAEAACgAAAAAAQAAEAAAAAABAAAAAAAAAAEAAAgAAAAAAQAAKAAA\n",
       "AAABAAAQAAAAAAEAAAAAAAAAAQAACAAAAAABAAAoAAAAAAEAABAAAAAAAQAAAAAAAAABAAAIAAAA\n",
       "AAEAACgAAAAAAQAAEAAAAAABAAAAAAAAAAEAAAgAAAAAAQAAKAAAAAABAAAQAAAAAAEAAAAAAAAA\n",
       "AQAACAAAAAABAAAoAAAAAAEAABAAAAAAAQAAAAAAAAABAAAIAAAAAAEAACgAAAAAAQAAEAAAAAAB\n",
       "AAAAAAAAAAEAAAgAAAAAHHN0c2MAAAAAAAAAAQAAAAEAAABkAAAAAQAAAaRzdHN6AAAAAAAAAAAA\n",
       "AABkAADBgQAAAgoAAAAxAAAALwAAABYAAAA/AAAAGgAAABgAAAAWAAABHwAAAB4AAAAcAAAAFgAA\n",
       "AXEAAACMAAAAHAAAABsAAAFxAAAAjwAAAHYAAABoAAABdwAAAB4AAAAWAAAAYQAAAX8AAAB5AAAA\n",
       "YgAAABwAAAIxAAAAwQAAAEgAAACOAAABlgAAAG0AAABTAAAAGwAAAMkAAAAeAAAAFgAAAEMAAADn\n",
       "AAAAHwAAABYAAACAAAAA1gAAAYgAAABvAAAAXAAAAEYAAANrAAAAtQAAAK0AAAC6AAAEXgAAAMQA\n",
       "AACvAAAApAAAAicAAABlAAAAZAAAADoAAACvAAAAYAAAADoAAABTAAAAxQAAAF4AAAAYAAAARQAA\n",
       "ALIAAABjAAAAnwAAADMAAABbAAAAZAAAAFEAAAB9AAAASgAAAEkAAAC7AAAAcwAAAGsAAABBAAAA\n",
       "ngAAADEAAABTAAAAcAAAAHkAAACFAAAAQwAAAFIAAACBAAAAPwAAAGIAAABvAAAASQAAAF4AAABT\n",
       "AAAAKQAAABRzdGNvAAAAAAAAAAEAAAAsAAAAYnVkdGEAAABabWV0YQAAAAAAAAAhaGRscgAAAAAA\n",
       "AAAAbWRpcmFwcGwAAAAAAAAAAAAAAAAtaWxzdAAAACWpdG9vAAAAHWRhdGEAAAABAAAAAExhdmY1\n",
       "Ny44My4xMDA=\n",
       "\">\n",
       "  Your browser does not support the video tag.\n",
       "</video>"
      ],
      "text/plain": [
       "<IPython.core.display.HTML object>"
      ]
     },
     "execution_count": 35,
     "metadata": {},
     "output_type": "execute_result"
    }
   ],
   "source": [
    "HTML(anim.to_html5_video())"
   ]
  }
 ],
 "metadata": {
  "kernelspec": {
   "display_name": "Python 3",
   "language": "python",
   "name": "python3"
  },
  "language_info": {
   "codemirror_mode": {
    "name": "ipython",
    "version": 3
   },
   "file_extension": ".py",
   "mimetype": "text/x-python",
   "name": "python",
   "nbconvert_exporter": "python",
   "pygments_lexer": "ipython3",
   "version": "3.6.3"
  },
  "latex_envs": {
   "LaTeX_envs_menu_present": true,
   "autocomplete": true,
   "bibliofile": "biblio.bib",
   "cite_by": "apalike",
   "current_citInitial": 1,
   "eqLabelWithNumbers": true,
   "eqNumInitial": 1,
   "hotkeys": {
    "equation": "Ctrl-E",
    "itemize": "Ctrl-I"
   },
   "labels_anchors": false,
   "latex_user_defs": false,
   "report_style_numbering": false,
   "user_envs_cfg": false
  }
 },
 "nbformat": 4,
 "nbformat_minor": 2
}
