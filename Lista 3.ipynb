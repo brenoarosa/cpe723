{
 "cells": [
  {
   "cell_type": "markdown",
   "metadata": {},
   "source": [
    "# Lista de Exercícios \\#3\n",
    "## Breno Vieira Arosa"
   ]
  },
  {
   "cell_type": "markdown",
   "metadata": {
    "ExecuteTime": {
     "end_time": "2018-03-21T00:32:18.351636Z",
     "start_time": "2018-03-21T00:32:18.347936Z"
    }
   },
   "source": [
    "## Questão 1"
   ]
  },
  {
   "cell_type": "code",
   "execution_count": 1,
   "metadata": {
    "ExecuteTime": {
     "end_time": "2018-04-04T21:27:21.039860Z",
     "start_time": "2018-04-04T21:27:20.289165Z"
    }
   },
   "outputs": [],
   "source": [
    "import numpy as np\n",
    "\n",
    "#from sklearn.datasets import make_blobs\n",
    "from functools import partial\n",
    "\n",
    "import seaborn as sns\n",
    "import matplotlib.pyplot as plt\n",
    "import matplotlib.gridspec as gridspec"
   ]
  },
  {
   "cell_type": "code",
   "execution_count": 2,
   "metadata": {
    "ExecuteTime": {
     "end_time": "2018-04-04T21:27:21.045166Z",
     "start_time": "2018-04-04T21:27:21.042349Z"
    }
   },
   "outputs": [],
   "source": [
    "plt.rcParams.update({'font.size': 14})"
   ]
  },
  {
   "cell_type": "code",
   "execution_count": 3,
   "metadata": {
    "ExecuteTime": {
     "end_time": "2018-04-04T21:27:21.065659Z",
     "start_time": "2018-04-04T21:27:21.047221Z"
    }
   },
   "outputs": [
    {
     "name": "stdout",
     "output_type": "stream",
     "text": [
      "X = [0 4 6 9]\n"
     ]
    }
   ],
   "source": [
    "X = np.array([0, 4, 6, 9])\n",
    "print(f\"X = {X}\")"
   ]
  },
  {
   "cell_type": "markdown",
   "metadata": {
    "ExecuteTime": {
     "end_time": "2018-03-21T00:32:35.717385Z",
     "start_time": "2018-03-21T00:32:35.714294Z"
    }
   },
   "source": [
    "## 1.a)"
   ]
  },
  {
   "cell_type": "code",
   "execution_count": 4,
   "metadata": {
    "ExecuteTime": {
     "end_time": "2018-04-04T21:27:21.084201Z",
     "start_time": "2018-04-04T21:27:21.067832Z"
    }
   },
   "outputs": [],
   "source": [
    "def calculate_D(X, tresh):\n",
    "    X1 = X[X <= tresh]\n",
    "    X2 = X[X > tresh]\n",
    "    \n",
    "    y1 = X1.mean()\n",
    "    y2 = X2.mean()\n",
    "    \n",
    "    d1 = (X1 - y1)**2\n",
    "    d2 = (X2 - y2)**2\n",
    "    \n",
    "    D = np.hstack((d1, d2))\n",
    "    \n",
    "    return D.mean()"
   ]
  },
  {
   "cell_type": "code",
   "execution_count": 5,
   "metadata": {
    "ExecuteTime": {
     "end_time": "2018-04-04T21:27:21.149783Z",
     "start_time": "2018-04-04T21:27:21.086545Z"
    }
   },
   "outputs": [
    {
     "name": "stderr",
     "output_type": "stream",
     "text": [
      "/home/arosa/.virtualenvs/ml/lib/python3.6/site-packages/ipykernel_launcher.py:5: RuntimeWarning: Mean of empty slice.\n",
      "  \"\"\"\n",
      "/home/arosa/.virtualenvs/ml/lib/python3.6/site-packages/numpy/core/_methods.py:80: RuntimeWarning: invalid value encountered in double_scalars\n",
      "  ret = ret.dtype.type(ret / rcount)\n",
      "/home/arosa/.virtualenvs/ml/lib/python3.6/site-packages/ipykernel_launcher.py:6: RuntimeWarning: Mean of empty slice.\n",
      "  \n"
     ]
    }
   ],
   "source": [
    "# vetoriza o calculo das distancias e passa o vetor X como parametro para todos argumentos de treshold\n",
    "vectorized_calc_D = np.vectorize(partial(calculate_D, X))\n",
    "\n",
    "T = np.arange(-1, 10.01, .01)\n",
    "D = vectorized_calc_D(T)"
   ]
  },
  {
   "cell_type": "code",
   "execution_count": 6,
   "metadata": {
    "ExecuteTime": {
     "end_time": "2018-04-04T21:27:21.398933Z",
     "start_time": "2018-04-04T21:27:21.151731Z"
    }
   },
   "outputs": [
    {
     "data": {
      "image/png": "[encoded data removed]",
      "text/plain": [
       "<Figure size 1080x432 with 1 Axes>"
      ]
     },
     "metadata": {},
     "output_type": "display_data"
    }
   ],
   "source": [
    "plt.figure(figsize=(15, 6))\n",
    "   \n",
    "plt.plot(T, D)\n",
    "\n",
    "plt.xlabel(\"Treshold\")\n",
    "plt.ylabel(\"Custo\")\n",
    "\n",
    "plt.tight_layout()\n",
    "plt.show()"
   ]
  },
  {
   "cell_type": "markdown",
   "metadata": {
    "ExecuteTime": {
     "end_time": "2018-03-21T00:32:35.717385Z",
     "start_time": "2018-03-21T00:32:35.714294Z"
    }
   },
   "source": [
    "## 1.b)"
   ]
  },
  {
   "cell_type": "code",
   "execution_count": 7,
   "metadata": {
    "ExecuteTime": {
     "end_time": "2018-04-04T21:27:21.403956Z",
     "start_time": "2018-04-04T21:27:21.400981Z"
    }
   },
   "outputs": [],
   "source": [
    "y1 = 3.\n",
    "y2 = 3.4\n",
    "T = 1"
   ]
  },
  {
   "cell_type": "code",
   "execution_count": 8,
   "metadata": {
    "ExecuteTime": {
     "end_time": "2018-04-04T21:27:21.431146Z",
     "start_time": "2018-04-04T21:27:21.405724Z"
    }
   },
   "outputs": [
    {
     "name": "stdout",
     "output_type": "stream",
     "text": [
      "p(y|x) =\n",
      "[[0.92824246 0.34524654 0.09621554 0.00956532]\n",
      " [0.07175754 0.65475346 0.90378446 0.99043468]]\n"
     ]
    }
   ],
   "source": [
    "d = np.zeros((2, 4))\n",
    "d[0, :] = (X - y1)**2\n",
    "d[1, :] = (X - y2)**2\n",
    "\n",
    "Z = np.exp(-d / T).sum(axis=0)\n",
    "\n",
    "py_given_x = np.exp(-d / T) / Z\n",
    "\n",
    "print(f\"p(y|x) =\\n{py_given_x}\")"
   ]
  },
  {
   "cell_type": "markdown",
   "metadata": {
    "ExecuteTime": {
     "end_time": "2018-03-21T00:32:35.717385Z",
     "start_time": "2018-03-21T00:32:35.714294Z"
    }
   },
   "source": [
    "## 1.c)"
   ]
  },
  {
   "cell_type": "markdown",
   "metadata": {},
   "source": [
    "Como os elementos de x são equiprováveis temos:\n",
    "\\begin{equation}\n",
    "D = \\sum_x{p(x) \\sum_y{p(y \\mid x) d(x, y)}} \\approx \\frac{1}{N} \\sum_y{p(y \\mid x) d(x, y)}\n",
    "\\end{equation}"
   ]
  },
  {
   "cell_type": "code",
   "execution_count": 9,
   "metadata": {
    "ExecuteTime": {
     "end_time": "2018-04-04T21:27:21.448484Z",
     "start_time": "2018-04-04T21:27:21.432647Z"
    }
   },
   "outputs": [
    {
     "name": "stdout",
     "output_type": "stream",
     "text": [
      "D = 12.036140746369405\n"
     ]
    }
   ],
   "source": [
    "D = (py_given_x * d).sum() / 4\n",
    "print(f\"D = {D}\")"
   ]
  },
  {
   "cell_type": "markdown",
   "metadata": {
    "ExecuteTime": {
     "end_time": "2018-03-21T00:32:35.717385Z",
     "start_time": "2018-03-21T00:32:35.714294Z"
    }
   },
   "source": [
    "## 1.d)"
   ]
  },
  {
   "cell_type": "markdown",
   "metadata": {},
   "source": [
    "\\begin{equation}\n",
    "p(y_i) = \\sum_x{p(x) p(y_i \\mid x)}\n",
    "\\end{equation}\n",
    "\n",
    "\\begin{equation}\n",
    "y_i = \\frac{\\sum_x{x p(x) p(y_i \\mid x)}}{p(y_i)}\n",
    "\\end{equation}\n",
    "\n",
    "Com elementos de x equiprováveis obtemos: \n",
    "\\begin{equation}\n",
    "p(y_i) = \\sum_x{p(y_i \\mid x)}\n",
    "\\end{equation}\n",
    "\n",
    "\\begin{equation}\n",
    "y_i = \\frac{\\sum_x{x p(y_i \\mid x)}}{p(y_i)}\n",
    "\\end{equation}\n"
   ]
  },
  {
   "cell_type": "code",
   "execution_count": 29,
   "metadata": {
    "ExecuteTime": {
     "end_time": "2018-04-04T21:45:17.463914Z",
     "start_time": "2018-04-04T21:45:17.459699Z"
    }
   },
   "outputs": [
    {
     "name": "stdout",
     "output_type": "stream",
     "text": [
      "Valores atualizados de centroides:\n",
      "y1 = 1.4822097827718683\n",
      "y2 = 6.469812534006276\n"
     ]
    }
   ],
   "source": [
    "py = py_given_x.sum(axis=1)\n",
    "Y = (py_given_x * X).sum(axis=1) / py\n",
    "print(\"Valores atualizados de centroides:\")\n",
    "print(f\"y1 = {Y[0]}\\ny2 = {Y[1]}\")"
   ]
  },
  {
   "cell_type": "markdown",
   "metadata": {
    "ExecuteTime": {
     "end_time": "2018-03-21T00:32:35.717385Z",
     "start_time": "2018-03-21T00:32:35.714294Z"
    }
   },
   "source": [
    "## 1.e)"
   ]
  },
  {
   "cell_type": "code",
   "execution_count": 41,
   "metadata": {
    "ExecuteTime": {
     "end_time": "2018-04-04T21:51:35.826282Z",
     "start_time": "2018-04-04T21:51:35.800039Z"
    }
   },
   "outputs": [
    {
     "name": "stdout",
     "output_type": "stream",
     "text": [
      "Condições iniciais:\n",
      "T = 0.1\n",
      "y1 = 3.0\n",
      "y2 = 3.4\n",
      "\n",
      "\n",
      "p(y|x) =\n",
      "[[1.00000000e+00 1.65880108e-03 1.86983638e-10 7.05888391e-21]\n",
      " [7.62186519e-12 9.98341199e-01 1.00000000e+00 1.00000000e+00]]\n",
      "\n",
      "\n",
      "D = 11.870265408282416\n",
      "\n",
      "\n",
      "Valores atualizados de centroides:\n",
      "y1 = 0.006624217182793266\n",
      "y2 = 6.334624225733912\n"
     ]
    }
   ],
   "source": [
    "y1 = 3.\n",
    "y2 = 3.4\n",
    "T = 0.1\n",
    "\n",
    "print(\"Condições iniciais:\")\n",
    "print(f\"T = {T}\\ny1 = {y1}\\ny2 = {y2}\")\n",
    "print(\"\\n\")\n",
    "\n",
    "d = np.zeros((2, 4))\n",
    "d[0, :] = (X - y1)**2\n",
    "d[1, :] = (X - y2)**2\n",
    "\n",
    "Z = np.exp(-d / T).sum(axis=0)\n",
    "\n",
    "py_given_x = np.exp(-d / T) / Z\n",
    "\n",
    "print(f\"p(y|x) =\\n{py_given_x}\")\n",
    "print(\"\\n\")\n",
    "\n",
    "D = (py_given_x * d).sum() / 4\n",
    "print(f\"D = {D}\")\n",
    "print(\"\\n\")\n",
    "\n",
    "py = py_given_x.sum(axis=1)\n",
    "Y = (py_given_x * X).sum(axis=1) / py\n",
    "print(\"Valores atualizados de centroides:\")\n",
    "print(f\"y1 = {Y[0]}\\ny2 = {Y[1]}\")"
   ]
  },
  {
   "cell_type": "markdown",
   "metadata": {
    "ExecuteTime": {
     "end_time": "2018-03-21T00:32:35.717385Z",
     "start_time": "2018-03-21T00:32:35.714294Z"
    }
   },
   "source": [
    "## 1.f)"
   ]
  },
  {
   "cell_type": "code",
   "execution_count": 43,
   "metadata": {
    "ExecuteTime": {
     "end_time": "2018-04-04T21:52:41.844305Z",
     "start_time": "2018-04-04T21:52:41.819494Z"
    }
   },
   "outputs": [
    {
     "name": "stdout",
     "output_type": "stream",
     "text": [
      "Condições iniciais:\n",
      "T = 50\n",
      "y1 = 3.0\n",
      "y2 = 3.4\n",
      "\n",
      "\n",
      "p(y|x) =\n",
      "[[0.5127972  0.49680004 0.48880187 0.47681664]\n",
      " [0.4872028  0.50319996 0.51119813 0.52318336]]\n",
      "\n",
      "\n",
      "D = 13.088134141762028\n",
      "\n",
      "\n",
      "Valores atualizados de centroides:\n",
      "y1 = 4.663470863661966\n",
      "y2 = 4.8344108274785\n"
     ]
    }
   ],
   "source": [
    "y1 = 3.\n",
    "y2 = 3.4\n",
    "T = 50\n",
    "\n",
    "print(\"Condições iniciais:\")\n",
    "print(f\"T = {T}\\ny1 = {y1}\\ny2 = {y2}\")\n",
    "print(\"\\n\")\n",
    "\n",
    "d = np.zeros((2, 4))\n",
    "d[0, :] = (X - y1)**2\n",
    "d[1, :] = (X - y2)**2\n",
    "\n",
    "Z = np.exp(-d / T).sum(axis=0)\n",
    "\n",
    "py_given_x = np.exp(-d / T) / Z\n",
    "\n",
    "print(f\"p(y|x) =\\n{py_given_x}\")\n",
    "print(\"\\n\")\n",
    "\n",
    "D = (py_given_x * d).sum() / 4\n",
    "print(f\"D = {D}\")\n",
    "print(\"\\n\")\n",
    "\n",
    "py = py_given_x.sum(axis=1)\n",
    "Y = (py_given_x * X).sum(axis=1) / py\n",
    "print(\"Valores atualizados de centroides:\")\n",
    "print(f\"y1 = {Y[0]}\\ny2 = {Y[1]}\")"
   ]
  },
  {
   "cell_type": "markdown",
   "metadata": {
    "ExecuteTime": {
     "end_time": "2018-03-21T00:32:35.717385Z",
     "start_time": "2018-03-21T00:32:35.714294Z"
    }
   },
   "source": [
    "## 1.g)"
   ]
  },
  {
   "cell_type": "markdown",
   "metadata": {},
   "source": []
  },
  {
   "cell_type": "code",
   "execution_count": null,
   "metadata": {},
   "outputs": [],
   "source": []
  }
 ],
 "metadata": {
  "kernelspec": {
   "display_name": "Python 3",
   "language": "python",
   "name": "python3"
  },
  "language_info": {
   "codemirror_mode": {
    "name": "ipython",
    "version": 3
   },
   "file_extension": ".py",
   "mimetype": "text/x-python",
   "name": "python",
   "nbconvert_exporter": "python",
   "pygments_lexer": "ipython3",
   "version": "3.6.3"
  }
 },
 "nbformat": 4,
 "nbformat_minor": 2
}
