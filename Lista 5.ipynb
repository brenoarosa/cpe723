{
 "cells": [
  {
   "cell_type": "markdown",
   "metadata": {},
   "source": [
    "# Lista de Exercícios \\#5\n",
    "## Breno Vieira Arosa"
   ]
  },
  {
   "cell_type": "code",
   "execution_count": 1,
   "metadata": {
    "ExecuteTime": {
     "end_time": "2018-05-11T01:47:20.194336Z",
     "start_time": "2018-05-11T01:47:19.262456Z"
    }
   },
   "outputs": [],
   "source": [
    "import numpy as np\n",
    "import pandas as pd\n",
    "from scipy import stats\n",
    "\n",
    "from functools import partial\n",
    "\n",
    "import seaborn as sns\n",
    "import matplotlib.pyplot as plt\n",
    "import matplotlib.gridspec as gridspec"
   ]
  },
  {
   "cell_type": "code",
   "execution_count": 2,
   "metadata": {
    "ExecuteTime": {
     "end_time": "2018-05-11T01:47:20.198871Z",
     "start_time": "2018-05-11T01:47:20.196672Z"
    }
   },
   "outputs": [],
   "source": [
    "plt.rcParams.update({'font.size': 14})"
   ]
  },
  {
   "cell_type": "markdown",
   "metadata": {},
   "source": [
    "## Questão 1"
   ]
  },
  {
   "cell_type": "code",
   "execution_count": 3,
   "metadata": {
    "ExecuteTime": {
     "end_time": "2018-05-11T01:47:20.215062Z",
     "start_time": "2018-05-11T01:47:20.200154Z"
    }
   },
   "outputs": [],
   "source": [
    "def ackley(x):\n",
    "    a = np.sqrt((x**2).mean(axis=1))\n",
    "    b = (np.cos(2 * np.pi * x)).mean(axis=1)\n",
    "    \n",
    "    return -20 * np.exp(-.2 * a) - np.exp(b) + 20 + np.e"
   ]
  },
  {
   "cell_type": "code",
   "execution_count": 4,
   "metadata": {
    "ExecuteTime": {
     "end_time": "2018-05-11T01:47:20.232999Z",
     "start_time": "2018-05-11T01:47:20.216856Z"
    }
   },
   "outputs": [],
   "source": [
    "class EP(object):\n",
    "    \n",
    "    def __init__(self, individual_dimension, population_size, fitness_func):\n",
    "        self.population_size = population_size\n",
    "        self.individual_dimension = individual_dimension\n",
    "        self.fitness_func = fitness_func\n",
    "        \n",
    "        self.population = self.init_population()\n",
    "    \n",
    "    \n",
    "    def init_population(self):\n",
    "        \"\"\"\n",
    "        Initialize population.\n",
    "        \"\"\"\n",
    "        \n",
    "        population = pd.DataFrame()\n",
    "        \n",
    "        #x0 = np.random.normal(loc=0, scale=1, size=(self.population_size, self.individual_dimension))\n",
    "        x0 = np.random.uniform(low=-30, high=30, size=(self.population_size, self.individual_dimension))\n",
    "        sigma0 = 6 * np.ones((self.population_size, self.individual_dimension))\n",
    "        return {\"x\": x0, \"sigma\": sigma0}\n",
    "    \n",
    "    \n",
    "    def evaluate(self, x):\n",
    "        return -self.fitness_func(x)\n",
    "    \n",
    "    \n",
    "    def mutate(self, population, alfa=.2, sigma_eps=0.03):\n",
    "        \"\"\"\n",
    "        Gaussian Mutation - sigma first.\n",
    "        \"\"\"\n",
    "        \n",
    "        n = population[\"x\"].shape[0]\n",
    "        \n",
    "        # one gaussian variable per individual\n",
    "        sigma = population[\"sigma\"] * np.random.normal(loc=1, scale=alfa, size=n).reshape(-1, 1)\n",
    "        sigma[sigma < sigma_eps] = sigma_eps\n",
    "        \n",
    "        x = population[\"x\"] + np.random.normal(loc=0, scale=sigma, size=(n, self.individual_dimension))\n",
    "\n",
    "        \n",
    "        return {\"x\": x, \"sigma\": sigma}\n",
    "\n",
    "    \n",
    "    def natural_selection(self, parents, offspring, q=10):\n",
    "        \"\"\"\n",
    "        Tournament Competition.\n",
    "        \"\"\"\n",
    "        \n",
    "        # union parents and offspring\n",
    "        population = {}\n",
    "        population[\"x\"] = np.vstack((parents[\"x\"], offspring[\"x\"]))\n",
    "        population[\"sigma\"] = np.vstack((parents[\"sigma\"], offspring[\"sigma\"]))\n",
    "        \n",
    "        # caches all fitness values\n",
    "        fitness = self.evaluate(population[\"x\"])\n",
    "        tournament_scores = pd.DataFrame({\"fitness\": fitness, \"wins\": None})\n",
    "        \n",
    "        n = population[\"x\"].shape[0]\n",
    "        \n",
    "        for i in range(n):\n",
    "            # select opponents without selecting itself\n",
    "            possible_opponents = tournament_scores.index[tournament_scores.index != i]\n",
    "            opponents =  np.random.choice(possible_opponents, replace=False, size=q)\n",
    "            \n",
    "            # count how many wins individual have in its group\n",
    "            tournament_scores.loc[i, \"wins\"] = (tournament_scores.loc[i, \"fitness\"] > tournament_scores.loc[opponents, \"fitness\"]).sum()\n",
    "        \n",
    "        most_wins = tournament_scores.nlargest(self.population_size, \"wins\", keep=\"last\")\n",
    "        \n",
    "        x = population[\"x\"][most_wins.index]\n",
    "        sigma = population[\"sigma\"][most_wins.index]\n",
    "        \n",
    "        return {\"x\": x, \"sigma\": sigma}\n",
    "\n",
    "    \n",
    "    def evolve(self):\n",
    "        offspring = self.mutate(self.population)\n",
    "        self.population = self.natural_selection(self.population, offspring)\n",
    "        return"
   ]
  },
  {
   "cell_type": "code",
   "execution_count": 5,
   "metadata": {
    "ExecuteTime": {
     "end_time": "2018-05-11T01:47:20.261970Z",
     "start_time": "2018-05-11T01:47:20.234507Z"
    }
   },
   "outputs": [],
   "source": [
    "ep = EP(30, 100, ackley)"
   ]
  },
  {
   "cell_type": "code",
   "execution_count": 6,
   "metadata": {
    "ExecuteTime": {
     "end_time": "2018-05-11T01:49:14.882798Z",
     "start_time": "2018-05-11T01:47:20.384093Z"
    }
   },
   "outputs": [],
   "source": [
    "N = 500\n",
    "\n",
    "history = np.zeros((N, ep.population_size, ep.individual_dimension))\n",
    "for i in range(N):\n",
    "    history[i, :, :] = ep.population[\"x\"].copy()\n",
    "    ep.evolve()"
   ]
  },
  {
   "cell_type": "code",
   "execution_count": 7,
   "metadata": {
    "ExecuteTime": {
     "end_time": "2018-05-11T01:49:15.190504Z",
     "start_time": "2018-05-11T01:49:14.884700Z"
    }
   },
   "outputs": [
    {
     "data": {
      "image/png": "[encoded data removed]",
      "text/plain": [
       "<Figure size 1080x432 with 1 Axes>"
      ]
     },
     "metadata": {},
     "output_type": "display_data"
    }
   ],
   "source": [
    "history_mean = np.zeros((N))\n",
    "history_min = np.zeros((N))\n",
    "history_max = np.zeros((N))\n",
    "for i in range(N):\n",
    "    fitness = ep.evaluate(history[i, :, :])\n",
    "    fitness.std()\n",
    "    history_mean[i] = fitness.mean()\n",
    "    history_min[i] = fitness.min()\n",
    "    history_max[i] = fitness.max()\n",
    "\n",
    "plt.figure(figsize=(15, 6))\n",
    "\n",
    "#plt.fill_between(np.linspace(0, N-1, N), history_min, history_max, alpha=.2)\n",
    "plt.plot(np.linspace(0, N-1, N), history_mean)\n",
    "\n",
    "plt.ylabel(\"Fitness Médio\")\n",
    "plt.xlabel(\"Geração\")\n",
    "plt.grid(axis=\"y\")\n",
    "plt.tight_layout()\n",
    "plt.show()"
   ]
  },
  {
   "cell_type": "markdown",
   "metadata": {},
   "source": [
    "## Questão 2\n",
    "### Consider using the number of generations as a measure to establish the speed of an EA. Compare the use of this measure with using the number of fitness evaluations."
   ]
  },
  {
   "cell_type": "markdown",
   "metadata": {},
   "source": [
    "O uso de gerações para avaliar a velocidade dos algoritmos evolucionarios não é uma medida confiavél.\n",
    "Isto acontece porque diferentes fatores podem afetar o tempo de execução.\n",
    "Por exemplo, o número de indivíduos, a escolha do algoritmo de seleção de pais, entre outros.\n",
    "Em geral, a availação da função fitness é a parte computacionalmente mais custosa do algoritmo, portanto, o número de avaliações da função fitness se torna uma boa métrica de velocidade para os algoritmos evolucionarios."
   ]
  },
  {
   "cell_type": "markdown",
   "metadata": {},
   "source": [
    "## Questão 3\n",
    "\n",
    "### Give the arguments why mutation strength (e.g., pm or sigma) should be increased during a run. Give arguments why it should be decreased"
   ]
  },
  {
   "cell_type": "markdown",
   "metadata": {},
   "source": [
    "Existem dois conceitos importantes para algoritmos de otimização: \"exploitation\" e \"exploration\".\n",
    "\"Exploration\" representa a capacidade do algoritmo de explorar diferentes regiões e/ou soluções de um problema.\n",
    "Enquanto \"exploitation\" é a concentração das buscas nas regiões de bons resultados conhecidos.\n",
    "\n",
    "Geralmente, a etapa de mutação tem como objetivo aumentar o \"exploration\", forçando o algoritmo a buscar novas soluções.\n",
    "Porém, variações como Programação Evolucionária dependem apenas das mutações para evolução, ficando estas responsáveis também para fase de \"exploitation\".\n",
    "\n",
    "Portanto, o uso de fortes mutações, tanto por pm quanto por sigma, é indicado na fase exploratória do algoritmo.\n",
    "Essa fase normalmente ocupa o início das execuções mas também pode ser utilizada quando se convergir a algum mínimo.\n",
    "A fase de exploração pode ser mais eficientes utilizando baixos valores de mutação.\n",
    "Sendo assim, é interessante se começar o algoritmo com altos valores de mutação e ir decrescendo esses índices a medida que se busca refinar a região de mínimo encontrada."
   ]
  },
  {
   "cell_type": "markdown",
   "metadata": {},
   "source": [
    "## Questão 4"
   ]
  },
  {
   "cell_type": "markdown",
   "metadata": {},
   "source": [
    "A utilização de algoritmos genéticos para clusterização pode ser feita de duas formas:  \n",
    "- Representando os dados por um vetor de números inteiros em que cada número corresponde ao clusters correspondente.\n",
    "- Definindo uma matriz de codebook Y na qual cada linha representa o ponto central de cada cluster.\n",
    "\n",
    "Nessa questão consideraremos a solução referente ao segundo caso.  \n",
    "Para tal, teremos uma matriz X em que cada linha representa um exemplo do conjunto de dados.  \n",
    "Será inicializada a matriz de codebook Y de forma aleatória.  \n",
    "A matriz Y será otimizada pelo algoritmo genético simples de maneira a minimizar a função custo apresentada no problema.  \n",
    "\n",
    "O algoritmo genético simples será composto pelos seguintes blocos:  \n",
    "\n",
    "**Representação:** Como a matriz de codebook representa o pontos centrais dos clusters, está será uma matriz de valores reais de mesma dimensão que a dos dados X.  \n",
    "**Mutação:** A mutação de dados reais pode ser feita substituindo um dos genes de cada indivíduo por um valor sorteado dentro do domínio do problema.  \n",
    "**Recombinação:** É possivel realizar a recombinação aritimética completa na qual dado um par de indivíduos pais geram-se dois indivíduos igual que são a média entre pais selecionados.  \n",
    "**Selecao de pais:** Podemos aplicar a seleção por ranking linear na qual os pais tem probabilidade de sorteio definidas pelo seu fitness. Além disso, o parâmetro \"s\" controla a proporção dessas probabilidades.  \n",
    "**Selecao de sobreviventes:** A seleção de sobreviventes pode ser feita por torneio, pode-se utilizar também o mecanismo de elitismo. No torneio, para cada indivíduo serão selecionados \"q\" competidores e serão contados o número de vitórias de cada indivíduo em seus torneios. Os indivíduos com maior número de vitórias serão selecionados."
   ]
  }
 ],
 "metadata": {
  "kernelspec": {
   "display_name": "Python 3",
   "language": "python",
   "name": "python3"
  },
  "language_info": {
   "codemirror_mode": {
    "name": "ipython",
    "version": 3
   },
   "file_extension": ".py",
   "mimetype": "text/x-python",
   "name": "python",
   "nbconvert_exporter": "python",
   "pygments_lexer": "ipython3",
   "version": "3.6.3"
  }
 },
 "nbformat": 4,
 "nbformat_minor": 2
}
