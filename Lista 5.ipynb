{
 "cells": [
  {
   "cell_type": "markdown",
   "metadata": {},
   "source": [
    "# Lista de Exercícios \\#5\n",
    "## Breno Vieira Arosa"
   ]
  },
  {
   "cell_type": "code",
   "execution_count": 1,
   "metadata": {
    "ExecuteTime": {
     "end_time": "2018-05-07T14:26:23.617367Z",
     "start_time": "2018-05-07T14:26:23.064540Z"
    }
   },
   "outputs": [],
   "source": [
    "import numpy as np\n",
    "import pandas as pd\n",
    "from scipy import stats\n",
    "\n",
    "from functools import partial\n",
    "\n",
    "import seaborn as sns\n",
    "import matplotlib.pyplot as plt\n",
    "import matplotlib.gridspec as gridspec"
   ]
  },
  {
   "cell_type": "code",
   "execution_count": 2,
   "metadata": {
    "ExecuteTime": {
     "end_time": "2018-05-07T14:26:23.622657Z",
     "start_time": "2018-05-07T14:26:23.619949Z"
    }
   },
   "outputs": [],
   "source": [
    "plt.rcParams.update({'font.size': 14})"
   ]
  },
  {
   "cell_type": "markdown",
   "metadata": {},
   "source": [
    "## Questão 1"
   ]
  },
  {
   "cell_type": "code",
   "execution_count": 3,
   "metadata": {
    "ExecuteTime": {
     "end_time": "2018-05-07T14:26:24.106461Z",
     "start_time": "2018-05-07T14:26:24.100792Z"
    }
   },
   "outputs": [],
   "source": [
    "def ackley(x):\n",
    "    a = np.sqrt((x**2).mean(axis=1))\n",
    "    b = (np.cos(2 * np.pi * x)).mean(axis=1)\n",
    "    \n",
    "    return -20 * np.exp(-.2 * a) - np.exp(b) + 20 + np.e"
   ]
  },
  {
   "cell_type": "code",
   "execution_count": 87,
   "metadata": {
    "ExecuteTime": {
     "end_time": "2018-05-07T23:49:23.079104Z",
     "start_time": "2018-05-07T23:49:23.069777Z"
    }
   },
   "outputs": [],
   "source": [
    "class EP(object):\n",
    "    \n",
    "    def __init__(self, individual_dimension, population_size, fitness_func):\n",
    "        self.population_size = population_size\n",
    "        self.individual_dimension = individual_dimension\n",
    "        self.fitness_func = fitness_func\n",
    "        \n",
    "        self.population = self.init_population()\n",
    "    \n",
    "    \n",
    "    def init_population(self):\n",
    "        \"\"\"\n",
    "        Initialize population.\n",
    "        \"\"\"\n",
    "        \n",
    "        population = pd.DataFrame()\n",
    "        \n",
    "        #x0 = np.random.normal(loc=0, scale=1, size=(self.population_size, self.individual_dimension))\n",
    "        x0 = np.random.uniform(low=-30, high=30, size=(self.population_size, self.individual_dimension))\n",
    "        sigma0 = np.random.uniform(low=0, high=1, size=(self.population_size, self.individual_dimension))\n",
    "        return {\"x\": x0, \"sigma\": sigma0}\n",
    "    \n",
    "    \n",
    "    def evaluate(self, x):\n",
    "        return -self.fitness_func(x)\n",
    "    \n",
    "    \n",
    "    def mutate(self, population, alfa=.2, sigma_eps=0.03):\n",
    "        \"\"\"\n",
    "        Gaussian Mutation - sigma first.\n",
    "        \"\"\"\n",
    "        \n",
    "        n = population[\"x\"].shape[0]\n",
    "        \n",
    "        # one gaussian variable per individual\n",
    "        sigma = population[\"sigma\"] * np.random.normal(loc=1, scale=alfa, size=n).reshape(-1, 1)\n",
    "        sigma[sigma < sigma_eps] = sigma_eps\n",
    "        \n",
    "        x = population[\"x\"] + np.random.normal(loc=0, scale=sigma, size=(n, self.individual_dimension))\n",
    "\n",
    "        \n",
    "        return {\"x\": x, \"sigma\": sigma}\n",
    "\n",
    "    \n",
    "    def natural_selection(self, parents, offspring, q=10):\n",
    "        \"\"\"\n",
    "        Tournament Competition.\n",
    "        \"\"\"\n",
    "        \n",
    "        # union parents and offspring\n",
    "        population = {}\n",
    "        population[\"x\"] = np.vstack((parents[\"x\"], offspring[\"x\"]))\n",
    "        population[\"sigma\"] = np.vstack((parents[\"sigma\"], offspring[\"sigma\"]))\n",
    "        \n",
    "        # caches all fitness values\n",
    "        fitness = self.evaluate(population[\"x\"])\n",
    "        tournament_scores = pd.DataFrame({\"fitness\": fitness, \"wins\": None})\n",
    "        \n",
    "        n = population[\"x\"].shape[0]\n",
    "        \n",
    "        for i in range(n):\n",
    "            # select opponents without selecting itself\n",
    "            possible_opponents = tournament_scores.index[tournament_scores.index != i]\n",
    "            opponents =  np.random.choice(possible_opponents, replace=False, size=q)\n",
    "            \n",
    "            # count how many wins individual have in its group\n",
    "            tournament_scores.loc[i, \"wins\"] = (tournament_scores.loc[i, \"fitness\"] > tournament_scores.loc[opponents, \"fitness\"]).sum()\n",
    "        \n",
    "        most_wins = tournament_scores.nlargest(self.population_size, \"wins\", keep=\"last\")\n",
    "        \n",
    "        x = population[\"x\"][most_wins.index]\n",
    "        sigma = population[\"sigma\"][most_wins.index]\n",
    "        \n",
    "        return {\"x\": x, \"sigma\": sigma}\n",
    "\n",
    "    \n",
    "    def evolve(self):\n",
    "        offspring = self.mutate(self.population)\n",
    "        self.population = self.natural_selection(self.population, offspring)\n",
    "        return"
   ]
  },
  {
   "cell_type": "code",
   "execution_count": null,
   "metadata": {},
   "outputs": [],
   "source": []
  },
  {
   "cell_type": "code",
   "execution_count": 91,
   "metadata": {
    "ExecuteTime": {
     "end_time": "2018-05-08T03:30:36.160542Z",
     "start_time": "2018-05-08T03:30:36.156332Z"
    }
   },
   "outputs": [],
   "source": [
    "ep = EP(30, 1000, ackley)"
   ]
  },
  {
   "cell_type": "code",
   "execution_count": 92,
   "metadata": {
    "ExecuteTime": {
     "end_time": "2018-05-08T03:50:23.123698Z",
     "start_time": "2018-05-08T03:30:36.518669Z"
    }
   },
   "outputs": [],
   "source": [
    "N = 500\n",
    "\n",
    "history = np.zeros((N, ep.population_size, ep.individual_dimension))\n",
    "for i in range(N):\n",
    "    history[i, :, :] = ep.population[\"x\"].copy()\n",
    "    ep.evolve()"
   ]
  },
  {
   "cell_type": "code",
   "execution_count": 93,
   "metadata": {
    "ExecuteTime": {
     "end_time": "2018-05-08T03:50:23.829847Z",
     "start_time": "2018-05-08T03:50:23.125829Z"
    }
   },
   "outputs": [
    {
     "data": {
      "image/png": "[encoded data removed]",
      "text/plain": [
       "<Figure size 1080x432 with 1 Axes>"
      ]
     },
     "metadata": {},
     "output_type": "display_data"
    }
   ],
   "source": [
    "history_mean = np.zeros((N))\n",
    "history_min = np.zeros((N))\n",
    "history_max = np.zeros((N))\n",
    "for i in range(N):\n",
    "    fitness = es.evaluate(history[i, :, :])\n",
    "    fitness.std()\n",
    "    history_mean[i] = fitness.mean()\n",
    "    history_min[i] = fitness.min()\n",
    "    history_max[i] = fitness.max()\n",
    "\n",
    "plt.figure(figsize=(15, 6))\n",
    "\n",
    "#plt.fill_between(np.linspace(0, N-1, N), history_min, history_max, alpha=.2)\n",
    "plt.plot(np.linspace(0, N-1, N), history_mean)\n",
    "\n",
    "plt.ylabel(\"Fitness Médio\")\n",
    "plt.xlabel(\"Geração\")\n",
    "plt.grid(axis=\"y\")\n",
    "plt.tight_layout()\n",
    "plt.show()"
   ]
  },
  {
   "cell_type": "code",
   "execution_count": 82,
   "metadata": {
    "ExecuteTime": {
     "end_time": "2018-05-07T23:28:47.978873Z",
     "start_time": "2018-05-07T23:28:47.973250Z"
    }
   },
   "outputs": [
    {
     "data": {
      "text/plain": [
       "array([-6.16411768e-03,  1.99402078e+00,  4.98692991e+00,  7.98240214e+00,\n",
       "       -3.00025470e+00, -1.22026750e-02, -6.98556801e+00,  3.99711052e+00,\n",
       "       -4.98399549e+00, -1.00308697e+00,  7.98553778e+00,  9.90155707e-01,\n",
       "        6.86343683e-03,  4.99250261e+00, -1.99023063e+00,  2.99030717e+00,\n",
       "       -3.50839114e-03, -3.97074302e+00, -9.86919104e-01, -9.95970636e-01,\n",
       "        1.00124122e+00,  9.99403764e+00,  8.73512902e-03, -2.29479236e+01,\n",
       "        6.83732629e-03,  1.99317394e+00, -9.94759354e-01,  2.99368968e+00,\n",
       "        7.89752016e-04, -4.99739870e+00])"
      ]
     },
     "execution_count": 82,
     "metadata": {},
     "output_type": "execute_result"
    }
   ],
   "source": [
    "ep.population[\"x\"].mean(axis=0)"
   ]
  },
  {
   "cell_type": "markdown",
   "metadata": {},
   "source": [
    "## Questão 2\n",
    "### Consider using the number of generations as a measure to establish the speed of an EA. Compare the use of this measure with using the number of fitness evaluations."
   ]
  },
  {
   "cell_type": "markdown",
   "metadata": {},
   "source": [
    "O uso de gerações para avaliar a velocidade dos algoritmos evolucionarios não é uma medida confiavél.\n",
    "Isto acontece porque diferentes fatores podem afetar o tempo de execução.\n",
    "Por exemplo, o número de indivíduos, a escolha do algoritmo de seleção de pais, entre outros.\n",
    "Em geral, a availação da função fitness é a parte computacionalmente mais custosa do algoritmo, portanto, o número de avaliações da função fitness se torna uma boa métrica de velocidade para os algoritmos evolucionarios."
   ]
  },
  {
   "cell_type": "markdown",
   "metadata": {},
   "source": [
    "## Questão 3\n",
    "\n",
    "### Give the arguments why mutation strength (e.g., pm or sigma) should be increased during a run. Give arguments why it should be decreased"
   ]
  },
  {
   "cell_type": "markdown",
   "metadata": {},
   "source": [
    "Existem dois conceitos importantes para algoritmos de otimização: \"exploitation\" e \"exploration\".\n",
    "\"Exploration\" representa a capacidade do algoritmo de explorar diferentes regiões e/ou soluções de um problema.\n",
    "Enquanto \"exploitation\" é a concentração das buscas nas regiões de bons resultados conhecidos.\n",
    "\n",
    "Geralmente, a etapa de mutação tem como objetivo aumentar o \"exploration\", forçando o algoritmo a buscar novas soluções.\n",
    "Porém, variações como Programação Evolucionária dependem apenas das mutações para evolução, ficando estas responsáveis também para fase de \"exploitation\".\n",
    "\n",
    "Portanto, o uso de fortes mutações, tanto por pm quanto por sigma, é indicado na fase exploratória do algoritmo.\n",
    "Essa fase normalmente ocupa o início das execuções mas também pode ser utilizada quando se convergir a algum mínimo.\n",
    "A fase de exploração pode ser mais eficientes utilizando baixos valores de mutação.\n",
    "Sendo assim, é interessante se começar o algoritmo com altos valores de mutação e ir decrescendo esses índices a medida que se busca refinar a região de mínimo encontrada."
   ]
  },
  {
   "cell_type": "code",
   "execution_count": null,
   "metadata": {},
   "outputs": [],
   "source": []
  },
  {
   "cell_type": "code",
   "execution_count": null,
   "metadata": {},
   "outputs": [],
   "source": [
    "class SGA(object):\n",
    "    \n",
    "    def __init__(self, binary_size, population_size,\n",
    "                 fitness_func, mutation_rate):\n",
    "        self.binary_size = binary_size\n",
    "        self.population_size = population_size\n",
    "        self.fitness_func = fitness_func\n",
    "        self.mutation_rate = mutation_rate\n",
    "        \n",
    "        self.population = self.init_population()\n",
    "    \n",
    "    \n",
    "    def repr_str2matrix(self, population):\n",
    "        \"\"\"\n",
    "        Represent population as a 2D matrix.\n",
    "        \"\"\"\n",
    "        arr = np.zeros((len(population), self.binary_size)).astype(\"uint8\")\n",
    "        for i, x in enumerate(sga.population):\n",
    "            arr[i, :] = np.array(list(x)).astype(\"uint8\")\n",
    "        return arr\n",
    "    \n",
    "    \n",
    "    def repr_matrix2str(self, population):\n",
    "        \"\"\"\n",
    "        Represent population as a vector of binary strings.\n",
    "        \"\"\"\n",
    "        population = population.astype(int)\n",
    "        matrix2str = lambda x: \"\".join(map(str, x))\n",
    "        return np.apply_along_axis(matrix2str, axis=1, arr=population)\n",
    "    \n",
    "    \n",
    "    def init_population(self):\n",
    "        \"\"\"\n",
    "        Initialize binary vectors.\n",
    "        \"\"\"\n",
    "        x0 = np.random.randint(low=0, high=2,\n",
    "                               size=(self.population_size, self.binary_size),\n",
    "                               dtype=\"uint8\")\n",
    "        return x0\n",
    "    \n",
    "    \n",
    "    def evaluate(self, population):\n",
    "        return self.fitness_func(population)\n",
    "    \n",
    "    \n",
    "    def mutate(self, rate):\n",
    "        \"\"\"\n",
    "        Bitwise Mutation.\n",
    "        \n",
    "        Mutate bits with given rate.\n",
    "        \"\"\"\n",
    "        population = self.population.copy().astype(bool)\n",
    "        mutation_rand = np.random.uniform(size=(self.population_size, self.binary_size))\n",
    "        \n",
    "        # invert bit if random sample < mutation rate\n",
    "        population[mutation_rand < rate] = ~population[mutation_rand < rate]\n",
    "        return population.astype(\"uint8\")\n",
    "    \n",
    "    \n",
    "    def recombine(self, parents):\n",
    "        \"\"\"\n",
    "        One-Point Crossover.\n",
    "        \n",
    "        The formation of pairs are randomized.\n",
    "        100% children are formed from recombination (crossover rate = 1).\n",
    "        The point of crossover is randomized for each pair.\n",
    "        Two children are created per pair of parents.\n",
    "        \"\"\"\n",
    "        \n",
    "        # shuffle parents before form pairs\n",
    "        parents = parents.copy()\n",
    "        np.random.shuffle(parents)\n",
    "        \n",
    "        # form pairs of parents\n",
    "        parents = parents.reshape(-1, 2, self.binary_size)\n",
    "                \n",
    "        # defines the multiplier pattern to match crossover\n",
    "        cross_multiplier = np.ones((parents.shape[0], 2, self.binary_size), dtype=\"uint8\")\n",
    "        for i in range(parents.shape[0]):\n",
    "            # defines the point of crossover\n",
    "            # there is no crossover if point equals 0 or (binary_size-1)\n",
    "            cross_idx = np.random.randint(low=1, high=(self.binary_size - 2))\n",
    "            cross_multiplier[i, 0, cross_idx:self.binary_size] = 0\n",
    "            cross_multiplier[i, 1, 0:cross_idx] = 0\n",
    "        \n",
    "        # multipliers parent pairs by crossover pattern and anti-pattern\n",
    "        # developing the same number of children as parents\n",
    "        children_top = (parents * cross_multiplier).sum(axis=1)\n",
    "        children_bot = (parents * (~cross_multiplier.astype(bool)).astype(\"uint8\")).sum(axis=1)\n",
    "        children = np.vstack((children_top, children_bot))\n",
    "        \n",
    "        return children\n",
    "\n",
    "                             \n",
    "    def parent_selection(self, s=1.5):\n",
    "        \"\"\"\n",
    "        Generational model.\n",
    "        Linear Ranking Selection with Roullete Wheel probabilities.\n",
    "        \"\"\"\n",
    "        \n",
    "        fitness = self.evaluate(self.population)\n",
    "        rank = stats.rankdata(fitness, \"ordinal\")\n",
    "        u = self.population_size     \n",
    "        \n",
    "        p = ((2 - s) / u) + ((2 * rank * (s-1)) / (u * (u - 1)))\n",
    "        p = p / p.sum()\n",
    "        \n",
    "        select_idx = np.random.choice(np.linspace(0, (u-1), u),\n",
    "                                      size=self.population_size,\n",
    "                                      replace=True, p=p).astype(int)\n",
    "\n",
    "        return self.population[select_idx, :]\n",
    "\n",
    "    \n",
    "    def natural_selection(self, parents, children, s=1.5):\n",
    "        \"\"\"\n",
    "        Fitness-Based Replacement.\n",
    "        Linear Ranking Selection with Roullete Wheel probabilities\n",
    "        \"\"\"\n",
    "        population = np.concatenate((parents, children))\n",
    "        \n",
    "        fitness = self.evaluate(population)\n",
    "        rank = stats.rankdata(fitness, \"ordinal\")\n",
    "        u = len(population)   \n",
    "        \n",
    "        p = ((2 - s) / u) + ((2 * rank * (s-1)) / (u * (u - 1)))\n",
    "        p = p / p.sum()\n",
    "        \n",
    "        select_idx = np.random.choice(np.linspace(0, (u-1), u),\n",
    "                                      size=self.population_size,\n",
    "                                      replace=True, p=p).astype(int)\n",
    "        \n",
    "        return population[select_idx, :]\n",
    "\n",
    "    \n",
    "    def evolve(self):\n",
    "        parents = self.parent_selection(s=1.5)\n",
    "        offspring = self.recombine(parents)\n",
    "        offspring = self.mutate(self.mutation_rate)\n",
    "        self.population = self.natural_selection(parents, offspring, s=1.5)\n",
    "        return"
   ]
  }
 ],
 "metadata": {
  "kernelspec": {
   "display_name": "Python 3",
   "language": "python",
   "name": "python3"
  },
  "language_info": {
   "codemirror_mode": {
    "name": "ipython",
    "version": 3
   },
   "file_extension": ".py",
   "mimetype": "text/x-python",
   "name": "python",
   "nbconvert_exporter": "python",
   "pygments_lexer": "ipython3",
   "version": "3.6.3"
  }
 },
 "nbformat": 4,
 "nbformat_minor": 2
}
